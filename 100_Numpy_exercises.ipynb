{
 "cells": [
  {
   "cell_type": "markdown",
   "id": "6293cc50",
   "metadata": {},
   "source": [
    "# 100 numpy exercises\n",
    "\n",
    "This is a collection of exercises that have been collected in the numpy mailing list, on stack overflow\n",
    "and in the numpy documentation. The goal of this collection is to offer a quick reference for both old\n",
    "and new users but also to provide a set of exercises for those who teach.\n",
    "\n",
    "\n",
    "If you find an error or think you've a better way to solve some of them, feel\n",
    "free to open an issue at <https://github.com/rougier/numpy-100>."
   ]
  },
  {
   "cell_type": "markdown",
   "id": "a167c052",
   "metadata": {},
   "source": [
    "File automatically generated. See the documentation to update questions/answers/hints programmatically."
   ]
  },
  {
   "cell_type": "markdown",
   "id": "57fc0ee5",
   "metadata": {},
   "source": [
    "Run the `initialize.py` module, then for each question you can query the\n",
    "answer or an hint with `hint(n)` or `answer(n)` for `n` question number."
   ]
  },
  {
   "cell_type": "code",
   "execution_count": 1,
   "id": "3d46fba2",
   "metadata": {},
   "outputs": [],
   "source": [
    "%run initialise.py"
   ]
  },
  {
   "cell_type": "markdown",
   "id": "3c1222ff",
   "metadata": {},
   "source": [
    "#### 1. Import the numpy package under the name `np` (★☆☆)"
   ]
  },
  {
   "cell_type": "code",
   "execution_count": 2,
   "id": "f52e6a0b",
   "metadata": {},
   "outputs": [],
   "source": [
    "import numpy as np"
   ]
  },
  {
   "cell_type": "code",
   "execution_count": 7,
   "id": "102dcc1b",
   "metadata": {},
   "outputs": [
    {
     "name": "stdout",
     "output_type": "stream",
     "text": [
      "import numpy as np\n"
     ]
    }
   ],
   "source": [
    "answer(1)"
   ]
  },
  {
   "cell_type": "markdown",
   "id": "9d9f4753",
   "metadata": {},
   "source": [
    "#### 2. Print the numpy version and the configuration (★☆☆)"
   ]
  },
  {
   "cell_type": "code",
   "execution_count": 8,
   "id": "b7fa5fa1",
   "metadata": {},
   "outputs": [
    {
     "data": {
      "text/plain": [
       "'2.0.0'"
      ]
     },
     "execution_count": 8,
     "metadata": {},
     "output_type": "execute_result"
    }
   ],
   "source": [
    "np.__version__"
   ]
  },
  {
   "cell_type": "code",
   "execution_count": 9,
   "id": "2065cbe1",
   "metadata": {},
   "outputs": [
    {
     "name": "stdout",
     "output_type": "stream",
     "text": [
      "print(np.__version__)\n",
      "np.show_config()\n"
     ]
    }
   ],
   "source": [
    "answer(2)"
   ]
  },
  {
   "cell_type": "markdown",
   "id": "3e4c23c6",
   "metadata": {},
   "source": [
    "#### 3. Create a null vector of size 10 (★☆☆)"
   ]
  },
  {
   "cell_type": "code",
   "execution_count": 10,
   "id": "083c5c46",
   "metadata": {},
   "outputs": [
    {
     "data": {
      "text/plain": [
       "array([0., 0., 0., 0., 0., 0., 0., 0., 0., 0.])"
      ]
     },
     "execution_count": 10,
     "metadata": {},
     "output_type": "execute_result"
    }
   ],
   "source": [
    "np.zeros(10)"
   ]
  },
  {
   "cell_type": "code",
   "execution_count": 11,
   "id": "794ffd49",
   "metadata": {},
   "outputs": [
    {
     "name": "stdout",
     "output_type": "stream",
     "text": [
      "Z = np.zeros(10)\n",
      "print(Z)\n"
     ]
    }
   ],
   "source": [
    "answer(3)"
   ]
  },
  {
   "cell_type": "markdown",
   "id": "c38bbe82",
   "metadata": {},
   "source": [
    "#### *4. How to find the memory size of any array (★☆☆)"
   ]
  },
  {
   "cell_type": "code",
   "execution_count": 15,
   "id": "02b04021",
   "metadata": {},
   "outputs": [],
   "source": [
    "A = np.eye(5)"
   ]
  },
  {
   "cell_type": "code",
   "execution_count": 16,
   "id": "ad2e895e",
   "metadata": {},
   "outputs": [
    {
     "name": "stdout",
     "output_type": "stream",
     "text": [
      "200\n",
      "200\n"
     ]
    }
   ],
   "source": [
    "print(A.size * A.itemsize)\n",
    "print(A.nbytes)"
   ]
  },
  {
   "cell_type": "code",
   "execution_count": 13,
   "id": "14445ff8",
   "metadata": {},
   "outputs": [
    {
     "name": "stdout",
     "output_type": "stream",
     "text": [
      "Z = np.zeros((10,10))\n",
      "print(\"%d bytes\" % (Z.size * Z.itemsize))\n"
     ]
    }
   ],
   "source": [
    "answer(4)"
   ]
  },
  {
   "cell_type": "markdown",
   "id": "67f893d4",
   "metadata": {},
   "source": [
    "#### *5. How to get the documentation of the numpy add function from the command line? (★☆☆)"
   ]
  },
  {
   "cell_type": "code",
   "execution_count": 25,
   "id": "1c2d3a76",
   "metadata": {},
   "outputs": [
    {
     "name": "stdout",
     "output_type": "stream",
     "text": [
      "add(x1, x2, /, out=None, *, where=True, casting='same_kind', order='K', dtype=None, subok=True[, signature])\n",
      "\n",
      "Add arguments element-wise.\n",
      "\n",
      "Parameters\n",
      "----------\n",
      "x1, x2 : array_like\n",
      "    The arrays to be added.\n",
      "    If ``x1.shape != x2.shape``, they must be broadcastable to a common\n",
      "    shape (which becomes the shape of the output).\n",
      "out : ndarray, None, or tuple of ndarray and None, optional\n",
      "    A location into which the result is stored. If provided, it must have\n",
      "    a shape that the inputs broadcast to. If not provided or None,\n",
      "    a freshly-allocated array is returned. A tuple (possible only as a\n",
      "    keyword argument) must have length equal to the number of outputs.\n",
      "where : array_like, optional\n",
      "    This condition is broadcast over the input. At locations where the\n",
      "    condition is True, the `out` array will be set to the ufunc result.\n",
      "    Elsewhere, the `out` array will retain its original value.\n",
      "    Note that if an uninitialized `out` array is created via the default\n",
      "    ``out=None``, locations within it where the condition is False will\n",
      "    remain uninitialized.\n",
      "**kwargs\n",
      "    For other keyword-only arguments, see the\n",
      "    :ref:`ufunc docs <ufuncs.kwargs>`.\n",
      "\n",
      "Returns\n",
      "-------\n",
      "add : ndarray or scalar\n",
      "    The sum of `x1` and `x2`, element-wise.\n",
      "    This is a scalar if both `x1` and `x2` are scalars.\n",
      "\n",
      "Notes\n",
      "-----\n",
      "Equivalent to `x1` + `x2` in terms of array broadcasting.\n",
      "\n",
      "Examples\n",
      "--------\n",
      ">>> np.add(1.0, 4.0)\n",
      "5.0\n",
      ">>> x1 = np.arange(9.0).reshape((3, 3))\n",
      ">>> x2 = np.arange(3.0)\n",
      ">>> np.add(x1, x2)\n",
      "array([[  0.,   2.,   4.],\n",
      "       [  3.,   5.,   7.],\n",
      "       [  6.,   8.,  10.]])\n",
      "\n",
      "The ``+`` operator can be used as a shorthand for ``np.add`` on ndarrays.\n",
      "\n",
      ">>> x1 = np.arange(9.0).reshape((3, 3))\n",
      ">>> x2 = np.arange(3.0)\n",
      ">>> x1 + x2\n",
      "array([[ 0.,  2.,  4.],\n",
      "       [ 3.,  5.,  7.],\n",
      "       [ 6.,  8., 10.]])\n"
     ]
    }
   ],
   "source": [
    "np.info(np.add)"
   ]
  },
  {
   "cell_type": "code",
   "execution_count": 23,
   "id": "2646fd71",
   "metadata": {},
   "outputs": [
    {
     "name": "stdout",
     "output_type": "stream",
     "text": [
      "%run `python -c \"import numpy; numpy.info(numpy.add)\"`\n"
     ]
    }
   ],
   "source": [
    "answer(5)"
   ]
  },
  {
   "cell_type": "markdown",
   "id": "e0c739c6",
   "metadata": {},
   "source": [
    "#### 6. Create a null vector of size 10 but the fifth value which is 1 (★☆☆)"
   ]
  },
  {
   "cell_type": "code",
   "execution_count": 28,
   "id": "bcceacf7",
   "metadata": {},
   "outputs": [
    {
     "name": "stdout",
     "output_type": "stream",
     "text": [
      "[0. 0. 0. 0. 1. 0. 0. 0. 0. 0.]\n"
     ]
    }
   ],
   "source": [
    "Z = np.zeros(10)\n",
    "Z[4] = 1\n",
    "print(Z)"
   ]
  },
  {
   "cell_type": "code",
   "execution_count": 27,
   "id": "34eae02d",
   "metadata": {},
   "outputs": [
    {
     "name": "stdout",
     "output_type": "stream",
     "text": [
      "Z = np.zeros(10)\n",
      "Z[4] = 1\n",
      "print(Z)\n"
     ]
    }
   ],
   "source": [
    "answer(6)"
   ]
  },
  {
   "cell_type": "markdown",
   "id": "fbebedab",
   "metadata": {},
   "source": [
    "#### 7. Create a vector with values ranging from 10 to 49 (★☆☆)"
   ]
  },
  {
   "cell_type": "code",
   "execution_count": 33,
   "id": "3d117d54",
   "metadata": {},
   "outputs": [
    {
     "name": "stdout",
     "output_type": "stream",
     "text": [
      "[10 11 12 13 14 15 16 17 18 19 20 21 22 23 24 25 26 27 28 29 30 31 32 33\n",
      " 34 35 36 37 38 39 40 41 42 43 44 45 46 47 48 49]\n"
     ]
    }
   ],
   "source": [
    "Z = np.arange(10, 50)\n",
    "print(Z)"
   ]
  },
  {
   "cell_type": "code",
   "execution_count": 30,
   "id": "49626ea5",
   "metadata": {},
   "outputs": [
    {
     "name": "stdout",
     "output_type": "stream",
     "text": [
      "Z = np.arange(10,50)\n",
      "print(Z)\n"
     ]
    }
   ],
   "source": [
    "answer(7)"
   ]
  },
  {
   "cell_type": "markdown",
   "id": "ad0bff02",
   "metadata": {},
   "source": [
    "#### 8. Reverse a vector (first element becomes last) (★☆☆)"
   ]
  },
  {
   "cell_type": "code",
   "execution_count": 36,
   "id": "22d23470",
   "metadata": {},
   "outputs": [
    {
     "data": {
      "text/plain": [
       "array([49, 48, 47, 46, 45, 44, 43, 42, 41, 40, 39, 38, 37, 36, 35, 34, 33,\n",
       "       32, 31, 30, 29, 28, 27, 26, 25, 24, 23, 22, 21, 20, 19, 18, 17, 16,\n",
       "       15, 14, 13, 12, 11, 10])"
      ]
     },
     "execution_count": 36,
     "metadata": {},
     "output_type": "execute_result"
    }
   ],
   "source": [
    "Z[::-1]"
   ]
  },
  {
   "cell_type": "code",
   "execution_count": 37,
   "id": "db2c4721",
   "metadata": {},
   "outputs": [
    {
     "name": "stdout",
     "output_type": "stream",
     "text": [
      "Z = np.arange(50)\n",
      "Z = Z[::-1]\n",
      "print(Z)\n"
     ]
    }
   ],
   "source": [
    "answer(8)"
   ]
  },
  {
   "cell_type": "markdown",
   "id": "9f59d7e1",
   "metadata": {},
   "source": [
    "#### *9. Create a 3x3 matrix with values ranging from 0 to 8 (★☆☆)"
   ]
  },
  {
   "cell_type": "code",
   "execution_count": 43,
   "id": "7449e82d",
   "metadata": {},
   "outputs": [
    {
     "name": "stdout",
     "output_type": "stream",
     "text": [
      "[[0 1 2]\n",
      " [3 4 5]\n",
      " [6 7 8]]\n"
     ]
    }
   ],
   "source": [
    "Z = np.arange(9).reshape(3, 3)\n",
    "print(Z)"
   ]
  },
  {
   "cell_type": "code",
   "execution_count": 41,
   "id": "7cf16cf9",
   "metadata": {},
   "outputs": [
    {
     "name": "stdout",
     "output_type": "stream",
     "text": [
      "Z = np.arange(9).reshape(3, 3)\n",
      "print(Z)\n"
     ]
    }
   ],
   "source": [
    "answer(9)"
   ]
  },
  {
   "cell_type": "markdown",
   "id": "f374c4cf",
   "metadata": {},
   "source": [
    "#### *10. Find indices of non-zero elements from [1,2,0,0,4,0] (★☆☆)"
   ]
  },
  {
   "cell_type": "code",
   "execution_count": 49,
   "id": "1a84bed8",
   "metadata": {},
   "outputs": [
    {
     "data": {
      "text/plain": [
       "(array([0, 1, 4]),)"
      ]
     },
     "execution_count": 49,
     "metadata": {},
     "output_type": "execute_result"
    }
   ],
   "source": [
    "np.nonzero([1,2,0,0,4,0])\n"
   ]
  },
  {
   "cell_type": "code",
   "execution_count": 13,
   "id": "0dc38fba",
   "metadata": {},
   "outputs": [
    {
     "name": "stdout",
     "output_type": "stream",
     "text": [
      " randint(low, high=None, size=None, dtype=<class 'int'>)\n",
      "\n",
      "randint(low, high=None, size=None, dtype=int)\n",
      "\n",
      "Return random integers from `low` (inclusive) to `high` (exclusive).\n",
      "\n",
      "Return random integers from the \"discrete uniform\" distribution of\n",
      "the specified dtype in the \"half-open\" interval [`low`, `high`). If\n",
      "`high` is None (the default), then results are from [0, `low`).\n",
      "\n",
      ".. note::\n",
      "    New code should use the `~numpy.random.Generator.integers`\n",
      "    method of a `~numpy.random.Generator` instance instead;\n",
      "    please see the :ref:`random-quick-start`.\n",
      "\n",
      "Parameters\n",
      "----------\n",
      "low : int or array-like of ints\n",
      "    Lowest (signed) integers to be drawn from the distribution (unless\n",
      "    ``high=None``, in which case this parameter is one above the\n",
      "    *highest* such integer).\n",
      "high : int or array-like of ints, optional\n",
      "    If provided, one above the largest (signed) integer to be drawn\n",
      "    from the distribution (see above for behavior if ``high=None``).\n",
      "    If array-like, must contain integer values\n",
      "size : int or tuple of ints, optional\n",
      "    Output shape.  If the given shape is, e.g., ``(m, n, k)``, then\n",
      "    ``m * n * k`` samples are drawn.  Default is None, in which case a\n",
      "    single value is returned.\n",
      "dtype : dtype, optional\n",
      "    Desired dtype of the result. Byteorder must be native.\n",
      "    The default value is long.\n",
      "\n",
      "    .. versionadded:: 1.11.0\n",
      "\n",
      "    .. warning::\n",
      "      This function defaults to the C-long dtype, which is 32bit on windows\n",
      "      and otherwise 64bit on 64bit platforms (and 32bit on 32bit ones).\n",
      "      Since NumPy 2.0, NumPy's default integer is 32bit on 32bit platforms\n",
      "      and 64bit on 64bit platforms.  Which corresponds to `np.intp`.\n",
      "      (`dtype=int` is not the same as in most NumPy functions.)\n",
      "\n",
      "Returns\n",
      "-------\n",
      "out : int or ndarray of ints\n",
      "    `size`-shaped array of random integers from the appropriate\n",
      "    distribution, or a single such random int if `size` not provided.\n",
      "\n",
      "See Also\n",
      "--------\n",
      "random_integers : similar to `randint`, only for the closed\n",
      "    interval [`low`, `high`], and 1 is the lowest value if `high` is\n",
      "    omitted.\n",
      "random.Generator.integers: which should be used for new code.\n",
      "\n",
      "Examples\n",
      "--------\n",
      ">>> np.random.randint(2, size=10)\n",
      "array([1, 0, 0, 0, 1, 1, 0, 0, 1, 0]) # random\n",
      ">>> np.random.randint(1, size=10)\n",
      "array([0, 0, 0, 0, 0, 0, 0, 0, 0, 0])\n",
      "\n",
      "Generate a 2 x 4 array of ints between 0 and 4, inclusive:\n",
      "\n",
      ">>> np.random.randint(5, size=(2, 4))\n",
      "array([[4, 0, 2, 1], # random\n",
      "       [3, 2, 2, 0]])\n",
      "\n",
      "Generate a 1 x 3 array with 3 different upper bounds\n",
      "\n",
      ">>> np.random.randint(1, [3, 5, 10])\n",
      "array([2, 2, 9]) # random\n",
      "\n",
      "Generate a 1 by 3 array with 3 different lower bounds\n",
      "\n",
      ">>> np.random.randint([1, 5, 7], 10)\n",
      "array([9, 8, 7]) # random\n",
      "\n",
      "Generate a 2 by 4 array using broadcasting with dtype of uint8\n",
      "\n",
      ">>> np.random.randint([1, 3, 5, 7], [[10], [20]], dtype=np.uint8)\n",
      "array([[ 8,  6,  9,  7], # random\n",
      "       [ 1, 16,  9, 12]], dtype=uint8)\n"
     ]
    }
   ],
   "source": [
    "np.info(np.random.randint)"
   ]
  },
  {
   "cell_type": "code",
   "execution_count": 14,
   "id": "2e9c13ce",
   "metadata": {},
   "outputs": [],
   "source": [
    "A = np.random.randint(0, 10, size=(5, 5))"
   ]
  },
  {
   "cell_type": "code",
   "execution_count": 17,
   "id": "229805a8",
   "metadata": {},
   "outputs": [
    {
     "data": {
      "text/plain": [
       "array([[0, 9, 9, 3, 4],\n",
       "       [5, 3, 0, 4, 8],\n",
       "       [6, 7, 2, 7, 3],\n",
       "       [8, 6, 6, 5, 6],\n",
       "       [5, 7, 1, 5, 4]])"
      ]
     },
     "execution_count": 17,
     "metadata": {},
     "output_type": "execute_result"
    }
   ],
   "source": [
    "A"
   ]
  },
  {
   "cell_type": "code",
   "execution_count": 16,
   "id": "b79dba38",
   "metadata": {},
   "outputs": [
    {
     "data": {
      "text/plain": [
       "(array([0, 0, 0, 0, 1, 1, 1, 1, 2, 2, 2, 2, 2, 3, 3, 3, 3, 3, 4, 4, 4, 4,\n",
       "        4]),\n",
       " array([1, 2, 3, 4, 0, 1, 3, 4, 0, 1, 2, 3, 4, 0, 1, 2, 3, 4, 0, 1, 2, 3,\n",
       "        4]))"
      ]
     },
     "execution_count": 16,
     "metadata": {},
     "output_type": "execute_result"
    }
   ],
   "source": [
    "A.nonzero()"
   ]
  },
  {
   "cell_type": "code",
   "execution_count": 50,
   "id": "25358c58",
   "metadata": {},
   "outputs": [
    {
     "name": "stdout",
     "output_type": "stream",
     "text": [
      "nz = np.nonzero([1,2,0,0,4,0])\n",
      "print(nz)\n"
     ]
    }
   ],
   "source": [
    "answer(10)"
   ]
  },
  {
   "cell_type": "markdown",
   "id": "9c4707f5",
   "metadata": {},
   "source": [
    "#### 11. Create a 3x3 identity matrix (★☆☆)"
   ]
  },
  {
   "cell_type": "code",
   "execution_count": 54,
   "id": "29dc1fd3",
   "metadata": {},
   "outputs": [
    {
     "data": {
      "text/plain": [
       "array([[1., 0., 0.],\n",
       "       [0., 1., 0.],\n",
       "       [0., 0., 1.]])"
      ]
     },
     "execution_count": 54,
     "metadata": {},
     "output_type": "execute_result"
    }
   ],
   "source": [
    "np.eye(3)"
   ]
  },
  {
   "cell_type": "code",
   "execution_count": 52,
   "id": "35ece5b7",
   "metadata": {},
   "outputs": [
    {
     "name": "stdout",
     "output_type": "stream",
     "text": [
      "Z = np.eye(3)\n",
      "print(Z)\n"
     ]
    }
   ],
   "source": [
    "answer(11)"
   ]
  },
  {
   "cell_type": "markdown",
   "id": "3bac294a",
   "metadata": {},
   "source": [
    "#### 12. Create a 3x3x3 array with random values (★☆☆)"
   ]
  },
  {
   "cell_type": "code",
   "execution_count": 55,
   "id": "eadfae67",
   "metadata": {},
   "outputs": [
    {
     "data": {
      "text/plain": [
       "array([[[0.81981691, 0.51050071, 0.7131353 ],\n",
       "        [0.35720185, 0.43730048, 0.54854227],\n",
       "        [0.74765921, 0.5341723 , 0.92311147]],\n",
       "\n",
       "       [[0.74781101, 0.78192747, 0.88803597],\n",
       "        [0.92318805, 0.73812766, 0.17701312],\n",
       "        [0.97858447, 0.0381458 , 0.79587167]],\n",
       "\n",
       "       [[0.80978581, 0.10391626, 0.3859458 ],\n",
       "        [0.15401014, 0.40055807, 0.62789417],\n",
       "        [0.45680886, 0.0788014 , 0.55647555]]])"
      ]
     },
     "execution_count": 55,
     "metadata": {},
     "output_type": "execute_result"
    }
   ],
   "source": [
    "np.random.random((3, 3, 3))"
   ]
  },
  {
   "cell_type": "code",
   "execution_count": 56,
   "id": "ebf19532",
   "metadata": {},
   "outputs": [
    {
     "name": "stdout",
     "output_type": "stream",
     "text": [
      "Z = np.random.random((3,3,3))\n",
      "print(Z)\n"
     ]
    }
   ],
   "source": [
    "answer(12)"
   ]
  },
  {
   "cell_type": "markdown",
   "id": "466c2989",
   "metadata": {},
   "source": [
    "#### 13. Create a 10x10 array with random values and find the minimum and maximum values (★☆☆)"
   ]
  },
  {
   "cell_type": "code",
   "execution_count": 57,
   "id": "9a74dbfc",
   "metadata": {},
   "outputs": [],
   "source": [
    "Z = np.random.random((10, 10))"
   ]
  },
  {
   "cell_type": "code",
   "execution_count": 59,
   "id": "19024a74",
   "metadata": {},
   "outputs": [
    {
     "name": "stdout",
     "output_type": "stream",
     "text": [
      "0.007217863094062027\n",
      "0.9898406103986399\n"
     ]
    }
   ],
   "source": [
    "print(Z.min())\n",
    "print(Z.max())"
   ]
  },
  {
   "cell_type": "code",
   "execution_count": 60,
   "id": "cd44c4bd",
   "metadata": {},
   "outputs": [
    {
     "name": "stdout",
     "output_type": "stream",
     "text": [
      "Z = np.random.random((10,10))\n",
      "Zmin, Zmax = Z.min(), Z.max()\n",
      "print(Zmin, Zmax)\n"
     ]
    }
   ],
   "source": [
    "answer(13)"
   ]
  },
  {
   "cell_type": "markdown",
   "id": "53a8edb2",
   "metadata": {},
   "source": [
    "#### 14. Create a random vector of size 30 and find the mean value (★☆☆)"
   ]
  },
  {
   "cell_type": "code",
   "execution_count": 61,
   "id": "6691530b",
   "metadata": {},
   "outputs": [],
   "source": [
    "Z = np.random.random(30)"
   ]
  },
  {
   "cell_type": "code",
   "execution_count": 62,
   "id": "42b64adc",
   "metadata": {},
   "outputs": [
    {
     "name": "stdout",
     "output_type": "stream",
     "text": [
      "0.462485009216752\n"
     ]
    }
   ],
   "source": [
    "print(Z.mean())"
   ]
  },
  {
   "cell_type": "code",
   "execution_count": 63,
   "id": "2d6ec222",
   "metadata": {},
   "outputs": [
    {
     "name": "stdout",
     "output_type": "stream",
     "text": [
      "Z = np.random.random(30)\n",
      "m = Z.mean()\n",
      "print(m)\n"
     ]
    }
   ],
   "source": [
    "answer(14)"
   ]
  },
  {
   "cell_type": "markdown",
   "id": "cbaad31c",
   "metadata": {},
   "source": [
    "#### 15. *Create a 2d array with 1 on the border and 0 inside (★☆☆)"
   ]
  },
  {
   "cell_type": "code",
   "execution_count": 70,
   "id": "ad8308e3",
   "metadata": {},
   "outputs": [],
   "source": [
    "Z = np.ones((3, 3))"
   ]
  },
  {
   "cell_type": "code",
   "execution_count": 71,
   "id": "d309a5ea",
   "metadata": {},
   "outputs": [
    {
     "data": {
      "text/plain": [
       "array([[1., 1., 1.],\n",
       "       [1., 0., 1.],\n",
       "       [1., 1., 1.]])"
      ]
     },
     "execution_count": 71,
     "metadata": {},
     "output_type": "execute_result"
    }
   ],
   "source": [
    "Z[1:-1, 1:-1] = 0\n",
    "Z"
   ]
  },
  {
   "cell_type": "code",
   "execution_count": 68,
   "id": "2a8da019",
   "metadata": {},
   "outputs": [
    {
     "name": "stdout",
     "output_type": "stream",
     "text": [
      "Z = np.ones((10,10))\n",
      "Z[1:-1,1:-1] = 0\n",
      "print(Z)\n"
     ]
    }
   ],
   "source": [
    "answer(15)"
   ]
  },
  {
   "cell_type": "markdown",
   "id": "c5ecc267",
   "metadata": {},
   "source": [
    "#### *16. How to add a border (filled with 0's) around an existing array? (★☆☆)"
   ]
  },
  {
   "cell_type": "code",
   "execution_count": 91,
   "id": "9d5c78c4",
   "metadata": {},
   "outputs": [],
   "source": [
    "A = np.ones((3, 3))"
   ]
  },
  {
   "cell_type": "code",
   "execution_count": 92,
   "id": "ea39c75e",
   "metadata": {},
   "outputs": [
    {
     "data": {
      "text/plain": [
       "array([[0., 0., 0., 0., 0., 0., 0.],\n",
       "       [0., 0., 0., 0., 0., 0., 0.],\n",
       "       [0., 0., 1., 1., 1., 0., 0.],\n",
       "       [0., 0., 1., 1., 1., 0., 0.],\n",
       "       [0., 0., 1., 1., 1., 0., 0.],\n",
       "       [0., 0., 0., 0., 0., 0., 0.],\n",
       "       [0., 0., 0., 0., 0., 0., 0.]])"
      ]
     },
     "execution_count": 92,
     "metadata": {},
     "output_type": "execute_result"
    }
   ],
   "source": [
    "np.pad(A, (2), 'constant',  \n",
    "                 constant_values=(0))"
   ]
  },
  {
   "cell_type": "code",
   "execution_count": 18,
   "id": "90403697",
   "metadata": {},
   "outputs": [
    {
     "name": "stdout",
     "output_type": "stream",
     "text": [
      "Pad an array.\n",
      "\n",
      "Parameters\n",
      "----------\n",
      "array : array_like of rank N\n",
      "    The array to pad.\n",
      "pad_width : {sequence, array_like, int}\n",
      "    Number of values padded to the edges of each axis.\n",
      "    ``((before_1, after_1), ... (before_N, after_N))`` unique pad widths\n",
      "    for each axis.\n",
      "    ``(before, after)`` or ``((before, after),)`` yields same before\n",
      "    and after pad for each axis.\n",
      "    ``(pad,)`` or ``int`` is a shortcut for before = after = pad width\n",
      "    for all axes.\n",
      "mode : str or function, optional\n",
      "    One of the following string values or a user supplied function.\n",
      "\n",
      "    'constant' (default)\n",
      "        Pads with a constant value.\n",
      "    'edge'\n",
      "        Pads with the edge values of array.\n",
      "    'linear_ramp'\n",
      "        Pads with the linear ramp between end_value and the\n",
      "        array edge value.\n",
      "    'maximum'\n",
      "        Pads with the maximum value of all or part of the\n",
      "        vector along each axis.\n",
      "    'mean'\n",
      "        Pads with the mean value of all or part of the\n",
      "        vector along each axis.\n",
      "    'median'\n",
      "        Pads with the median value of all or part of the\n",
      "        vector along each axis.\n",
      "    'minimum'\n",
      "        Pads with the minimum value of all or part of the\n",
      "        vector along each axis.\n",
      "    'reflect'\n",
      "        Pads with the reflection of the vector mirrored on\n",
      "        the first and last values of the vector along each\n",
      "        axis.\n",
      "    'symmetric'\n",
      "        Pads with the reflection of the vector mirrored\n",
      "        along the edge of the array.\n",
      "    'wrap'\n",
      "        Pads with the wrap of the vector along the axis.\n",
      "        The first values are used to pad the end and the\n",
      "        end values are used to pad the beginning.\n",
      "    'empty'\n",
      "        Pads with undefined values.\n",
      "\n",
      "        .. versionadded:: 1.17\n",
      "\n",
      "    <function>\n",
      "        Padding function, see Notes.\n",
      "stat_length : sequence or int, optional\n",
      "    Used in 'maximum', 'mean', 'median', and 'minimum'.  Number of\n",
      "    values at edge of each axis used to calculate the statistic value.\n",
      "\n",
      "    ``((before_1, after_1), ... (before_N, after_N))`` unique statistic\n",
      "    lengths for each axis.\n",
      "\n",
      "    ``(before, after)`` or ``((before, after),)`` yields same before\n",
      "    and after statistic lengths for each axis.\n",
      "\n",
      "    ``(stat_length,)`` or ``int`` is a shortcut for\n",
      "    ``before = after = statistic`` length for all axes.\n",
      "\n",
      "    Default is ``None``, to use the entire axis.\n",
      "constant_values : sequence or scalar, optional\n",
      "    Used in 'constant'.  The values to set the padded values for each\n",
      "    axis.\n",
      "\n",
      "    ``((before_1, after_1), ... (before_N, after_N))`` unique pad constants\n",
      "    for each axis.\n",
      "\n",
      "    ``(before, after)`` or ``((before, after),)`` yields same before\n",
      "    and after constants for each axis.\n",
      "\n",
      "    ``(constant,)`` or ``constant`` is a shortcut for\n",
      "    ``before = after = constant`` for all axes.\n",
      "\n",
      "    Default is 0.\n",
      "end_values : sequence or scalar, optional\n",
      "    Used in 'linear_ramp'.  The values used for the ending value of the\n",
      "    linear_ramp and that will form the edge of the padded array.\n",
      "\n",
      "    ``((before_1, after_1), ... (before_N, after_N))`` unique end values\n",
      "    for each axis.\n",
      "\n",
      "    ``(before, after)`` or ``((before, after),)`` yields same before\n",
      "    and after end values for each axis.\n",
      "\n",
      "    ``(constant,)`` or ``constant`` is a shortcut for\n",
      "    ``before = after = constant`` for all axes.\n",
      "\n",
      "    Default is 0.\n",
      "reflect_type : {'even', 'odd'}, optional\n",
      "    Used in 'reflect', and 'symmetric'.  The 'even' style is the\n",
      "    default with an unaltered reflection around the edge value.  For\n",
      "    the 'odd' style, the extended part of the array is created by\n",
      "    subtracting the reflected values from two times the edge value.\n",
      "\n",
      "Returns\n",
      "-------\n",
      "pad : ndarray\n",
      "    Padded array of rank equal to `array` with shape increased\n",
      "    according to `pad_width`.\n",
      "\n",
      "Notes\n",
      "-----\n",
      ".. versionadded:: 1.7.0\n",
      "\n",
      "For an array with rank greater than 1, some of the padding of later\n",
      "axes is calculated from padding of previous axes.  This is easiest to\n",
      "think about with a rank 2 array where the corners of the padded array\n",
      "are calculated by using padded values from the first axis.\n",
      "\n",
      "The padding function, if used, should modify a rank 1 array in-place. It\n",
      "has the following signature::\n",
      "\n",
      "    padding_func(vector, iaxis_pad_width, iaxis, kwargs)\n",
      "\n",
      "where\n",
      "\n",
      "vector : ndarray\n",
      "    A rank 1 array already padded with zeros.  Padded values are\n",
      "    vector[:iaxis_pad_width[0]] and vector[-iaxis_pad_width[1]:].\n",
      "iaxis_pad_width : tuple\n",
      "    A 2-tuple of ints, iaxis_pad_width[0] represents the number of\n",
      "    values padded at the beginning of vector where\n",
      "    iaxis_pad_width[1] represents the number of values padded at\n",
      "    the end of vector.\n",
      "iaxis : int\n",
      "    The axis currently being calculated.\n",
      "kwargs : dict\n",
      "    Any keyword arguments the function requires.\n",
      "\n",
      "Examples\n",
      "--------\n",
      ">>> a = [1, 2, 3, 4, 5]\n",
      ">>> np.pad(a, (2, 3), 'constant', constant_values=(4, 6))\n",
      "array([4, 4, 1, ..., 6, 6, 6])\n",
      "\n",
      ">>> np.pad(a, (2, 3), 'edge')\n",
      "array([1, 1, 1, ..., 5, 5, 5])\n",
      "\n",
      ">>> np.pad(a, (2, 3), 'linear_ramp', end_values=(5, -4))\n",
      "array([ 5,  3,  1,  2,  3,  4,  5,  2, -1, -4])\n",
      "\n",
      ">>> np.pad(a, (2,), 'maximum')\n",
      "array([5, 5, 1, 2, 3, 4, 5, 5, 5])\n",
      "\n",
      ">>> np.pad(a, (2,), 'mean')\n",
      "array([3, 3, 1, 2, 3, 4, 5, 3, 3])\n",
      "\n",
      ">>> np.pad(a, (2,), 'median')\n",
      "array([3, 3, 1, 2, 3, 4, 5, 3, 3])\n",
      "\n",
      ">>> a = [[1, 2], [3, 4]]\n",
      ">>> np.pad(a, ((3, 2), (2, 3)), 'minimum')\n",
      "array([[1, 1, 1, 2, 1, 1, 1],\n",
      "       [1, 1, 1, 2, 1, 1, 1],\n",
      "       [1, 1, 1, 2, 1, 1, 1],\n",
      "       [1, 1, 1, 2, 1, 1, 1],\n",
      "       [3, 3, 3, 4, 3, 3, 3],\n",
      "       [1, 1, 1, 2, 1, 1, 1],\n",
      "       [1, 1, 1, 2, 1, 1, 1]])\n",
      "\n",
      ">>> a = [1, 2, 3, 4, 5]\n",
      ">>> np.pad(a, (2, 3), 'reflect')\n",
      "array([3, 2, 1, 2, 3, 4, 5, 4, 3, 2])\n",
      "\n",
      ">>> np.pad(a, (2, 3), 'reflect', reflect_type='odd')\n",
      "array([-1,  0,  1,  2,  3,  4,  5,  6,  7,  8])\n",
      "\n",
      ">>> np.pad(a, (2, 3), 'symmetric')\n",
      "array([2, 1, 1, 2, 3, 4, 5, 5, 4, 3])\n",
      "\n",
      ">>> np.pad(a, (2, 3), 'symmetric', reflect_type='odd')\n",
      "array([0, 1, 1, 2, 3, 4, 5, 5, 6, 7])\n",
      "\n",
      ">>> np.pad(a, (2, 3), 'wrap')\n",
      "array([4, 5, 1, 2, 3, 4, 5, 1, 2, 3])\n",
      "\n",
      ">>> def pad_with(vector, pad_width, iaxis, kwargs):\n",
      "...     pad_value = kwargs.get('padder', 10)\n",
      "...     vector[:pad_width[0]] = pad_value\n",
      "...     vector[-pad_width[1]:] = pad_value\n",
      ">>> a = np.arange(6)\n",
      ">>> a = a.reshape((2, 3))\n",
      ">>> np.pad(a, 2, pad_with)\n",
      "array([[10, 10, 10, 10, 10, 10, 10],\n",
      "       [10, 10, 10, 10, 10, 10, 10],\n",
      "       [10, 10,  0,  1,  2, 10, 10],\n",
      "       [10, 10,  3,  4,  5, 10, 10],\n",
      "       [10, 10, 10, 10, 10, 10, 10],\n",
      "       [10, 10, 10, 10, 10, 10, 10]])\n",
      ">>> np.pad(a, 2, pad_with, padder=100)\n",
      "array([[100, 100, 100, 100, 100, 100, 100],\n",
      "       [100, 100, 100, 100, 100, 100, 100],\n",
      "       [100, 100,   0,   1,   2, 100, 100],\n",
      "       [100, 100,   3,   4,   5, 100, 100],\n",
      "       [100, 100, 100, 100, 100, 100, 100],\n",
      "       [100, 100, 100, 100, 100, 100, 100]])\n"
     ]
    }
   ],
   "source": [
    "np.info(np.pad)"
   ]
  },
  {
   "cell_type": "code",
   "execution_count": 96,
   "id": "450441ad",
   "metadata": {},
   "outputs": [
    {
     "name": "stdout",
     "output_type": "stream",
     "text": [
      "[[0. 0. 0. 0. 0.]\n",
      " [0. 1. 1. 1. 0.]\n",
      " [0. 1. 1. 1. 0.]\n",
      " [0. 1. 1. 1. 0.]\n",
      " [0. 0. 0. 0. 0.]]\n"
     ]
    }
   ],
   "source": [
    "Z = np.ones((5,5))\n",
    "# Z = np.pad(Z, pad_width=1, mode='constant', constant_values=0)\n",
    "# print(Z)\n",
    "\n",
    "# Using fancy indexing\n",
    "Z[:, [0, -1]] = 0\n",
    "Z[[0, -1], :] = 0\n",
    "print(Z)"
   ]
  },
  {
   "cell_type": "code",
   "execution_count": 93,
   "id": "3fc31890",
   "metadata": {},
   "outputs": [
    {
     "name": "stdout",
     "output_type": "stream",
     "text": [
      "Z = np.ones((5,5))\n",
      "Z = np.pad(Z, pad_width=1, mode='constant', constant_values=0)\n",
      "print(Z)\n",
      "\n",
      "# Using fancy indexing\n",
      "Z[:, [0, -1]] = 0\n",
      "Z[[0, -1], :] = 0\n",
      "print(Z)\n"
     ]
    }
   ],
   "source": [
    "answer(16)"
   ]
  },
  {
   "cell_type": "markdown",
   "id": "ef909b72",
   "metadata": {},
   "source": [
    "#### 17. What is the result of the following expression? (★☆☆)\n",
    "```python\n",
    "0 * np.nan\n",
    "np.nan == np.nan\n",
    "np.inf > np.nan\n",
    "np.nan - np.nan\n",
    "np.nan in set([np.nan])\n",
    "0.3 == 3 * 0.1\n",
    "```"
   ]
  },
  {
   "cell_type": "code",
   "execution_count": null,
   "id": "3b4985f2",
   "metadata": {},
   "outputs": [],
   "source": [
    "1. Nan\n",
    "2. False\n",
    "3. False\n",
    "4. Nan\n",
    "5. True\n",
    "*6. False"
   ]
  },
  {
   "cell_type": "code",
   "execution_count": 12,
   "id": "6485dfe5",
   "metadata": {},
   "outputs": [
    {
     "name": "stdout",
     "output_type": "stream",
     "text": [
      "print(0 * np.nan)\n",
      "print(np.nan == np.nan)\n",
      "print(np.inf > np.nan)\n",
      "print(np.nan - np.nan)\n",
      "print(np.nan in set([np.nan]))\n",
      "print(0.3 == 3 * 0.1)\n"
     ]
    }
   ],
   "source": [
    "answer(17)"
   ]
  },
  {
   "cell_type": "markdown",
   "id": "502738ac",
   "metadata": {},
   "source": [
    "#### 18. Create a 5x5 matrix with values 1,2,3,4 just below the diagonal (★☆☆)"
   ]
  },
  {
   "cell_type": "code",
   "execution_count": 19,
   "id": "faed6e2b",
   "metadata": {},
   "outputs": [
    {
     "data": {
      "text/plain": [
       "array([[0, 0, 0, 0, 0],\n",
       "       [1, 0, 0, 0, 0],\n",
       "       [0, 2, 0, 0, 0],\n",
       "       [0, 0, 3, 0, 0],\n",
       "       [0, 0, 0, 4, 0]])"
      ]
     },
     "execution_count": 19,
     "metadata": {},
     "output_type": "execute_result"
    }
   ],
   "source": [
    "np.diag(np.arange(1, 5), k = -1)"
   ]
  },
  {
   "cell_type": "code",
   "execution_count": 20,
   "id": "9a1d5ec9",
   "metadata": {},
   "outputs": [
    {
     "name": "stdout",
     "output_type": "stream",
     "text": [
      "Z = np.diag(1+np.arange(4),k=-1)\n",
      "print(Z)\n"
     ]
    }
   ],
   "source": [
    "answer(18)"
   ]
  },
  {
   "cell_type": "markdown",
   "id": "a65da660",
   "metadata": {},
   "source": [
    "#### *19. Create a 8x8 matrix and fill it with a checkerboard pattern (★☆☆)"
   ]
  },
  {
   "cell_type": "code",
   "execution_count": 19,
   "id": "ed150400",
   "metadata": {},
   "outputs": [],
   "source": [
    "Z = np.zeros((8, 8))"
   ]
  },
  {
   "cell_type": "code",
   "execution_count": 20,
   "id": "22e1c31b",
   "metadata": {},
   "outputs": [],
   "source": [
    "Z[1::2, ::2] = 1\n",
    "Z[::2, 1::2] = 1"
   ]
  },
  {
   "cell_type": "code",
   "execution_count": 21,
   "id": "f129db7b",
   "metadata": {},
   "outputs": [
    {
     "data": {
      "text/plain": [
       "array([[0., 0., 0., 0., 0., 0., 0., 0.],\n",
       "       [1., 0., 1., 0., 1., 0., 1., 0.],\n",
       "       [0., 0., 0., 0., 0., 0., 0., 0.],\n",
       "       [1., 0., 1., 0., 1., 0., 1., 0.],\n",
       "       [0., 0., 0., 0., 0., 0., 0., 0.],\n",
       "       [1., 0., 1., 0., 1., 0., 1., 0.],\n",
       "       [0., 0., 0., 0., 0., 0., 0., 0.],\n",
       "       [1., 0., 1., 0., 1., 0., 1., 0.]])"
      ]
     },
     "execution_count": 21,
     "metadata": {},
     "output_type": "execute_result"
    }
   ],
   "source": [
    "Z"
   ]
  },
  {
   "cell_type": "code",
   "execution_count": 51,
   "id": "59a8d85b",
   "metadata": {},
   "outputs": [
    {
     "name": "stdout",
     "output_type": "stream",
     "text": [
      "Z = np.zeros((8,8),dtype=int)\n",
      "Z[1::2,::2] = 1\n",
      "Z[::2,1::2] = 1\n",
      "print(Z)\n"
     ]
    }
   ],
   "source": [
    "answer(19)"
   ]
  },
  {
   "cell_type": "markdown",
   "id": "9f7f9c49",
   "metadata": {},
   "source": [
    "#### *20. Consider a (6,7,8) shape array, what is the index (x,y,z) of the 100th element? (★☆☆)"
   ]
  },
  {
   "cell_type": "code",
   "execution_count": 59,
   "id": "3782b5a9",
   "metadata": {},
   "outputs": [],
   "source": [
    "Z = np.random.random((6, 7, 8))"
   ]
  },
  {
   "cell_type": "code",
   "execution_count": 85,
   "id": "2a92d1d0",
   "metadata": {},
   "outputs": [
    {
     "name": "stdout",
     "output_type": "stream",
     "text": [
      "1\n",
      "5\n",
      "3\n"
     ]
    }
   ],
   "source": [
    "print(99 // (7*8))  # Ищем номер тензора\n",
    "print(99 % (7*8) // 8)  # Ищем номер строки\n",
    "print(99 % (7*8) % 8)  # Ищем номер столбца"
   ]
  },
  {
   "cell_type": "code",
   "execution_count": 22,
   "id": "039b51f3",
   "metadata": {},
   "outputs": [
    {
     "name": "stdout",
     "output_type": "stream",
     "text": [
      "unravel_index(indices, shape, order='C')\n",
      "\n",
      "Converts a flat index or array of flat indices into a tuple\n",
      "of coordinate arrays.\n",
      "\n",
      "Parameters\n",
      "----------\n",
      "indices : array_like\n",
      "    An integer array whose elements are indices into the flattened\n",
      "    version of an array of dimensions ``shape``. Before version 1.6.0,\n",
      "    this function accepted just one index value.\n",
      "shape : tuple of ints\n",
      "    The shape of the array to use for unraveling ``indices``.\n",
      "\n",
      "    .. versionchanged:: 1.16.0\n",
      "        Renamed from ``dims`` to ``shape``.\n",
      "\n",
      "order : {'C', 'F'}, optional\n",
      "    Determines whether the indices should be viewed as indexing in\n",
      "    row-major (C-style) or column-major (Fortran-style) order.\n",
      "\n",
      "    .. versionadded:: 1.6.0\n",
      "\n",
      "Returns\n",
      "-------\n",
      "unraveled_coords : tuple of ndarray\n",
      "    Each array in the tuple has the same shape as the ``indices``\n",
      "    array.\n",
      "\n",
      "See Also\n",
      "--------\n",
      "ravel_multi_index\n",
      "\n",
      "Examples\n",
      "--------\n",
      ">>> np.unravel_index([22, 41, 37], (7,6))\n",
      "(array([3, 6, 6]), array([4, 5, 1]))\n",
      ">>> np.unravel_index([31, 41, 13], (7,6), order='F')\n",
      "(array([3, 6, 6]), array([4, 5, 1]))\n",
      "\n",
      ">>> np.unravel_index(1621, (6,7,8,9))\n",
      "(3, 1, 4, 1)\n"
     ]
    }
   ],
   "source": [
    "np.info(np.unravel_index)"
   ]
  },
  {
   "cell_type": "code",
   "execution_count": 82,
   "id": "c81b530e",
   "metadata": {},
   "outputs": [
    {
     "data": {
      "text/plain": [
       "(np.int64(1), np.int64(5), np.int64(3))"
      ]
     },
     "execution_count": 82,
     "metadata": {},
     "output_type": "execute_result"
    }
   ],
   "source": [
    "np.unravel_index(99,(6,7,8))"
   ]
  },
  {
   "cell_type": "code",
   "execution_count": 75,
   "id": "52d6f215",
   "metadata": {},
   "outputs": [
    {
     "name": "stdout",
     "output_type": "stream",
     "text": [
      "print(np.unravel_index(99,(6,7,8)))\n"
     ]
    }
   ],
   "source": [
    "answer(20)"
   ]
  },
  {
   "cell_type": "markdown",
   "id": "66bfda35",
   "metadata": {},
   "source": [
    "#### *21. Create a checkerboard 8x8 matrix using the tile function (★☆☆)"
   ]
  },
  {
   "cell_type": "code",
   "execution_count": 100,
   "id": "4c07477c",
   "metadata": {},
   "outputs": [
    {
     "data": {
      "text/plain": [
       "array([[0., 1., 0., 1., 0., 1., 0., 1.],\n",
       "       [1., 0., 1., 0., 1., 0., 1., 0.],\n",
       "       [0., 1., 0., 1., 0., 1., 0., 1.],\n",
       "       [1., 0., 1., 0., 1., 0., 1., 0.],\n",
       "       [0., 1., 0., 1., 0., 1., 0., 1.],\n",
       "       [1., 0., 1., 0., 1., 0., 1., 0.],\n",
       "       [0., 1., 0., 1., 0., 1., 0., 1.],\n",
       "       [1., 0., 1., 0., 1., 0., 1., 0.]], dtype=float16)"
      ]
     },
     "execution_count": 100,
     "metadata": {},
     "output_type": "execute_result"
    }
   ],
   "source": [
    "A = np.array([[0, 1], [1, 0]], dtype = np.float16)\n",
    "np.tile(A, (4, 4))"
   ]
  },
  {
   "cell_type": "code",
   "execution_count": 101,
   "id": "29cb2611",
   "metadata": {},
   "outputs": [
    {
     "name": "stdout",
     "output_type": "stream",
     "text": [
      "Z = np.tile( np.array([[0,1],[1,0]]), (4,4))\n",
      "print(Z)\n"
     ]
    }
   ],
   "source": [
    "answer(21)"
   ]
  },
  {
   "cell_type": "markdown",
   "id": "d5bcfc08",
   "metadata": {},
   "source": [
    "#### *22. Normalize a 5x5 random matrix (★☆☆)"
   ]
  },
  {
   "cell_type": "code",
   "execution_count": 118,
   "id": "cea6c993",
   "metadata": {},
   "outputs": [
    {
     "data": {
      "text/plain": [
       "array([[ 0.46326033, -0.497871  ,  1.1521279 ,  1.16291516,  0.16297538],\n",
       "       [-1.52483187, -1.35895739,  1.13551561, -0.55867899, -0.73185616],\n",
       "       [ 1.00855691,  1.25835527,  0.7957774 , -1.44423866,  1.46722488],\n",
       "       [ 0.39240417,  0.5140848 , -1.22497602, -0.12392526, -1.25203014],\n",
       "       [-1.33145574,  0.48161352,  0.28456023,  0.98827563, -1.21882597]])"
      ]
     },
     "execution_count": 118,
     "metadata": {},
     "output_type": "execute_result"
    }
   ],
   "source": [
    "Z = np.random.random((5, 5))\n",
    "# (Z - np.mean(Z)) / (np.std(Z))\n",
    "(Z - Z.mean()) / (Z.std())"
   ]
  },
  {
   "cell_type": "code",
   "execution_count": 119,
   "id": "38efba0f",
   "metadata": {},
   "outputs": [
    {
     "data": {
      "text/plain": [
       "array([[ 0.46326033, -0.497871  ,  1.1521279 ,  1.16291516,  0.16297538],\n",
       "       [-1.52483187, -1.35895739,  1.13551561, -0.55867899, -0.73185616],\n",
       "       [ 1.00855691,  1.25835527,  0.7957774 , -1.44423866,  1.46722488],\n",
       "       [ 0.39240417,  0.5140848 , -1.22497602, -0.12392526, -1.25203014],\n",
       "       [-1.33145574,  0.48161352,  0.28456023,  0.98827563, -1.21882597]])"
      ]
     },
     "execution_count": 119,
     "metadata": {},
     "output_type": "execute_result"
    }
   ],
   "source": [
    "(Z - np.mean(Z)) / (np.std(Z))"
   ]
  },
  {
   "cell_type": "code",
   "execution_count": 114,
   "id": "b48a3b34",
   "metadata": {},
   "outputs": [
    {
     "name": "stdout",
     "output_type": "stream",
     "text": [
      "Z = np.random.random((5,5))\n",
      "Z = (Z - np.mean (Z)) / (np.std (Z))\n",
      "print(Z)\n"
     ]
    }
   ],
   "source": [
    "answer(22)"
   ]
  },
  {
   "cell_type": "markdown",
   "id": "f9a0911e",
   "metadata": {},
   "source": [
    "#### !23. Create a custom dtype that describes a color as four unsigned bytes (RGBA) (★☆☆)"
   ]
  },
  {
   "cell_type": "code",
   "execution_count": 27,
   "id": "b1247f2b",
   "metadata": {},
   "outputs": [
    {
     "name": "stdout",
     "output_type": "stream",
     "text": [
      "color = np.dtype([(\"r\", np.ubyte),\n",
      "                  (\"g\", np.ubyte),\n",
      "                  (\"b\", np.ubyte),\n",
      "                  (\"a\", np.ubyte)])\n"
     ]
    }
   ],
   "source": [
    "answer(23)"
   ]
  },
  {
   "cell_type": "markdown",
   "id": "654805b1",
   "metadata": {},
   "source": [
    "#### 24. Multiply a 5x3 matrix by a 3x2 matrix (real matrix product) (★☆☆)"
   ]
  },
  {
   "cell_type": "code",
   "execution_count": 30,
   "id": "6a42619f",
   "metadata": {},
   "outputs": [
    {
     "data": {
      "text/plain": [
       "(array([[0.2593853 , 0.55003131],\n",
       "        [0.70313165, 0.91008359],\n",
       "        [0.60874799, 0.55291032],\n",
       "        [0.30983493, 0.24765667],\n",
       "        [0.48751043, 0.45454196]]),\n",
       " array([[0.2593853 , 0.55003131],\n",
       "        [0.70313165, 0.91008359],\n",
       "        [0.60874799, 0.55291032],\n",
       "        [0.30983493, 0.24765667],\n",
       "        [0.48751043, 0.45454196]]))"
      ]
     },
     "execution_count": 30,
     "metadata": {},
     "output_type": "execute_result"
    }
   ],
   "source": [
    "Z = np.random.random((5, 3))\n",
    "K = np.random.random((3, 2))\n",
    "np.dot(Z, K), Z @ K"
   ]
  },
  {
   "cell_type": "code",
   "execution_count": 29,
   "id": "fc3c0e94",
   "metadata": {},
   "outputs": [
    {
     "name": "stdout",
     "output_type": "stream",
     "text": [
      "Z = np.dot(np.ones((5,3)), np.ones((3,2)))\n",
      "print(Z)\n",
      "\n",
      "# Alternative solution, in Python 3.5 and above\n",
      "Z = np.ones((5,3)) @ np.ones((3,2))\n",
      "print(Z)\n"
     ]
    }
   ],
   "source": [
    "answer(24)"
   ]
  },
  {
   "cell_type": "markdown",
   "id": "994c25df",
   "metadata": {},
   "source": [
    "#### *25. Given a 1D array, negate all elements which are between 3 and 8, in place. (★☆☆)"
   ]
  },
  {
   "cell_type": "code",
   "execution_count": 99,
   "id": "e4b39c03",
   "metadata": {},
   "outputs": [],
   "source": [
    "Z = np.random.random((1, 6))\n",
    "np.random.seed(42)\n",
    "Z = Z * 10"
   ]
  },
  {
   "cell_type": "code",
   "execution_count": 100,
   "id": "92b079d6",
   "metadata": {},
   "outputs": [],
   "source": [
    "Z[(Z > 3) & (Z < 8)] = 0"
   ]
  },
  {
   "cell_type": "code",
   "execution_count": 102,
   "id": "632d25fb",
   "metadata": {},
   "outputs": [
    {
     "data": {
      "text/plain": [
       "array([[0.        , 9.50714306, 0.        , 0.        , 1.5601864 ,\n",
       "        1.5599452 ]])"
      ]
     },
     "execution_count": 102,
     "metadata": {},
     "output_type": "execute_result"
    }
   ],
   "source": [
    "Z"
   ]
  },
  {
   "cell_type": "code",
   "execution_count": 101,
   "id": "d98b14d5",
   "metadata": {},
   "outputs": [
    {
     "name": "stdout",
     "output_type": "stream",
     "text": [
      "# Author: Evgeni Burovski\n",
      "\n",
      "Z = np.arange(11)\n",
      "Z[(3 < Z) & (Z < 8)] *= -1\n",
      "print(Z)\n"
     ]
    }
   ],
   "source": [
    "answer(25)"
   ]
  },
  {
   "cell_type": "markdown",
   "id": "b7d15d1a",
   "metadata": {},
   "source": [
    "#### *26. What is the output of the following script? (★☆☆)\n",
    "```python\n",
    "# Author: Jake VanderPlas\n",
    "\n",
    "print(sum(range(5),-1))\n",
    "from numpy import *\n",
    "print(sum(range(5),-1))\n",
    "```"
   ]
  },
  {
   "cell_type": "code",
   "execution_count": 106,
   "id": "08bd2952",
   "metadata": {},
   "outputs": [
    {
     "name": "stdout",
     "output_type": "stream",
     "text": [
      "9\n",
      "10\n"
     ]
    }
   ],
   "source": [
    "1. 9\n",
    "2. 10"
   ]
  },
  {
   "cell_type": "code",
   "execution_count": 107,
   "id": "a394dc3c",
   "metadata": {},
   "outputs": [
    {
     "name": "stdout",
     "output_type": "stream",
     "text": [
      "# Author: Jake VanderPlas\n",
      "\n",
      "print(sum(range(5),-1))\n",
      "from numpy import *\n",
      "print(sum(range(5),-1))\n"
     ]
    }
   ],
   "source": [
    "answer(26)"
   ]
  },
  {
   "cell_type": "markdown",
   "id": "a34f0d08",
   "metadata": {},
   "source": [
    "#### *27. Consider an integer vector Z, which of these expressions are legal? (★☆☆)\n",
    "```python\n",
    "Z**Z\n",
    "2 << Z >> 2\n",
    "Z <- Z\n",
    "1j*Z\n",
    "Z/1/1\n",
    "Z<Z>Z\n",
    "```"
   ]
  },
  {
   "cell_type": "code",
   "execution_count": 109,
   "id": "564658fc",
   "metadata": {},
   "outputs": [],
   "source": [
    "Z = np.arange(7)"
   ]
  },
  {
   "cell_type": "code",
   "execution_count": 118,
   "id": "dfc03009",
   "metadata": {},
   "outputs": [
    {
     "name": "stdout",
     "output_type": "stream",
     "text": [
      "[    1     1     4    27   256  3125 46656]\n",
      "[ 0  1  2  4  8 16 32]\n",
      "[False False False False False False False]\n",
      "[0.+0.j 0.+1.j 0.+2.j 0.+3.j 0.+4.j 0.+5.j 0.+6.j]\n",
      "[0. 1. 2. 3. 4. 5. 6.]\n"
     ]
    }
   ],
   "source": [
    "print(Z**Z) # Поэлементное возведение чисел в сами числа\n",
    "print(2 << Z >> 2)\n",
    "print(Z <- Z)\n",
    "print(1j * Z)\n",
    "print(Z/1/1)\n",
    "# print(Z < Z > Z) - недопустимая"
   ]
  },
  {
   "cell_type": "markdown",
   "id": "c34e94bf",
   "metadata": {},
   "source": [
    "#### *28. What are the result of the following expressions? (★☆☆)\n",
    "```python\n",
    "np.array(0) / np.array(0)\n",
    "np.array(0) // np.array(0)\n",
    "np.array([np.nan]).astype(int).astype(float)\n",
    "```"
   ]
  },
  {
   "cell_type": "code",
   "execution_count": 124,
   "id": "2cf995b8",
   "metadata": {},
   "outputs": [
    {
     "name": "stdout",
     "output_type": "stream",
     "text": [
      "nan\n",
      "0\n",
      "[-9.22337204e+18]\n"
     ]
    },
    {
     "name": "stderr",
     "output_type": "stream",
     "text": [
      "/tmp/ipykernel_6196/3912170336.py:1: RuntimeWarning: invalid value encountered in divide\n",
      "  print(np.array(0) / np.array(0))\n",
      "/tmp/ipykernel_6196/3912170336.py:2: RuntimeWarning: divide by zero encountered in floor_divide\n",
      "  print(np.array(0) // np.array(0))\n",
      "/tmp/ipykernel_6196/3912170336.py:3: RuntimeWarning: invalid value encountered in cast\n",
      "  print(np.array([np.nan]).astype(int).astype(float))\n"
     ]
    }
   ],
   "source": [
    "print(np.array(0) / np.array(0))\n",
    "print(np.array(0) // np.array(0))\n",
    "print(np.array([np.nan]).astype(int).astype(float))"
   ]
  },
  {
   "cell_type": "markdown",
   "id": "546f5e7b",
   "metadata": {},
   "source": [
    "#### *29. How to round away from zero a float array ? (★☆☆)"
   ]
  },
  {
   "cell_type": "code",
   "execution_count": 5,
   "id": "04229c4a",
   "metadata": {},
   "outputs": [
    {
     "name": "stdout",
     "output_type": "stream",
     "text": [
      " uniform(low=0.0, high=1.0, size=None)\n",
      "\n",
      "uniform(low=0.0, high=1.0, size=None)\n",
      "\n",
      "Draw samples from a uniform distribution.\n",
      "\n",
      "Samples are uniformly distributed over the half-open interval\n",
      "``[low, high)`` (includes low, but excludes high).  In other words,\n",
      "any value within the given interval is equally likely to be drawn\n",
      "by `uniform`.\n",
      "\n",
      ".. note::\n",
      "    New code should use the `~numpy.random.Generator.uniform`\n",
      "    method of a `~numpy.random.Generator` instance instead;\n",
      "    please see the :ref:`random-quick-start`.\n",
      "\n",
      "Parameters\n",
      "----------\n",
      "low : float or array_like of floats, optional\n",
      "    Lower boundary of the output interval.  All values generated will be\n",
      "    greater than or equal to low.  The default value is 0.\n",
      "high : float or array_like of floats\n",
      "    Upper boundary of the output interval.  All values generated will be\n",
      "    less than or equal to high.  The high limit may be included in the \n",
      "    returned array of floats due to floating-point rounding in the \n",
      "    equation ``low + (high-low) * random_sample()``.  The default value \n",
      "    is 1.0.\n",
      "size : int or tuple of ints, optional\n",
      "    Output shape.  If the given shape is, e.g., ``(m, n, k)``, then\n",
      "    ``m * n * k`` samples are drawn.  If size is ``None`` (default),\n",
      "    a single value is returned if ``low`` and ``high`` are both scalars.\n",
      "    Otherwise, ``np.broadcast(low, high).size`` samples are drawn.\n",
      "\n",
      "Returns\n",
      "-------\n",
      "out : ndarray or scalar\n",
      "    Drawn samples from the parameterized uniform distribution.\n",
      "\n",
      "See Also\n",
      "--------\n",
      "randint : Discrete uniform distribution, yielding integers.\n",
      "random_integers : Discrete uniform distribution over the closed\n",
      "                  interval ``[low, high]``.\n",
      "random_sample : Floats uniformly distributed over ``[0, 1)``.\n",
      "random : Alias for `random_sample`.\n",
      "rand : Convenience function that accepts dimensions as input, e.g.,\n",
      "       ``rand(2,2)`` would generate a 2-by-2 array of floats,\n",
      "       uniformly distributed over ``[0, 1)``.\n",
      "random.Generator.uniform: which should be used for new code.\n",
      "\n",
      "Notes\n",
      "-----\n",
      "The probability density function of the uniform distribution is\n",
      "\n",
      ".. math:: p(x) = \\frac{1}{b - a}\n",
      "\n",
      "anywhere within the interval ``[a, b)``, and zero elsewhere.\n",
      "\n",
      "When ``high`` == ``low``, values of ``low`` will be returned.\n",
      "If ``high`` < ``low``, the results are officially undefined\n",
      "and may eventually raise an error, i.e. do not rely on this\n",
      "function to behave when passed arguments satisfying that\n",
      "inequality condition. The ``high`` limit may be included in the\n",
      "returned array of floats due to floating-point rounding in the\n",
      "equation ``low + (high-low) * random_sample()``. For example:\n",
      "\n",
      ">>> x = np.float32(5*0.99999999)\n",
      ">>> x\n",
      "5.0\n",
      "\n",
      "\n",
      "Examples\n",
      "--------\n",
      "Draw samples from the distribution:\n",
      "\n",
      ">>> s = np.random.uniform(-1,0,1000)\n",
      "\n",
      "All values are within the given interval:\n",
      "\n",
      ">>> np.all(s >= -1)\n",
      "True\n",
      ">>> np.all(s < 0)\n",
      "True\n",
      "\n",
      "Display the histogram of the samples, along with the\n",
      "probability density function:\n",
      "\n",
      ">>> import matplotlib.pyplot as plt\n",
      ">>> count, bins, ignored = plt.hist(s, 15, density=True)\n",
      ">>> plt.plot(bins, np.ones_like(bins), linewidth=2, color='r')\n",
      ">>> plt.show()\n"
     ]
    }
   ],
   "source": [
    "np.info(np.random.uniform)"
   ]
  },
  {
   "cell_type": "code",
   "execution_count": 6,
   "id": "39deb2fc",
   "metadata": {},
   "outputs": [],
   "source": [
    "Z = np.random.uniform(-10,+10,10)"
   ]
  },
  {
   "cell_type": "code",
   "execution_count": 137,
   "id": "d4b41d35",
   "metadata": {},
   "outputs": [
    {
     "data": {
      "text/plain": [
       "array([-3., -2., -5.,  7., -3., -4.,  1., -7.,  6., -9.])"
      ]
     },
     "execution_count": 137,
     "metadata": {},
     "output_type": "execute_result"
    }
   ],
   "source": [
    "Z.round()"
   ]
  },
  {
   "cell_type": "code",
   "execution_count": 130,
   "id": "1ec75ed8",
   "metadata": {},
   "outputs": [
    {
     "name": "stdout",
     "output_type": "stream",
     "text": [
      "# Author: Charles R Harris\n",
      "\n",
      "Z = np.random.uniform(-10,+10,10)\n",
      "print(np.copysign(np.ceil(np.abs(Z)), Z))\n",
      "\n",
      "# More readable but less efficient\n",
      "print(np.where(Z>0, np.ceil(Z), np.floor(Z)))\n"
     ]
    }
   ],
   "source": [
    "answer(29)"
   ]
  },
  {
   "cell_type": "code",
   "execution_count": 8,
   "id": "ac788225",
   "metadata": {},
   "outputs": [
    {
     "data": {
      "text/plain": [
       "array([-6.68692076,  6.8543989 , -6.90472663,  4.50229461, -7.16624367,\n",
       "        7.62726616,  9.96220839,  9.81790112, -0.85157565,  1.64390183])"
      ]
     },
     "execution_count": 8,
     "metadata": {},
     "output_type": "execute_result"
    }
   ],
   "source": [
    "Z"
   ]
  },
  {
   "cell_type": "code",
   "execution_count": 7,
   "id": "fb98ffe2",
   "metadata": {},
   "outputs": [
    {
     "data": {
      "text/plain": [
       "array([ 7.,  7.,  7.,  5.,  8.,  8., 10., 10.,  1.,  2.])"
      ]
     },
     "execution_count": 7,
     "metadata": {},
     "output_type": "execute_result"
    }
   ],
   "source": [
    "np.ceil(np.abs(Z))"
   ]
  },
  {
   "cell_type": "code",
   "execution_count": 9,
   "id": "b3bd06df",
   "metadata": {},
   "outputs": [
    {
     "name": "stdout",
     "output_type": "stream",
     "text": [
      "[-7.  7. -7.  5. -8.  8. 10. 10. -1.  2.]\n"
     ]
    }
   ],
   "source": [
    "print(np.copysign(np.ceil(np.abs(Z)), Z))"
   ]
  },
  {
   "cell_type": "code",
   "execution_count": 10,
   "id": "4cf345a8",
   "metadata": {},
   "outputs": [
    {
     "name": "stdout",
     "output_type": "stream",
     "text": [
      "[-7.  7. -7.  5. -8.  8. 10. 10. -1.  2.]\n"
     ]
    }
   ],
   "source": [
    "print(np.where(Z>0, np.ceil(Z), np.floor(Z)))"
   ]
  },
  {
   "cell_type": "markdown",
   "id": "eadca856",
   "metadata": {},
   "source": [
    "#### *30. How to find common values between two arrays? (★☆☆)"
   ]
  },
  {
   "cell_type": "code",
   "execution_count": 11,
   "id": "e0270b5b",
   "metadata": {},
   "outputs": [
    {
     "data": {
      "text/plain": [
       "array([-0.,  7.])"
      ]
     },
     "execution_count": 11,
     "metadata": {},
     "output_type": "execute_result"
    }
   ],
   "source": [
    "Z = np.random.uniform(-10,+10,10).round()\n",
    "X = np.random.uniform(-10,+10,10).round()\n",
    "np.intersect1d(Z, X)"
   ]
  },
  {
   "cell_type": "code",
   "execution_count": 10,
   "id": "e45abc94",
   "metadata": {},
   "outputs": [
    {
     "name": "stdout",
     "output_type": "stream",
     "text": [
      "hint: np.intersect1d\n"
     ]
    }
   ],
   "source": [
    "hint(30)"
   ]
  },
  {
   "cell_type": "code",
   "execution_count": 13,
   "id": "563b6a84",
   "metadata": {},
   "outputs": [
    {
     "name": "stdout",
     "output_type": "stream",
     "text": [
      "Z1 = np.random.randint(0,10,10)\n",
      "Z2 = np.random.randint(0,10,10)\n",
      "print(np.intersect1d(Z1,Z2))\n"
     ]
    }
   ],
   "source": [
    "answer(30)"
   ]
  },
  {
   "cell_type": "markdown",
   "id": "ca16ca22",
   "metadata": {},
   "source": [
    "#### *31. How to ignore all numpy warnings (not recommended)? (★☆☆)"
   ]
  },
  {
   "cell_type": "code",
   "execution_count": 3,
   "id": "7d7208ef",
   "metadata": {},
   "outputs": [
    {
     "name": "stdout",
     "output_type": "stream",
     "text": [
      "hint: np.seterr, np.errstate\n"
     ]
    }
   ],
   "source": [
    "hint(31)"
   ]
  },
  {
   "cell_type": "code",
   "execution_count": 17,
   "id": "62a45283",
   "metadata": {},
   "outputs": [
    {
     "data": {
      "text/plain": [
       "{'divide': 'call', 'over': 'call', 'under': 'call', 'invalid': 'call'}"
      ]
     },
     "execution_count": 17,
     "metadata": {},
     "output_type": "execute_result"
    }
   ],
   "source": [
    "np.seterr(all='ignore')"
   ]
  },
  {
   "cell_type": "code",
   "execution_count": 18,
   "id": "66b2181c",
   "metadata": {},
   "outputs": [
    {
     "data": {
      "text/plain": [
       "array([inf, inf, inf, inf, inf, inf, inf])"
      ]
     },
     "execution_count": 18,
     "metadata": {},
     "output_type": "execute_result"
    }
   ],
   "source": [
    "a = np.random.randint(1, 10, 7)\n",
    "a / 0"
   ]
  },
  {
   "cell_type": "code",
   "execution_count": 19,
   "id": "4052261a",
   "metadata": {},
   "outputs": [
    {
     "name": "stdout",
     "output_type": "stream",
     "text": [
      "# Suicide mode on\n",
      "defaults = np.seterr(all=\"ignore\")\n",
      "Z = np.ones(1) / 0\n",
      "\n",
      "# Back to sanity\n",
      "_ = np.seterr(**defaults)\n",
      "\n",
      "# Equivalently with a context manager\n",
      "with np.errstate(all=\"ignore\"):\n",
      "    np.arange(3) / 0\n"
     ]
    }
   ],
   "source": [
    "answer(31)"
   ]
  },
  {
   "cell_type": "markdown",
   "id": "c7871d0d",
   "metadata": {},
   "source": [
    "#### !32. Is the following expressions true? (★☆☆)\n",
    "```python\n",
    "np.sqrt(-1) == np.emath.sqrt(-1)\n",
    "```"
   ]
  },
  {
   "cell_type": "code",
   "execution_count": 23,
   "id": "acc3701a",
   "metadata": {},
   "outputs": [
    {
     "data": {
      "text/plain": [
       "(np.float64(nan), np.complex128(1j))"
      ]
     },
     "execution_count": 23,
     "metadata": {},
     "output_type": "execute_result"
    }
   ],
   "source": [
    "np.sqrt(-1),  np.emath.sqrt(-1)"
   ]
  },
  {
   "cell_type": "code",
   "execution_count": 21,
   "id": "62f268dc",
   "metadata": {},
   "outputs": [
    {
     "name": "stdout",
     "output_type": "stream",
     "text": [
      "hint: imaginary number\n"
     ]
    }
   ],
   "source": [
    "hint(32)"
   ]
  },
  {
   "cell_type": "code",
   "execution_count": 22,
   "id": "44bf9110",
   "metadata": {},
   "outputs": [
    {
     "name": "stdout",
     "output_type": "stream",
     "text": [
      "np.sqrt(-1) == np.emath.sqrt(-1)\n"
     ]
    }
   ],
   "source": [
    "answer(32)"
   ]
  },
  {
   "cell_type": "markdown",
   "id": "e0433e30",
   "metadata": {},
   "source": [
    "#### *33. How to get the dates of yesterday, today and tomorrow? (★☆☆)"
   ]
  },
  {
   "cell_type": "code",
   "execution_count": null,
   "id": "44a6e9a7",
   "metadata": {},
   "outputs": [],
   "source": [
    "np.datetime64('today', 'D') - np.timedelta64(1, 'D') # Yesterday"
   ]
  },
  {
   "cell_type": "code",
   "execution_count": 24,
   "id": "9c4d2152",
   "metadata": {},
   "outputs": [
    {
     "data": {
      "text/plain": [
       "np.datetime64('2024-07-11')"
      ]
     },
     "execution_count": 24,
     "metadata": {},
     "output_type": "execute_result"
    }
   ],
   "source": [
    "np.datetime64('today', 'D') # Today"
   ]
  },
  {
   "cell_type": "code",
   "execution_count": 27,
   "id": "8648c8d5",
   "metadata": {},
   "outputs": [
    {
     "data": {
      "text/plain": [
       "np.datetime64('2024-07-12')"
      ]
     },
     "execution_count": 27,
     "metadata": {},
     "output_type": "execute_result"
    }
   ],
   "source": [
    "np.datetime64('today', 'D') + np.timedelta64(1, 'D') # Tomorrow"
   ]
  },
  {
   "cell_type": "code",
   "execution_count": 28,
   "id": "945a4088",
   "metadata": {},
   "outputs": [
    {
     "name": "stdout",
     "output_type": "stream",
     "text": [
      "yesterday = np.datetime64('today') - np.timedelta64(1)\n",
      "today     = np.datetime64('today')\n",
      "tomorrow  = np.datetime64('today') + np.timedelta64(1)\n"
     ]
    }
   ],
   "source": [
    "answer(33)"
   ]
  },
  {
   "cell_type": "markdown",
   "id": "9f52a2ef",
   "metadata": {},
   "source": [
    "#### !34. How to get all the dates corresponding to the month of July 2016? (★★☆)"
   ]
  },
  {
   "cell_type": "code",
   "execution_count": 48,
   "id": "4e213350",
   "metadata": {},
   "outputs": [
    {
     "data": {
      "text/plain": [
       "np.timedelta64(31,'D')"
      ]
     },
     "execution_count": 48,
     "metadata": {},
     "output_type": "execute_result"
    }
   ],
   "source": [
    "delta = np.datetime64('2016-08-01', 'D') - np.datetime64('2016-07-01', 'D')\n",
    "delta"
   ]
  },
  {
   "cell_type": "code",
   "execution_count": 52,
   "id": "f103b6ad",
   "metadata": {},
   "outputs": [
    {
     "data": {
      "text/plain": [
       "array(['2016-07-01', '2016-07-02', '2016-07-03', '2016-07-04',\n",
       "       '2016-07-05', '2016-07-06', '2016-07-07', '2016-07-08',\n",
       "       '2016-07-09', '2016-07-10', '2016-07-11', '2016-07-12',\n",
       "       '2016-07-13', '2016-07-14', '2016-07-15', '2016-07-16',\n",
       "       '2016-07-17', '2016-07-18', '2016-07-19', '2016-07-20',\n",
       "       '2016-07-21', '2016-07-22', '2016-07-23', '2016-07-24',\n",
       "       '2016-07-25', '2016-07-26', '2016-07-27', '2016-07-28',\n",
       "       '2016-07-29', '2016-07-30', '2016-07-31'], dtype='datetime64[D]')"
      ]
     },
     "execution_count": 52,
     "metadata": {},
     "output_type": "execute_result"
    }
   ],
   "source": [
    "np.datetime64('2016-07-01', 'D') + np.arange(delta)"
   ]
  },
  {
   "cell_type": "code",
   "execution_count": 53,
   "id": "43cfa3b4",
   "metadata": {},
   "outputs": [
    {
     "name": "stdout",
     "output_type": "stream",
     "text": [
      "Z = np.arange('2016-07', '2016-08', dtype='datetime64[D]')\n",
      "print(Z)\n"
     ]
    }
   ],
   "source": [
    "answer(34)"
   ]
  },
  {
   "cell_type": "markdown",
   "id": "4a64e059",
   "metadata": {},
   "source": [
    "#### * 35. How to compute ((A+B)*(-A/2)) in place (without copy)? (★★☆)"
   ]
  },
  {
   "cell_type": "code",
   "execution_count": 78,
   "id": "49267f60",
   "metadata": {},
   "outputs": [
    {
     "data": {
      "text/plain": [
       "(array([[1., 9., 7., 3.],\n",
       "        [3., 7., 3., 6.],\n",
       "        [4., 4., 6., 6.],\n",
       "        [4., 6., 5., 4.]], dtype=float16),\n",
       " array([[5., 4., 1., 4.],\n",
       "        [6., 4., 9., 2.],\n",
       "        [1., 5., 5., 4.],\n",
       "        [1., 8., 3., 3.]], dtype=float16))"
      ]
     },
     "execution_count": 78,
     "metadata": {},
     "output_type": "execute_result"
    }
   ],
   "source": [
    "A = np.astype(np.random.randint(1, 10, (4, 4)), np.float16)\n",
    "B = np.astype(np.random.randint(1, 10, (4, 4)), np.float16)\n",
    "A, B"
   ]
  },
  {
   "cell_type": "code",
   "execution_count": 68,
   "id": "cacd6c6c",
   "metadata": {},
   "outputs": [
    {
     "name": "stdout",
     "output_type": "stream",
     "text": [
      "hint: np.add(out=), np.negative(out=), np.multiply(out=), np.divide(out=)\n"
     ]
    }
   ],
   "source": [
    "hint(35)"
   ]
  },
  {
   "cell_type": "code",
   "execution_count": 79,
   "id": "5da83e0f",
   "metadata": {},
   "outputs": [
    {
     "data": {
      "text/plain": [
       "array([[ -3. , -58.5, -28. , -10.5],\n",
       "       [-13.5, -38.5, -18. , -24. ],\n",
       "       [-10. , -18. , -33. , -30. ],\n",
       "       [-10. , -42. , -20. , -14. ]], dtype=float16)"
      ]
     },
     "execution_count": 79,
     "metadata": {},
     "output_type": "execute_result"
    }
   ],
   "source": [
    "np.multiply(np.add(A, B), (np.divide(np.negative(A), 2)), out=A)"
   ]
  },
  {
   "cell_type": "code",
   "execution_count": 80,
   "id": "3f39b1ae",
   "metadata": {},
   "outputs": [
    {
     "name": "stdout",
     "output_type": "stream",
     "text": [
      "A = np.ones(3)*1\n",
      "B = np.ones(3)*2\n",
      "np.add(A,B,out=B)\n",
      "np.divide(A,2,out=A)\n",
      "np.negative(A,out=A)\n",
      "np.multiply(A,B,out=A)\n"
     ]
    }
   ],
   "source": [
    "answer(35)"
   ]
  },
  {
   "cell_type": "markdown",
   "id": "8a98c2a8",
   "metadata": {},
   "source": [
    "#### * 36. Extract the integer part of a random array of positive numbers using 4 different methods (★★☆)"
   ]
  },
  {
   "cell_type": "code",
   "execution_count": 99,
   "id": "368130b3",
   "metadata": {},
   "outputs": [
    {
     "data": {
      "text/plain": [
       "array([[94.66019796, 92.92832944,  6.30406175, 24.02928063],\n",
       "       [16.38909549,  4.08585382, 91.45092818, 31.96687035],\n",
       "       [12.12860752, 34.95367075, 43.37597818, 62.48506341],\n",
       "       [60.34073305, 99.51058289,  9.55617047, 51.90292207]])"
      ]
     },
     "execution_count": 99,
     "metadata": {},
     "output_type": "execute_result"
    }
   ],
   "source": [
    "Z = np.random.random((4, 4)) * 100\n",
    "Z"
   ]
  },
  {
   "cell_type": "code",
   "execution_count": 100,
   "id": "85d45427",
   "metadata": {},
   "outputs": [
    {
     "data": {
      "text/plain": [
       "array([[94., 92.,  6., 24.],\n",
       "       [16.,  4., 91., 31.],\n",
       "       [12., 34., 43., 62.],\n",
       "       [60., 99.,  9., 51.]])"
      ]
     },
     "execution_count": 100,
     "metadata": {},
     "output_type": "execute_result"
    }
   ],
   "source": [
    "np.floor(Z)"
   ]
  },
  {
   "cell_type": "code",
   "execution_count": 101,
   "id": "d75b5fcd",
   "metadata": {},
   "outputs": [
    {
     "data": {
      "text/plain": [
       "array([[94, 92,  6, 24],\n",
       "       [16,  4, 91, 31],\n",
       "       [12, 34, 43, 62],\n",
       "       [60, 99,  9, 51]], dtype=int8)"
      ]
     },
     "execution_count": 101,
     "metadata": {},
     "output_type": "execute_result"
    }
   ],
   "source": [
    "np.astype(Z, np.int8)"
   ]
  },
  {
   "cell_type": "code",
   "execution_count": 105,
   "id": "ca3223dd",
   "metadata": {},
   "outputs": [
    {
     "data": {
      "text/plain": [
       "array([[94., 92.,  6., 24.],\n",
       "       [16.,  4., 91., 31.],\n",
       "       [12., 34., 43., 62.],\n",
       "       [60., 99.,  9., 51.]])"
      ]
     },
     "execution_count": 105,
     "metadata": {},
     "output_type": "execute_result"
    }
   ],
   "source": [
    "np.ceil(Z) - 1"
   ]
  },
  {
   "cell_type": "code",
   "execution_count": 106,
   "id": "d23e7692",
   "metadata": {},
   "outputs": [
    {
     "name": "stdout",
     "output_type": "stream",
     "text": [
      "hint: %, np.floor, astype, np.trunc\n"
     ]
    }
   ],
   "source": [
    "hint(36)"
   ]
  },
  {
   "cell_type": "code",
   "execution_count": 108,
   "id": "7d39ecba",
   "metadata": {},
   "outputs": [
    {
     "data": {
      "text/plain": [
       "array([[94., 92.,  6., 24.],\n",
       "       [16.,  4., 91., 31.],\n",
       "       [12., 34., 43., 62.],\n",
       "       [60., 99.,  9., 51.]])"
      ]
     },
     "execution_count": 108,
     "metadata": {},
     "output_type": "execute_result"
    }
   ],
   "source": [
    "np.trunc(Z)"
   ]
  },
  {
   "cell_type": "code",
   "execution_count": 112,
   "id": "d527696d",
   "metadata": {},
   "outputs": [
    {
     "name": "stdout",
     "output_type": "stream",
     "text": [
      "Z = np.random.uniform(0,10,10)\n",
      "\n",
      "print(Z - Z%1)\n",
      "print(Z // 1)\n",
      "print(np.floor(Z))\n",
      "print(Z.astype(int))\n",
      "print(np.trunc(Z))\n"
     ]
    }
   ],
   "source": [
    "answer(36)"
   ]
  },
  {
   "cell_type": "code",
   "execution_count": 113,
   "id": "4a6dab7d",
   "metadata": {},
   "outputs": [
    {
     "data": {
      "text/plain": [
       "array([[94., 92.,  6., 24.],\n",
       "       [16.,  4., 91., 31.],\n",
       "       [12., 34., 43., 62.],\n",
       "       [60., 99.,  9., 51.]])"
      ]
     },
     "execution_count": 113,
     "metadata": {},
     "output_type": "execute_result"
    }
   ],
   "source": [
    "Z - Z%1"
   ]
  },
  {
   "cell_type": "markdown",
   "id": "5a2e3d85",
   "metadata": {},
   "source": [
    "#### *37. Create a 5x5 matrix with row values ranging from 0 to 4 (★★☆)"
   ]
  },
  {
   "cell_type": "code",
   "execution_count": 13,
   "id": "1d974e8f",
   "metadata": {},
   "outputs": [
    {
     "data": {
      "text/plain": [
       "array([[0, 1, 2, 3, 4],\n",
       "       [0, 1, 2, 3, 4],\n",
       "       [0, 1, 2, 3, 4],\n",
       "       [0, 1, 2, 3, 4],\n",
       "       [0, 1, 2, 3, 4]])"
      ]
     },
     "execution_count": 13,
     "metadata": {},
     "output_type": "execute_result"
    }
   ],
   "source": [
    "np.tile(np.arange(5), (5, 1))"
   ]
  },
  {
   "cell_type": "code",
   "execution_count": 14,
   "id": "f0a2dd5a",
   "metadata": {},
   "outputs": [
    {
     "name": "stdout",
     "output_type": "stream",
     "text": [
      "Z = np.zeros((5,5))\n",
      "Z += np.arange(5)\n",
      "print(Z)\n",
      "\n",
      "# without broadcasting\n",
      "Z = np.tile(np.arange(0, 5), (5,1))\n",
      "print(Z)\n"
     ]
    }
   ],
   "source": [
    "answer(37)"
   ]
  },
  {
   "cell_type": "markdown",
   "id": "9720e2d5",
   "metadata": {},
   "source": [
    "#### *38. Consider a generator function that generates 10 integers and use it to build an array (★☆☆)"
   ]
  },
  {
   "cell_type": "code",
   "execution_count": 12,
   "id": "b123ae76",
   "metadata": {},
   "outputs": [
    {
     "name": "stdout",
     "output_type": "stream",
     "text": [
      "fromiter(iter, dtype, count=-1, *, like=None)\n",
      "\n",
      "Create a new 1-dimensional array from an iterable object.\n",
      "\n",
      "Parameters\n",
      "----------\n",
      "iter : iterable object\n",
      "    An iterable object providing data for the array.\n",
      "dtype : data-type\n",
      "    The data-type of the returned array.\n",
      "\n",
      "    .. versionchanged:: 1.23\n",
      "        Object and subarray dtypes are now supported (note that the final\n",
      "        result is not 1-D for a subarray dtype).\n",
      "\n",
      "count : int, optional\n",
      "    The number of items to read from *iterable*.  The default is -1,\n",
      "    which means all data is read.\n",
      "like : array_like, optional\n",
      "    Reference object to allow the creation of arrays which are not\n",
      "    NumPy arrays. If an array-like passed in as ``like`` supports\n",
      "    the ``__array_function__`` protocol, the result will be defined\n",
      "    by it. In this case, it ensures the creation of an array object\n",
      "    compatible with that passed in via this argument.\n",
      "\n",
      "    .. versionadded:: 1.20.0\n",
      "\n",
      "Returns\n",
      "-------\n",
      "out : ndarray\n",
      "    The output array.\n",
      "\n",
      "Notes\n",
      "-----\n",
      "Specify `count` to improve performance.  It allows ``fromiter`` to\n",
      "pre-allocate the output array, instead of resizing it on demand.\n",
      "\n",
      "Examples\n",
      "--------\n",
      ">>> iterable = (x*x for x in range(5))\n",
      ">>> np.fromiter(iterable, float)\n",
      "array([  0.,   1.,   4.,   9.,  16.])\n",
      "\n",
      "A carefully constructed subarray dtype will lead to higher dimensional\n",
      "results:\n",
      "\n",
      ">>> iterable = ((x+1, x+2) for x in range(5))\n",
      ">>> np.fromiter(iterable, dtype=np.dtype((int, 2)))\n",
      "array([[1, 2],\n",
      "       [2, 3],\n",
      "       [3, 4],\n",
      "       [4, 5],\n",
      "       [5, 6]])\n"
     ]
    }
   ],
   "source": [
    "np.info(np.fromiter)"
   ]
  },
  {
   "cell_type": "code",
   "execution_count": 42,
   "id": "e5dd8fc9",
   "metadata": {},
   "outputs": [
    {
     "data": {
      "text/plain": [
       "array([0, 1, 2, 3, 4, 5, 6, 7, 8, 9])"
      ]
     },
     "execution_count": 42,
     "metadata": {},
     "output_type": "execute_result"
    }
   ],
   "source": [
    "iterable = (x for x in range(10))\n",
    "np.fromiter(iterable, dtype=int)"
   ]
  },
  {
   "cell_type": "code",
   "execution_count": 37,
   "id": "35a3be23",
   "metadata": {},
   "outputs": [
    {
     "name": "stdout",
     "output_type": "stream",
     "text": [
      "def generate():\n",
      "    for x in range(10):\n",
      "        yield x\n",
      "Z = np.fromiter(generate(),dtype=float,count=-1)\n",
      "print(Z)\n"
     ]
    }
   ],
   "source": [
    "answer(38)"
   ]
  },
  {
   "cell_type": "markdown",
   "id": "c6f2c912",
   "metadata": {},
   "source": [
    "#### *39. Create a vector of size 10 with values ranging from 0 to 1, both excluded (★★☆)"
   ]
  },
  {
   "cell_type": "code",
   "execution_count": 51,
   "id": "6aaa27d3",
   "metadata": {},
   "outputs": [
    {
     "data": {
      "text/plain": [
       "array([0.09090909, 0.18181818, 0.27272727, 0.36363636, 0.45454545,\n",
       "       0.54545455, 0.63636364, 0.72727273, 0.81818182, 0.90909091])"
      ]
     },
     "execution_count": 51,
     "metadata": {},
     "output_type": "execute_result"
    }
   ],
   "source": [
    "np.setdiff1d(np.linspace(0, 1, 11, endpoint=False), [0])"
   ]
  },
  {
   "cell_type": "code",
   "execution_count": 50,
   "id": "39d191d8",
   "metadata": {},
   "outputs": [
    {
     "name": "stdout",
     "output_type": "stream",
     "text": [
      "Z = np.linspace(0,1,11,endpoint=False)[1:]\n",
      "print(Z)\n"
     ]
    }
   ],
   "source": [
    "answer(39)"
   ]
  },
  {
   "cell_type": "markdown",
   "id": "a36d6ee4",
   "metadata": {},
   "source": [
    "#### 40. Create a random vector of size 10 and sort it (★★☆)"
   ]
  },
  {
   "cell_type": "code",
   "execution_count": 57,
   "id": "e589d216",
   "metadata": {},
   "outputs": [
    {
     "data": {
      "text/plain": [
       "array([0.09736142, 0.18521468, 0.41063301, 0.44626363, 0.48528964,\n",
       "       0.52014015, 0.59969375, 0.64366777, 0.68568614, 0.97712223])"
      ]
     },
     "execution_count": 57,
     "metadata": {},
     "output_type": "execute_result"
    }
   ],
   "source": [
    "X = np.random.random(10)\n",
    "X.sort()\n",
    "X"
   ]
  },
  {
   "cell_type": "code",
   "execution_count": 58,
   "id": "ae24d025",
   "metadata": {},
   "outputs": [
    {
     "name": "stdout",
     "output_type": "stream",
     "text": [
      "Z = np.random.random(10)\n",
      "Z.sort()\n",
      "print(Z)\n"
     ]
    }
   ],
   "source": [
    "answer(40)"
   ]
  },
  {
   "cell_type": "markdown",
   "id": "0fb4ad68",
   "metadata": {},
   "source": [
    "#### !41. How to sum a small array faster than np.sum? (★★☆)"
   ]
  },
  {
   "cell_type": "code",
   "execution_count": 7,
   "id": "a1ba05a0",
   "metadata": {},
   "outputs": [],
   "source": [
    "A = np.random.randint(0, 1000, (10000000))"
   ]
  },
  {
   "cell_type": "code",
   "execution_count": 8,
   "id": "8edaf106",
   "metadata": {},
   "outputs": [
    {
     "name": "stdout",
     "output_type": "stream",
     "text": [
      "CPU times: user 3 μs, sys: 0 ns, total: 3 μs\n",
      "Wall time: 6.2 μs\n"
     ]
    },
    {
     "data": {
      "text/plain": [
       "np.int64(4995780296)"
      ]
     },
     "execution_count": 8,
     "metadata": {},
     "output_type": "execute_result"
    }
   ],
   "source": [
    "%time\n",
    "A.sum()"
   ]
  },
  {
   "cell_type": "code",
   "execution_count": 9,
   "id": "e47e6d01",
   "metadata": {},
   "outputs": [
    {
     "name": "stdout",
     "output_type": "stream",
     "text": [
      "CPU times: user 2 μs, sys: 0 ns, total: 2 μs\n",
      "Wall time: 5.96 μs\n"
     ]
    },
    {
     "data": {
      "text/plain": [
       "np.int64(4995780296)"
      ]
     },
     "execution_count": 9,
     "metadata": {},
     "output_type": "execute_result"
    }
   ],
   "source": [
    "%time\n",
    "np.add.reduce(A)"
   ]
  },
  {
   "cell_type": "code",
   "execution_count": 21,
   "id": "f3487304",
   "metadata": {},
   "outputs": [
    {
     "name": "stdout",
     "output_type": "stream",
     "text": [
      "hint: np.add.reduce\n"
     ]
    }
   ],
   "source": [
    "hint(41)"
   ]
  },
  {
   "cell_type": "code",
   "execution_count": 6,
   "id": "79573d10",
   "metadata": {},
   "outputs": [
    {
     "name": "stdout",
     "output_type": "stream",
     "text": [
      "# Author: Evgeni Burovski\n",
      "\n",
      "Z = np.arange(10)\n",
      "np.add.reduce(Z)\n"
     ]
    }
   ],
   "source": [
    "answer(41)"
   ]
  },
  {
   "cell_type": "markdown",
   "id": "024ac365",
   "metadata": {},
   "source": [
    "#### !42. Consider two random array A and B, check if they are equal (★★☆)"
   ]
  },
  {
   "cell_type": "code",
   "execution_count": 3,
   "id": "7db3846d",
   "metadata": {},
   "outputs": [
    {
     "data": {
      "text/plain": [
       "array([[False, False,  True,  True, False, False, False, False, False,\n",
       "        False],\n",
       "       [False, False, False, False, False, False, False, False, False,\n",
       "        False],\n",
       "       [False, False, False, False, False, False, False, False, False,\n",
       "        False],\n",
       "       [False, False,  True, False, False, False, False, False, False,\n",
       "        False],\n",
       "       [False, False, False, False, False,  True, False, False, False,\n",
       "        False],\n",
       "       [False,  True, False, False, False, False, False, False, False,\n",
       "        False],\n",
       "       [ True, False, False, False, False, False, False, False, False,\n",
       "        False],\n",
       "       [False, False, False, False, False, False,  True, False, False,\n",
       "        False],\n",
       "       [False, False, False, False, False, False, False, False, False,\n",
       "        False],\n",
       "       [False, False, False, False, False,  True, False,  True,  True,\n",
       "        False]])"
      ]
     },
     "execution_count": 3,
     "metadata": {},
     "output_type": "execute_result"
    }
   ],
   "source": [
    "A = np.random.randint(10, size=(10, 10))\n",
    "B = np.random.randint(10, size=(10, 10))\n",
    "np.equal(A, B)"
   ]
  },
  {
   "cell_type": "code",
   "execution_count": 20,
   "id": "454dad04",
   "metadata": {},
   "outputs": [
    {
     "name": "stdout",
     "output_type": "stream",
     "text": [
      "hint: np.allclose, np.array_equal\n"
     ]
    }
   ],
   "source": [
    "hint(42)"
   ]
  },
  {
   "cell_type": "code",
   "execution_count": 21,
   "id": "10f14ee4",
   "metadata": {},
   "outputs": [
    {
     "name": "stdout",
     "output_type": "stream",
     "text": [
      "Help on _ArrayFunctionDispatcher in module numpy:\n",
      "\n",
      "allclose(a, b, rtol=1e-05, atol=1e-08, equal_nan=False)\n",
      "    Returns True if two arrays are element-wise equal within a tolerance.\n",
      "    \n",
      "    The tolerance values are positive, typically very small numbers.  The\n",
      "    relative difference (`rtol` * abs(`b`)) and the absolute difference\n",
      "    `atol` are added together to compare against the absolute difference\n",
      "    between `a` and `b`.\n",
      "    \n",
      "    .. warning:: The default `atol` is not appropriate for comparing numbers\n",
      "                 with magnitudes much smaller than one (see Notes).\n",
      "    \n",
      "    NaNs are treated as equal if they are in the same place and if\n",
      "    ``equal_nan=True``.  Infs are treated as equal if they are in the same\n",
      "    place and of the same sign in both arrays.\n",
      "    \n",
      "    Parameters\n",
      "    ----------\n",
      "    a, b : array_like\n",
      "        Input arrays to compare.\n",
      "    rtol : array_like\n",
      "        The relative tolerance parameter (see Notes).\n",
      "    atol : array_like\n",
      "        The absolute tolerance parameter (see Notes).\n",
      "    equal_nan : bool\n",
      "        Whether to compare NaN's as equal.  If True, NaN's in `a` will be\n",
      "        considered equal to NaN's in `b` in the output array.\n",
      "    \n",
      "        .. versionadded:: 1.10.0\n",
      "    \n",
      "    Returns\n",
      "    -------\n",
      "    allclose : bool\n",
      "        Returns True if the two arrays are equal within the given\n",
      "        tolerance; False otherwise.\n",
      "    \n",
      "    See Also\n",
      "    --------\n",
      "    isclose, all, any, equal\n",
      "    \n",
      "    Notes\n",
      "    -----\n",
      "    If the following equation is element-wise True, then allclose returns\n",
      "    True.::\n",
      "    \n",
      "     absolute(a - b) <= (atol + rtol * absolute(b))\n",
      "    \n",
      "    The above equation is not symmetric in `a` and `b`, so that\n",
      "    ``allclose(a, b)`` might be different from ``allclose(b, a)`` in\n",
      "    some rare cases.\n",
      "    \n",
      "    The default value of `atol` is not appropriate when the reference value\n",
      "    `b` has magnitude smaller than one. For example, it is unlikely that\n",
      "    ``a = 1e-9`` and ``b = 2e-9`` should be considered \"close\", yet\n",
      "    ``allclose(1e-9, 2e-9)`` is ``True`` with default settings. Be sure\n",
      "    to select `atol` for the use case at hand, especially for defining the\n",
      "    threshold below which a non-zero value in `a` will be considered \"close\"\n",
      "    to a very small or zero value in `b`.\n",
      "    \n",
      "    The comparison of `a` and `b` uses standard broadcasting, which\n",
      "    means that `a` and `b` need not have the same shape in order for\n",
      "    ``allclose(a, b)`` to evaluate to True.  The same is true for\n",
      "    `equal` but not `array_equal`.\n",
      "    \n",
      "    `allclose` is not defined for non-numeric data types.\n",
      "    `bool` is considered a numeric data-type for this purpose.\n",
      "    \n",
      "    Examples\n",
      "    --------\n",
      "    >>> np.allclose([1e10,1e-7], [1.00001e10,1e-8])\n",
      "    False\n",
      "    >>> np.allclose([1e10,1e-8], [1.00001e10,1e-9])\n",
      "    True\n",
      "    >>> np.allclose([1e10,1e-8], [1.0001e10,1e-9])\n",
      "    False\n",
      "    >>> np.allclose([1.0, np.nan], [1.0, np.nan])\n",
      "    False\n",
      "    >>> np.allclose([1.0, np.nan], [1.0, np.nan], equal_nan=True)\n",
      "    True\n",
      "\n"
     ]
    }
   ],
   "source": [
    "help(np.allclose)"
   ]
  },
  {
   "cell_type": "code",
   "execution_count": 5,
   "id": "f93e7fb7",
   "metadata": {},
   "outputs": [
    {
     "data": {
      "text/plain": [
       "(False, False)"
      ]
     },
     "execution_count": 5,
     "metadata": {},
     "output_type": "execute_result"
    }
   ],
   "source": [
    "np.allclose(A, B), np.array_equal(A, B)"
   ]
  },
  {
   "cell_type": "code",
   "execution_count": 10,
   "id": "ed8723c4",
   "metadata": {},
   "outputs": [
    {
     "data": {
      "text/plain": [
       "(True, True)"
      ]
     },
     "execution_count": 10,
     "metadata": {},
     "output_type": "execute_result"
    }
   ],
   "source": [
    "A = np.tile(np.arange(5), (5, 1))\n",
    "B = np.tile(np.arange(5), (5, 1))\n",
    "\n",
    "np.allclose(A, B), np.array_equal(A, B)"
   ]
  },
  {
   "cell_type": "markdown",
   "id": "c68d2401",
   "metadata": {},
   "source": [
    "#### !43. Make an array immutable (read-only) (★★☆)"
   ]
  },
  {
   "cell_type": "code",
   "execution_count": 23,
   "id": "7828539d",
   "metadata": {},
   "outputs": [],
   "source": [
    "A = np.arange(1, 10)\n",
    "A.flags.writeable = False"
   ]
  },
  {
   "cell_type": "code",
   "execution_count": 24,
   "id": "f93c14c8",
   "metadata": {},
   "outputs": [
    {
     "ename": "ValueError",
     "evalue": "assignment destination is read-only",
     "output_type": "error",
     "traceback": [
      "\u001b[0;31m---------------------------------------------------------------------------\u001b[0m",
      "\u001b[0;31mValueError\u001b[0m                                Traceback (most recent call last)",
      "Cell \u001b[0;32mIn[24], line 1\u001b[0m\n\u001b[0;32m----> 1\u001b[0m \u001b[43mA\u001b[49m\u001b[43m[\u001b[49m\u001b[38;5;241;43m0\u001b[39;49m\u001b[43m]\u001b[49m \u001b[38;5;241m=\u001b[39m \u001b[38;5;241m100\u001b[39m\n",
      "\u001b[0;31mValueError\u001b[0m: assignment destination is read-only"
     ]
    }
   ],
   "source": [
    "A[0] = 100"
   ]
  },
  {
   "cell_type": "code",
   "execution_count": 25,
   "id": "ca775216",
   "metadata": {},
   "outputs": [
    {
     "name": "stdout",
     "output_type": "stream",
     "text": [
      "Z = np.zeros(10)\n",
      "Z.flags.writeable = False\n",
      "Z[0] = 1\n"
     ]
    }
   ],
   "source": [
    "answer(43)"
   ]
  },
  {
   "cell_type": "markdown",
   "id": "55df6280",
   "metadata": {},
   "source": [
    "#### *44. Consider a random 10x2 matrix representing cartesian coordinates, convert them to polar coordinates (★★☆)"
   ]
  },
  {
   "cell_type": "code",
   "execution_count": 26,
   "id": "f1c86ea0",
   "metadata": {},
   "outputs": [
    {
     "data": {
      "text/plain": [
       "array([[53, 42],\n",
       "       [30, 27],\n",
       "       [65, 63],\n",
       "       [87, 99],\n",
       "       [13,  7],\n",
       "       [35, 60],\n",
       "       [94, 18],\n",
       "       [ 6, 80],\n",
       "       [50, 55],\n",
       "       [77, 93]])"
      ]
     },
     "execution_count": 26,
     "metadata": {},
     "output_type": "execute_result"
    }
   ],
   "source": [
    "A = np.random.randint(1, 100, size=(10, 2))"
   ]
  },
  {
   "cell_type": "code",
   "execution_count": 27,
   "id": "9800bac7",
   "metadata": {},
   "outputs": [],
   "source": [
    "ro = np.sqrt(A[:, 0] + A[:, 1])\n",
    "fi = np.arctan(A[:, 1] / A[:, 0])"
   ]
  },
  {
   "cell_type": "code",
   "execution_count": 36,
   "id": "849d9c1d",
   "metadata": {},
   "outputs": [],
   "source": [
    "ro = ro.reshape(-1, 1, )\n",
    "fi = fi.reshape(-1, 1)"
   ]
  },
  {
   "cell_type": "code",
   "execution_count": 38,
   "id": "e6308ee5",
   "metadata": {},
   "outputs": [
    {
     "data": {
      "text/plain": [
       "array([[ 9.74679434,  0.67012204],\n",
       "       [ 7.54983444,  0.7328151 ],\n",
       "       [11.3137085 ,  0.76977443],\n",
       "       [13.6381817 ,  0.849825  ],\n",
       "       [ 4.47213595,  0.49394137],\n",
       "       [ 9.74679434,  1.04272188],\n",
       "       [10.58300524,  0.18919902],\n",
       "       [ 9.2736185 ,  1.49593648],\n",
       "       [10.24695077,  0.83298127],\n",
       "       [13.03840481,  0.87923938]])"
      ]
     },
     "execution_count": 38,
     "metadata": {},
     "output_type": "execute_result"
    }
   ],
   "source": [
    "P = np.hstack((ro, fi))\n",
    "P"
   ]
  },
  {
   "cell_type": "code",
   "execution_count": 39,
   "id": "b02657b7",
   "metadata": {},
   "outputs": [
    {
     "name": "stdout",
     "output_type": "stream",
     "text": [
      "Z = np.random.random((10,2))\n",
      "X,Y = Z[:,0], Z[:,1]\n",
      "R = np.sqrt(X**2+Y**2)\n",
      "T = np.arctan2(Y,X)\n",
      "print(R)\n",
      "print(T)\n"
     ]
    }
   ],
   "source": [
    "answer(44)"
   ]
  },
  {
   "cell_type": "markdown",
   "id": "2f60f1ec",
   "metadata": {},
   "source": [
    "#### !45. Create random vector of size 10 and replace the maximum value by 0 (★★☆)"
   ]
  },
  {
   "cell_type": "code",
   "execution_count": 55,
   "id": "d9f48f1c",
   "metadata": {},
   "outputs": [
    {
     "data": {
      "text/plain": [
       "(array([103, 436, 861, 271, 107,  72, 701,  21, 615, 122]), np.int64(861))"
      ]
     },
     "execution_count": 55,
     "metadata": {},
     "output_type": "execute_result"
    }
   ],
   "source": [
    "np.random.seed(42)\n",
    "A = np.random.randint(1, 1000, (10))\n",
    "A, A.max()"
   ]
  },
  {
   "cell_type": "code",
   "execution_count": 57,
   "id": "b474cade",
   "metadata": {},
   "outputs": [],
   "source": [
    "A[A == A.max()] = 0"
   ]
  },
  {
   "cell_type": "code",
   "execution_count": 58,
   "id": "4640e62a",
   "metadata": {},
   "outputs": [
    {
     "data": {
      "text/plain": [
       "array([103, 436,   0, 271, 107,  72, 701,  21, 615, 122])"
      ]
     },
     "execution_count": 58,
     "metadata": {},
     "output_type": "execute_result"
    }
   ],
   "source": [
    "A"
   ]
  },
  {
   "cell_type": "code",
   "execution_count": 54,
   "id": "5d6e04dc",
   "metadata": {},
   "outputs": [
    {
     "name": "stdout",
     "output_type": "stream",
     "text": [
      "Z = np.random.random(10)\n",
      "Z[Z.argmax()] = 0\n",
      "print(Z)\n"
     ]
    }
   ],
   "source": [
    "answer(45)"
   ]
  },
  {
   "cell_type": "code",
   "execution_count": 59,
   "id": "e1c5bbaf",
   "metadata": {},
   "outputs": [],
   "source": [
    "A[A.argmax()] = 0"
   ]
  },
  {
   "cell_type": "markdown",
   "id": "084e8ad4",
   "metadata": {},
   "source": [
    "#### !46. Create a structured array with `x` and `y` coordinates covering the [0,1]x[0,1] area (★★☆)"
   ]
  },
  {
   "cell_type": "code",
   "execution_count": 82,
   "id": "58b47c13",
   "metadata": {},
   "outputs": [
    {
     "data": {
      "text/plain": [
       "array([[0.  , 0.  ],\n",
       "       [0.25, 0.  ],\n",
       "       [0.5 , 0.  ],\n",
       "       [0.75, 0.  ],\n",
       "       [1.  , 0.  ],\n",
       "       [0.  , 0.25],\n",
       "       [0.25, 0.25],\n",
       "       [0.5 , 0.25],\n",
       "       [0.75, 0.25],\n",
       "       [1.  , 0.25],\n",
       "       [0.  , 0.5 ],\n",
       "       [0.25, 0.5 ],\n",
       "       [0.5 , 0.5 ],\n",
       "       [0.75, 0.5 ],\n",
       "       [1.  , 0.5 ],\n",
       "       [0.  , 0.75],\n",
       "       [0.25, 0.75],\n",
       "       [0.5 , 0.75],\n",
       "       [0.75, 0.75],\n",
       "       [1.  , 0.75],\n",
       "       [0.  , 1.  ],\n",
       "       [0.25, 1.  ],\n",
       "       [0.5 , 1.  ],\n",
       "       [0.75, 1.  ],\n",
       "       [1.  , 1.  ]])"
      ]
     },
     "execution_count": 82,
     "metadata": {},
     "output_type": "execute_result"
    }
   ],
   "source": [
    "x = np.linspace(0, 1, 5)\n",
    "y = np.linspace(0, 1, 5)\n",
    "X, Y = np.meshgrid(x, y)\n",
    "X = X.reshape(-1, 1)\n",
    "Y = Y.reshape(-1, 1)\n",
    "Z = np.hstack((X, Y))\n",
    "Z"
   ]
  },
  {
   "cell_type": "code",
   "execution_count": 62,
   "id": "43c4da34",
   "metadata": {},
   "outputs": [
    {
     "name": "stdout",
     "output_type": "stream",
     "text": [
      "Z = np.zeros((5,5), [('x',float),('y',float)])\n",
      "Z['x'], Z['y'] = np.meshgrid(np.linspace(0,1,5),\n",
      "                             np.linspace(0,1,5))\n",
      "print(Z)\n"
     ]
    }
   ],
   "source": [
    "answer(46)"
   ]
  },
  {
   "cell_type": "code",
   "execution_count": 63,
   "id": "b0f51e9f",
   "metadata": {},
   "outputs": [
    {
     "name": "stdout",
     "output_type": "stream",
     "text": [
      "[[(0.  , 0.  ) (0.25, 0.  ) (0.5 , 0.  ) (0.75, 0.  ) (1.  , 0.  )]\n",
      " [(0.  , 0.25) (0.25, 0.25) (0.5 , 0.25) (0.75, 0.25) (1.  , 0.25)]\n",
      " [(0.  , 0.5 ) (0.25, 0.5 ) (0.5 , 0.5 ) (0.75, 0.5 ) (1.  , 0.5 )]\n",
      " [(0.  , 0.75) (0.25, 0.75) (0.5 , 0.75) (0.75, 0.75) (1.  , 0.75)]\n",
      " [(0.  , 1.  ) (0.25, 1.  ) (0.5 , 1.  ) (0.75, 1.  ) (1.  , 1.  )]]\n"
     ]
    }
   ],
   "source": [
    "Z = np.zeros((5,5), [('x',float),('y',float)])\n",
    "Z['x'], Z['y'] = np.meshgrid(np.linspace(0,1,5),\n",
    "                             np.linspace(0,1,5))\n",
    "print(Z)"
   ]
  },
  {
   "cell_type": "markdown",
   "id": "d7b9bc42",
   "metadata": {},
   "source": [
    "#### =>!47. Given two arrays, X and Y, construct the Cauchy matrix C (Cij =1/(xi - yj)) (★★☆)"
   ]
  },
  {
   "cell_type": "code",
   "execution_count": 83,
   "id": "a24824fb",
   "metadata": {},
   "outputs": [
    {
     "name": "stdout",
     "output_type": "stream",
     "text": [
      "hint: np.subtract.outer\n"
     ]
    }
   ],
   "source": [
    "hint(47)"
   ]
  },
  {
   "cell_type": "code",
   "execution_count": 84,
   "id": "e9d4e8c5",
   "metadata": {},
   "outputs": [
    {
     "name": "stdout",
     "output_type": "stream",
     "text": [
      "outer(A, B, /, **kwargs)\n",
      "\n",
      "Apply the ufunc `op` to all pairs (a, b) with a in `A` and b in `B`.\n",
      "\n",
      "Let ``M = A.ndim``, ``N = B.ndim``. Then the result, `C`, of\n",
      "``op.outer(A, B)`` is an array of dimension M + N such that:\n",
      "\n",
      ".. math:: C[i_0, ..., i_{M-1}, j_0, ..., j_{N-1}] =\n",
      "   op(A[i_0, ..., i_{M-1}], B[j_0, ..., j_{N-1}])\n",
      "\n",
      "For `A` and `B` one-dimensional, this is equivalent to::\n",
      "\n",
      "  r = empty(len(A),len(B))\n",
      "  for i in range(len(A)):\n",
      "      for j in range(len(B)):\n",
      "          r[i,j] = op(A[i], B[j])  # op = ufunc in question\n",
      "\n",
      "Parameters\n",
      "----------\n",
      "A : array_like\n",
      "    First array\n",
      "B : array_like\n",
      "    Second array\n",
      "kwargs : any\n",
      "    Arguments to pass on to the ufunc. Typically `dtype` or `out`.\n",
      "    See `ufunc` for a comprehensive overview of all available arguments.\n",
      "\n",
      "Returns\n",
      "-------\n",
      "r : ndarray\n",
      "    Output array\n",
      "\n",
      "See Also\n",
      "--------\n",
      "numpy.outer : A less powerful version of ``np.multiply.outer``\n",
      "              that `ravel`\\ s all inputs to 1D. This exists\n",
      "              primarily for compatibility with old code.\n",
      "\n",
      "tensordot : ``np.tensordot(a, b, axes=((), ()))`` and\n",
      "            ``np.multiply.outer(a, b)`` behave same for all\n",
      "            dimensions of a and b.\n",
      "\n",
      "Examples\n",
      "--------\n",
      ">>> np.multiply.outer([1, 2, 3], [4, 5, 6])\n",
      "array([[ 4,  5,  6],\n",
      "       [ 8, 10, 12],\n",
      "       [12, 15, 18]])\n",
      "\n",
      "A multi-dimensional example:\n",
      "\n",
      ">>> A = np.array([[1, 2, 3], [4, 5, 6]])\n",
      ">>> A.shape\n",
      "(2, 3)\n",
      ">>> B = np.array([[1, 2, 3, 4]])\n",
      ">>> B.shape\n",
      "(1, 4)\n",
      ">>> C = np.multiply.outer(A, B)\n",
      ">>> C.shape; C\n",
      "(2, 3, 1, 4)\n",
      "array([[[[ 1,  2,  3,  4]],\n",
      "        [[ 2,  4,  6,  8]],\n",
      "        [[ 3,  6,  9, 12]]],\n",
      "       [[[ 4,  8, 12, 16]],\n",
      "        [[ 5, 10, 15, 20]],\n",
      "        [[ 6, 12, 18, 24]]]])\n"
     ]
    }
   ],
   "source": [
    "np.info(np.subtract.outer)"
   ]
  },
  {
   "cell_type": "code",
   "execution_count": 85,
   "id": "d9350a23",
   "metadata": {},
   "outputs": [],
   "source": [
    "A = np.random.random((3, 3))\n",
    "B = np.random.random((3, 3))\n",
    "Z = 1 / np.subtract.outer(A, B)"
   ]
  },
  {
   "cell_type": "code",
   "execution_count": 87,
   "id": "beeb030f",
   "metadata": {},
   "outputs": [
    {
     "name": "stdout",
     "output_type": "stream",
     "text": [
      "# Author: Evgeni Burovski\n",
      "\n",
      "X = np.arange(8)\n",
      "Y = X + 0.5\n",
      "C = 1.0 / np.subtract.outer(X, Y)\n",
      "print(np.linalg.det(C))\n"
     ]
    }
   ],
   "source": [
    "answer(47)"
   ]
  },
  {
   "cell_type": "markdown",
   "id": "65ebc11b",
   "metadata": {},
   "source": [
    "#### !48. Print the minimum and maximum representable value for each numpy scalar type (★★☆)"
   ]
  },
  {
   "cell_type": "code",
   "execution_count": 88,
   "id": "e45d38fb",
   "metadata": {},
   "outputs": [
    {
     "name": "stdout",
     "output_type": "stream",
     "text": [
      "hint: np.iinfo, np.finfo, eps\n"
     ]
    }
   ],
   "source": [
    "hint(48)"
   ]
  },
  {
   "cell_type": "code",
   "execution_count": 92,
   "id": "521e3596",
   "metadata": {},
   "outputs": [
    {
     "name": "stdout",
     "output_type": "stream",
     "text": [
      "for dtype in [np.int8, np.int32, np.int64]:\n",
      "   print(np.iinfo(dtype).min)\n",
      "   print(np.iinfo(dtype).max)\n",
      "for dtype in [np.float32, np.float64]:\n",
      "   print(np.finfo(dtype).min)\n",
      "   print(np.finfo(dtype).max)\n",
      "   print(np.finfo(dtype).eps)\n"
     ]
    }
   ],
   "source": [
    "answer(48)"
   ]
  },
  {
   "cell_type": "markdown",
   "id": "9b317a98",
   "metadata": {},
   "source": [
    "#### !49. How to print all the values of an array? (★★☆)"
   ]
  },
  {
   "cell_type": "code",
   "execution_count": 95,
   "id": "309cdeb9",
   "metadata": {},
   "outputs": [
    {
     "name": "stdout",
     "output_type": "stream",
     "text": [
      "hint: np.set_printoptions\n"
     ]
    }
   ],
   "source": [
    "hint(49)"
   ]
  },
  {
   "cell_type": "code",
   "execution_count": 97,
   "id": "81eacf59",
   "metadata": {},
   "outputs": [
    {
     "name": "stdout",
     "output_type": "stream",
     "text": [
      "np.set_printoptions(threshold=float(\"inf\"))\n",
      "Z = np.zeros((40,40))\n",
      "print(Z)\n"
     ]
    }
   ],
   "source": [
    "answer(49)"
   ]
  },
  {
   "cell_type": "code",
   "execution_count": 98,
   "id": "22057eff",
   "metadata": {},
   "outputs": [
    {
     "name": "stdout",
     "output_type": "stream",
     "text": [
      "[[0. 0. 0. 0. 0. 0. 0. 0. 0. 0. 0. 0. 0. 0. 0. 0. 0. 0. 0. 0. 0. 0. 0. 0.\n",
      "  0. 0. 0. 0. 0. 0. 0. 0. 0. 0. 0. 0. 0. 0. 0. 0.]\n",
      " [0. 0. 0. 0. 0. 0. 0. 0. 0. 0. 0. 0. 0. 0. 0. 0. 0. 0. 0. 0. 0. 0. 0. 0.\n",
      "  0. 0. 0. 0. 0. 0. 0. 0. 0. 0. 0. 0. 0. 0. 0. 0.]\n",
      " [0. 0. 0. 0. 0. 0. 0. 0. 0. 0. 0. 0. 0. 0. 0. 0. 0. 0. 0. 0. 0. 0. 0. 0.\n",
      "  0. 0. 0. 0. 0. 0. 0. 0. 0. 0. 0. 0. 0. 0. 0. 0.]\n",
      " [0. 0. 0. 0. 0. 0. 0. 0. 0. 0. 0. 0. 0. 0. 0. 0. 0. 0. 0. 0. 0. 0. 0. 0.\n",
      "  0. 0. 0. 0. 0. 0. 0. 0. 0. 0. 0. 0. 0. 0. 0. 0.]\n",
      " [0. 0. 0. 0. 0. 0. 0. 0. 0. 0. 0. 0. 0. 0. 0. 0. 0. 0. 0. 0. 0. 0. 0. 0.\n",
      "  0. 0. 0. 0. 0. 0. 0. 0. 0. 0. 0. 0. 0. 0. 0. 0.]\n",
      " [0. 0. 0. 0. 0. 0. 0. 0. 0. 0. 0. 0. 0. 0. 0. 0. 0. 0. 0. 0. 0. 0. 0. 0.\n",
      "  0. 0. 0. 0. 0. 0. 0. 0. 0. 0. 0. 0. 0. 0. 0. 0.]\n",
      " [0. 0. 0. 0. 0. 0. 0. 0. 0. 0. 0. 0. 0. 0. 0. 0. 0. 0. 0. 0. 0. 0. 0. 0.\n",
      "  0. 0. 0. 0. 0. 0. 0. 0. 0. 0. 0. 0. 0. 0. 0. 0.]\n",
      " [0. 0. 0. 0. 0. 0. 0. 0. 0. 0. 0. 0. 0. 0. 0. 0. 0. 0. 0. 0. 0. 0. 0. 0.\n",
      "  0. 0. 0. 0. 0. 0. 0. 0. 0. 0. 0. 0. 0. 0. 0. 0.]\n",
      " [0. 0. 0. 0. 0. 0. 0. 0. 0. 0. 0. 0. 0. 0. 0. 0. 0. 0. 0. 0. 0. 0. 0. 0.\n",
      "  0. 0. 0. 0. 0. 0. 0. 0. 0. 0. 0. 0. 0. 0. 0. 0.]\n",
      " [0. 0. 0. 0. 0. 0. 0. 0. 0. 0. 0. 0. 0. 0. 0. 0. 0. 0. 0. 0. 0. 0. 0. 0.\n",
      "  0. 0. 0. 0. 0. 0. 0. 0. 0. 0. 0. 0. 0. 0. 0. 0.]\n",
      " [0. 0. 0. 0. 0. 0. 0. 0. 0. 0. 0. 0. 0. 0. 0. 0. 0. 0. 0. 0. 0. 0. 0. 0.\n",
      "  0. 0. 0. 0. 0. 0. 0. 0. 0. 0. 0. 0. 0. 0. 0. 0.]\n",
      " [0. 0. 0. 0. 0. 0. 0. 0. 0. 0. 0. 0. 0. 0. 0. 0. 0. 0. 0. 0. 0. 0. 0. 0.\n",
      "  0. 0. 0. 0. 0. 0. 0. 0. 0. 0. 0. 0. 0. 0. 0. 0.]\n",
      " [0. 0. 0. 0. 0. 0. 0. 0. 0. 0. 0. 0. 0. 0. 0. 0. 0. 0. 0. 0. 0. 0. 0. 0.\n",
      "  0. 0. 0. 0. 0. 0. 0. 0. 0. 0. 0. 0. 0. 0. 0. 0.]\n",
      " [0. 0. 0. 0. 0. 0. 0. 0. 0. 0. 0. 0. 0. 0. 0. 0. 0. 0. 0. 0. 0. 0. 0. 0.\n",
      "  0. 0. 0. 0. 0. 0. 0. 0. 0. 0. 0. 0. 0. 0. 0. 0.]\n",
      " [0. 0. 0. 0. 0. 0. 0. 0. 0. 0. 0. 0. 0. 0. 0. 0. 0. 0. 0. 0. 0. 0. 0. 0.\n",
      "  0. 0. 0. 0. 0. 0. 0. 0. 0. 0. 0. 0. 0. 0. 0. 0.]\n",
      " [0. 0. 0. 0. 0. 0. 0. 0. 0. 0. 0. 0. 0. 0. 0. 0. 0. 0. 0. 0. 0. 0. 0. 0.\n",
      "  0. 0. 0. 0. 0. 0. 0. 0. 0. 0. 0. 0. 0. 0. 0. 0.]\n",
      " [0. 0. 0. 0. 0. 0. 0. 0. 0. 0. 0. 0. 0. 0. 0. 0. 0. 0. 0. 0. 0. 0. 0. 0.\n",
      "  0. 0. 0. 0. 0. 0. 0. 0. 0. 0. 0. 0. 0. 0. 0. 0.]\n",
      " [0. 0. 0. 0. 0. 0. 0. 0. 0. 0. 0. 0. 0. 0. 0. 0. 0. 0. 0. 0. 0. 0. 0. 0.\n",
      "  0. 0. 0. 0. 0. 0. 0. 0. 0. 0. 0. 0. 0. 0. 0. 0.]\n",
      " [0. 0. 0. 0. 0. 0. 0. 0. 0. 0. 0. 0. 0. 0. 0. 0. 0. 0. 0. 0. 0. 0. 0. 0.\n",
      "  0. 0. 0. 0. 0. 0. 0. 0. 0. 0. 0. 0. 0. 0. 0. 0.]\n",
      " [0. 0. 0. 0. 0. 0. 0. 0. 0. 0. 0. 0. 0. 0. 0. 0. 0. 0. 0. 0. 0. 0. 0. 0.\n",
      "  0. 0. 0. 0. 0. 0. 0. 0. 0. 0. 0. 0. 0. 0. 0. 0.]\n",
      " [0. 0. 0. 0. 0. 0. 0. 0. 0. 0. 0. 0. 0. 0. 0. 0. 0. 0. 0. 0. 0. 0. 0. 0.\n",
      "  0. 0. 0. 0. 0. 0. 0. 0. 0. 0. 0. 0. 0. 0. 0. 0.]\n",
      " [0. 0. 0. 0. 0. 0. 0. 0. 0. 0. 0. 0. 0. 0. 0. 0. 0. 0. 0. 0. 0. 0. 0. 0.\n",
      "  0. 0. 0. 0. 0. 0. 0. 0. 0. 0. 0. 0. 0. 0. 0. 0.]\n",
      " [0. 0. 0. 0. 0. 0. 0. 0. 0. 0. 0. 0. 0. 0. 0. 0. 0. 0. 0. 0. 0. 0. 0. 0.\n",
      "  0. 0. 0. 0. 0. 0. 0. 0. 0. 0. 0. 0. 0. 0. 0. 0.]\n",
      " [0. 0. 0. 0. 0. 0. 0. 0. 0. 0. 0. 0. 0. 0. 0. 0. 0. 0. 0. 0. 0. 0. 0. 0.\n",
      "  0. 0. 0. 0. 0. 0. 0. 0. 0. 0. 0. 0. 0. 0. 0. 0.]\n",
      " [0. 0. 0. 0. 0. 0. 0. 0. 0. 0. 0. 0. 0. 0. 0. 0. 0. 0. 0. 0. 0. 0. 0. 0.\n",
      "  0. 0. 0. 0. 0. 0. 0. 0. 0. 0. 0. 0. 0. 0. 0. 0.]\n",
      " [0. 0. 0. 0. 0. 0. 0. 0. 0. 0. 0. 0. 0. 0. 0. 0. 0. 0. 0. 0. 0. 0. 0. 0.\n",
      "  0. 0. 0. 0. 0. 0. 0. 0. 0. 0. 0. 0. 0. 0. 0. 0.]\n",
      " [0. 0. 0. 0. 0. 0. 0. 0. 0. 0. 0. 0. 0. 0. 0. 0. 0. 0. 0. 0. 0. 0. 0. 0.\n",
      "  0. 0. 0. 0. 0. 0. 0. 0. 0. 0. 0. 0. 0. 0. 0. 0.]\n",
      " [0. 0. 0. 0. 0. 0. 0. 0. 0. 0. 0. 0. 0. 0. 0. 0. 0. 0. 0. 0. 0. 0. 0. 0.\n",
      "  0. 0. 0. 0. 0. 0. 0. 0. 0. 0. 0. 0. 0. 0. 0. 0.]\n",
      " [0. 0. 0. 0. 0. 0. 0. 0. 0. 0. 0. 0. 0. 0. 0. 0. 0. 0. 0. 0. 0. 0. 0. 0.\n",
      "  0. 0. 0. 0. 0. 0. 0. 0. 0. 0. 0. 0. 0. 0. 0. 0.]\n",
      " [0. 0. 0. 0. 0. 0. 0. 0. 0. 0. 0. 0. 0. 0. 0. 0. 0. 0. 0. 0. 0. 0. 0. 0.\n",
      "  0. 0. 0. 0. 0. 0. 0. 0. 0. 0. 0. 0. 0. 0. 0. 0.]\n",
      " [0. 0. 0. 0. 0. 0. 0. 0. 0. 0. 0. 0. 0. 0. 0. 0. 0. 0. 0. 0. 0. 0. 0. 0.\n",
      "  0. 0. 0. 0. 0. 0. 0. 0. 0. 0. 0. 0. 0. 0. 0. 0.]\n",
      " [0. 0. 0. 0. 0. 0. 0. 0. 0. 0. 0. 0. 0. 0. 0. 0. 0. 0. 0. 0. 0. 0. 0. 0.\n",
      "  0. 0. 0. 0. 0. 0. 0. 0. 0. 0. 0. 0. 0. 0. 0. 0.]\n",
      " [0. 0. 0. 0. 0. 0. 0. 0. 0. 0. 0. 0. 0. 0. 0. 0. 0. 0. 0. 0. 0. 0. 0. 0.\n",
      "  0. 0. 0. 0. 0. 0. 0. 0. 0. 0. 0. 0. 0. 0. 0. 0.]\n",
      " [0. 0. 0. 0. 0. 0. 0. 0. 0. 0. 0. 0. 0. 0. 0. 0. 0. 0. 0. 0. 0. 0. 0. 0.\n",
      "  0. 0. 0. 0. 0. 0. 0. 0. 0. 0. 0. 0. 0. 0. 0. 0.]\n",
      " [0. 0. 0. 0. 0. 0. 0. 0. 0. 0. 0. 0. 0. 0. 0. 0. 0. 0. 0. 0. 0. 0. 0. 0.\n",
      "  0. 0. 0. 0. 0. 0. 0. 0. 0. 0. 0. 0. 0. 0. 0. 0.]\n",
      " [0. 0. 0. 0. 0. 0. 0. 0. 0. 0. 0. 0. 0. 0. 0. 0. 0. 0. 0. 0. 0. 0. 0. 0.\n",
      "  0. 0. 0. 0. 0. 0. 0. 0. 0. 0. 0. 0. 0. 0. 0. 0.]\n",
      " [0. 0. 0. 0. 0. 0. 0. 0. 0. 0. 0. 0. 0. 0. 0. 0. 0. 0. 0. 0. 0. 0. 0. 0.\n",
      "  0. 0. 0. 0. 0. 0. 0. 0. 0. 0. 0. 0. 0. 0. 0. 0.]\n",
      " [0. 0. 0. 0. 0. 0. 0. 0. 0. 0. 0. 0. 0. 0. 0. 0. 0. 0. 0. 0. 0. 0. 0. 0.\n",
      "  0. 0. 0. 0. 0. 0. 0. 0. 0. 0. 0. 0. 0. 0. 0. 0.]\n",
      " [0. 0. 0. 0. 0. 0. 0. 0. 0. 0. 0. 0. 0. 0. 0. 0. 0. 0. 0. 0. 0. 0. 0. 0.\n",
      "  0. 0. 0. 0. 0. 0. 0. 0. 0. 0. 0. 0. 0. 0. 0. 0.]\n",
      " [0. 0. 0. 0. 0. 0. 0. 0. 0. 0. 0. 0. 0. 0. 0. 0. 0. 0. 0. 0. 0. 0. 0. 0.\n",
      "  0. 0. 0. 0. 0. 0. 0. 0. 0. 0. 0. 0. 0. 0. 0. 0.]]\n"
     ]
    }
   ],
   "source": [
    "np.set_printoptions(threshold=float(\"inf\"))\n",
    "Z = np.zeros((40,40))\n",
    "print(Z)"
   ]
  },
  {
   "cell_type": "markdown",
   "id": "b580f9d0",
   "metadata": {},
   "source": [
    "#### 50. How to find the closest value (to a given scalar) in a vector? (★★☆)"
   ]
  },
  {
   "cell_type": "code",
   "execution_count": 107,
   "id": "dd9f07e6",
   "metadata": {},
   "outputs": [
    {
     "name": "stdout",
     "output_type": "stream",
     "text": [
      "hint: argmin\n"
     ]
    }
   ],
   "source": [
    "hint(50)"
   ]
  },
  {
   "cell_type": "code",
   "execution_count": null,
   "id": "fbaedaba",
   "metadata": {},
   "outputs": [],
   "source": [
    "x = 3\n",
    "A = np.random.randint(1000, size=100)\n",
    "A[np.argmin(np.abs(A - x))]"
   ]
  },
  {
   "cell_type": "code",
   "execution_count": 129,
   "id": "bf300398",
   "metadata": {},
   "outputs": [
    {
     "name": "stdout",
     "output_type": "stream",
     "text": [
      "Z = np.arange(100)\n",
      "v = np.random.uniform(0,100)\n",
      "index = (np.abs(Z-v)).argmin()\n",
      "print(Z[index])\n"
     ]
    }
   ],
   "source": [
    "answer(50)"
   ]
  },
  {
   "cell_type": "markdown",
   "id": "602e6252",
   "metadata": {},
   "source": [
    "#### !51. Create a structured array representing a position (x,y) and a color (r,g,b) (★★☆)"
   ]
  },
  {
   "cell_type": "code",
   "execution_count": 3,
   "id": "cf002b3a",
   "metadata": {},
   "outputs": [
    {
     "name": "stdout",
     "output_type": "stream",
     "text": [
      "Z = np.zeros(10, [ ('position', [ ('x', float, 1),\n",
      "                                  ('y', float, 1)]),\n",
      "                   ('color',    [ ('r', float, 1),\n",
      "                                  ('g', float, 1),\n",
      "                                  ('b', float, 1)])])\n",
      "print(Z)\n"
     ]
    }
   ],
   "source": [
    "answer(51)"
   ]
  },
  {
   "cell_type": "code",
   "execution_count": 4,
   "id": "fc5430d1",
   "metadata": {},
   "outputs": [],
   "source": [
    "A = np.zeros(7, [('position', [('x', float, 1),\n",
    "                               ('y', float, 1)]),\n",
    "                 ('color', [ ('r', float, 1),\n",
    "                             ('g', float, 1),\n",
    "                             ('b', float, 1)])])"
   ]
  },
  {
   "cell_type": "markdown",
   "id": "78bcd92f",
   "metadata": {},
   "source": [
    "#### 52. Consider a random vector with shape (100,2) representing coordinates, find point by point distances (★★☆)"
   ]
  },
  {
   "cell_type": "code",
   "execution_count": 5,
   "id": "fea7f9a6",
   "metadata": {},
   "outputs": [],
   "source": [
    "A = np.random.randint(1, 100, size=(100, 2))"
   ]
  },
  {
   "cell_type": "code",
   "execution_count": 7,
   "id": "d3f89433",
   "metadata": {},
   "outputs": [
    {
     "name": "stdout",
     "output_type": "stream",
     "text": [
      "hint: np.atleast_2d, T, np.sqrt\n"
     ]
    }
   ],
   "source": [
    "hint(52)"
   ]
  },
  {
   "cell_type": "code",
   "execution_count": 8,
   "id": "f5118bc8",
   "metadata": {},
   "outputs": [
    {
     "name": "stdout",
     "output_type": "stream",
     "text": [
      "Z = np.random.random((10,2))\n",
      "X,Y = np.atleast_2d(Z[:,0], Z[:,1])\n",
      "D = np.sqrt( (X-X.T)**2 + (Y-Y.T)**2)\n",
      "print(D)\n",
      "\n",
      "# Much faster with scipy\n",
      "import scipy\n",
      "# Thanks Gavin Heverly-Coulson (#issue 1)\n",
      "import scipy.spatial\n",
      "\n",
      "Z = np.random.random((10,2))\n",
      "D = scipy.spatial.distance.cdist(Z,Z)\n",
      "print(D)\n"
     ]
    }
   ],
   "source": [
    "answer(52)"
   ]
  },
  {
   "cell_type": "code",
   "execution_count": 45,
   "id": "78a9b39a",
   "metadata": {},
   "outputs": [
    {
     "name": "stdout",
     "output_type": "stream",
     "text": [
      "[[0.         6.         7.28010989 ... 7.81024968 3.16227766 3.16227766]\n",
      " [6.         0.         8.06225775 ... 5.         5.83095189 3.16227766]\n",
      " [7.28010989 8.06225775 0.         ... 4.47213595 4.12310563 6.08276253]\n",
      " ...\n",
      " [7.81024968 5.         4.47213595 ... 0.         5.38516481 5.        ]\n",
      " [3.16227766 5.83095189 4.12310563 ... 5.38516481 0.         2.82842712]\n",
      " [3.16227766 3.16227766 6.08276253 ... 5.         2.82842712 0.        ]]\n"
     ]
    }
   ],
   "source": [
    "Z = np.random.randint(1, 10, size=(100,2))\n",
    "X,Y = np.atleast_2d(Z[:,0], Z[:,1])\n",
    "D = np.sqrt((X-X.T)**2 + (Y-Y.T)**2)\n",
    "print(D)"
   ]
  },
  {
   "cell_type": "markdown",
   "id": "343c5a85",
   "metadata": {},
   "source": [
    "#### 53. How to convert a float (32 bits) array into an integer (32 bits) in place?"
   ]
  },
  {
   "cell_type": "code",
   "execution_count": 50,
   "id": "fc1b687b",
   "metadata": {},
   "outputs": [
    {
     "data": {
      "text/plain": [
       "array([0, 1, 2, 3, 4, 5, 6, 7, 8, 9], dtype=int32)"
      ]
     },
     "execution_count": 50,
     "metadata": {},
     "output_type": "execute_result"
    }
   ],
   "source": [
    "Z = np.arange(10, dtype=np.float32)\n",
    "Z.astype(np.int32)"
   ]
  },
  {
   "cell_type": "code",
   "execution_count": 51,
   "id": "db8ba261",
   "metadata": {},
   "outputs": [
    {
     "name": "stdout",
     "output_type": "stream",
     "text": [
      "# Thanks Vikas (https://stackoverflow.com/a/10622758/5989906)\n",
      "# & unutbu (https://stackoverflow.com/a/4396247/5989906)\n",
      "Z = (np.random.rand(10)*100).astype(np.float32)\n",
      "Y = Z.view(np.int32)\n",
      "Y[:] = Z\n",
      "print(Y)\n"
     ]
    }
   ],
   "source": [
    "answer(53)"
   ]
  },
  {
   "cell_type": "code",
   "execution_count": 61,
   "id": "0a39d438",
   "metadata": {},
   "outputs": [
    {
     "data": {
      "text/plain": [
       "array([98.140526  , 18.72436   , 51.415676  , 56.424145  , 51.110165  ,\n",
       "        0.22245698, 68.89809   , 55.081776  , 27.91711   , 77.73897   ],\n",
       "      dtype=float32)"
      ]
     },
     "execution_count": 61,
     "metadata": {},
     "output_type": "execute_result"
    }
   ],
   "source": [
    "Z = (np.random.rand(10)*100).astype(np.float32)\n",
    "ZZ = np.copy(Z)\n",
    "Z"
   ]
  },
  {
   "cell_type": "code",
   "execution_count": 62,
   "id": "f6224742",
   "metadata": {},
   "outputs": [
    {
     "name": "stdout",
     "output_type": "stream",
     "text": [
      "[98 18 51 56 51  0 68 55 27 77]\n"
     ]
    }
   ],
   "source": [
    "Y = ZZ.view(np.int32)\n",
    "Y[:] = ZZ\n",
    "print(Y)"
   ]
  },
  {
   "cell_type": "code",
   "execution_count": 63,
   "id": "07bbfdfa",
   "metadata": {},
   "outputs": [
    {
     "data": {
      "text/plain": [
       "array([98, 18, 51, 56, 51,  0, 68, 55, 27, 77], dtype=int32)"
      ]
     },
     "execution_count": 63,
     "metadata": {},
     "output_type": "execute_result"
    }
   ],
   "source": [
    "Z.astype(np.int32)"
   ]
  },
  {
   "cell_type": "markdown",
   "id": "a69e1ace",
   "metadata": {},
   "source": [
    "#### !54. How to read the following file? (★★☆)\n",
    "```\n",
    "1, 2, 3, 4, 5\n",
    "6,  ,  , 7, 8\n",
    " ,  , 9,10,11\n",
    "```"
   ]
  },
  {
   "cell_type": "code",
   "execution_count": 66,
   "id": "1c7957d4",
   "metadata": {},
   "outputs": [
    {
     "name": "stdout",
     "output_type": "stream",
     "text": [
      "hint: np.genfromtxt\n"
     ]
    }
   ],
   "source": [
    "hint(54)"
   ]
  },
  {
   "cell_type": "code",
   "execution_count": 67,
   "id": "44ea1b7a",
   "metadata": {},
   "outputs": [
    {
     "name": "stdout",
     "output_type": "stream",
     "text": [
      " genfromtxt(fname, dtype=<class 'float'>, comments='#', delimiter=None,\n",
      "            skip_header=0, skip_footer=0, converters=None,\n",
      "            missing_values=None, filling_values=None, usecols=None,\n",
      "            names=None, excludelist=None,\n",
      "            deletechars=\" !#$%&'()*+,-./:;<=>?@[\\\\]^{|}~\", replace_space='_',\n",
      "            autostrip=False, case_sensitive=True, defaultfmt='f%i',\n",
      "            unpack=None, usemask=False, loose=True, invalid_raise=True,\n",
      "            max_rows=None, encoding=None, *, ndmin=0, like=None)\n",
      "\n",
      "Load data from a text file, with missing values handled as specified.\n",
      "\n",
      "Each line past the first `skip_header` lines is split at the `delimiter`\n",
      "character, and characters following the `comments` character are discarded.\n",
      "\n",
      "Parameters\n",
      "----------\n",
      "fname : file, str, pathlib.Path, list of str, generator\n",
      "    File, filename, list, or generator to read.  If the filename\n",
      "    extension is ``.gz`` or ``.bz2``, the file is first decompressed. Note\n",
      "    that generators must return bytes or strings. The strings\n",
      "    in a list or produced by a generator are treated as lines.\n",
      "dtype : dtype, optional\n",
      "    Data type of the resulting array.\n",
      "    If None, the dtypes will be determined by the contents of each\n",
      "    column, individually.\n",
      "comments : str, optional\n",
      "    The character used to indicate the start of a comment.\n",
      "    All the characters occurring on a line after a comment are discarded.\n",
      "delimiter : str, int, or sequence, optional\n",
      "    The string used to separate values.  By default, any consecutive\n",
      "    whitespaces act as delimiter.  An integer or sequence of integers\n",
      "    can also be provided as width(s) of each field.\n",
      "skiprows : int, optional\n",
      "    `skiprows` was removed in numpy 1.10. Please use `skip_header` instead.\n",
      "skip_header : int, optional\n",
      "    The number of lines to skip at the beginning of the file.\n",
      "skip_footer : int, optional\n",
      "    The number of lines to skip at the end of the file.\n",
      "converters : variable, optional\n",
      "    The set of functions that convert the data of a column to a value.\n",
      "    The converters can also be used to provide a default value\n",
      "    for missing data: ``converters = {3: lambda s: float(s or 0)}``.\n",
      "missing : variable, optional\n",
      "    `missing` was removed in numpy 1.10. Please use `missing_values`\n",
      "    instead.\n",
      "missing_values : variable, optional\n",
      "    The set of strings corresponding to missing data.\n",
      "filling_values : variable, optional\n",
      "    The set of values to be used as default when the data are missing.\n",
      "usecols : sequence, optional\n",
      "    Which columns to read, with 0 being the first.  For example,\n",
      "    ``usecols = (1, 4, 5)`` will extract the 2nd, 5th and 6th columns.\n",
      "names : {None, True, str, sequence}, optional\n",
      "    If `names` is True, the field names are read from the first line after\n",
      "    the first `skip_header` lines. This line can optionally be preceded\n",
      "    by a comment delimiter. Any content before the comment delimiter is\n",
      "    discarded. If `names` is a sequence or a single-string of\n",
      "    comma-separated names, the names will be used to define the field\n",
      "    names in a structured dtype. If `names` is None, the names of the\n",
      "    dtype fields will be used, if any.\n",
      "excludelist : sequence, optional\n",
      "    A list of names to exclude. This list is appended to the default list\n",
      "    ['return','file','print']. Excluded names are appended with an\n",
      "    underscore: for example, `file` would become `file_`.\n",
      "deletechars : str, optional\n",
      "    A string combining invalid characters that must be deleted from the\n",
      "    names.\n",
      "defaultfmt : str, optional\n",
      "    A format used to define default field names, such as \"f%i\" or \"f_%02i\".\n",
      "autostrip : bool, optional\n",
      "    Whether to automatically strip white spaces from the variables.\n",
      "replace_space : char, optional\n",
      "    Character(s) used in replacement of white spaces in the variable\n",
      "    names. By default, use a '_'.\n",
      "case_sensitive : {True, False, 'upper', 'lower'}, optional\n",
      "    If True, field names are case sensitive.\n",
      "    If False or 'upper', field names are converted to upper case.\n",
      "    If 'lower', field names are converted to lower case.\n",
      "unpack : bool, optional\n",
      "    If True, the returned array is transposed, so that arguments may be\n",
      "    unpacked using ``x, y, z = genfromtxt(...)``.  When used with a\n",
      "    structured data-type, arrays are returned for each field.\n",
      "    Default is False.\n",
      "usemask : bool, optional\n",
      "    If True, return a masked array.\n",
      "    If False, return a regular array.\n",
      "loose : bool, optional\n",
      "    If True, do not raise errors for invalid values.\n",
      "invalid_raise : bool, optional\n",
      "    If True, an exception is raised if an inconsistency is detected in the\n",
      "    number of columns.\n",
      "    If False, a warning is emitted and the offending lines are skipped.\n",
      "max_rows : int,  optional\n",
      "    The maximum number of rows to read. Must not be used with skip_footer\n",
      "    at the same time.  If given, the value must be at least 1. Default is\n",
      "    to read the entire file.\n",
      "\n",
      "    .. versionadded:: 1.10.0\n",
      "encoding : str, optional\n",
      "    Encoding used to decode the inputfile. Does not apply when `fname`\n",
      "    is a file object. The special value 'bytes' enables backward\n",
      "    compatibility workarounds that ensure that you receive byte arrays\n",
      "    when possible and passes latin1 encoded strings to converters.\n",
      "    Override this value to receive unicode arrays and pass strings\n",
      "    as input to converters.  If set to None the system default is used.\n",
      "    The default value is 'bytes'.\n",
      "\n",
      "    .. versionadded:: 1.14.0\n",
      "    .. versionchanged:: 2.0\n",
      "        Before NumPy 2, the default was ``'bytes'`` for Python 2\n",
      "        compatibility. The default is now ``None``.\n",
      "\n",
      "ndmin : int, optional\n",
      "    Same parameter as `loadtxt`\n",
      "\n",
      "    .. versionadded:: 1.23.0\n",
      "like : array_like, optional\n",
      "    Reference object to allow the creation of arrays which are not\n",
      "    NumPy arrays. If an array-like passed in as ``like`` supports\n",
      "    the ``__array_function__`` protocol, the result will be defined\n",
      "    by it. In this case, it ensures the creation of an array object\n",
      "    compatible with that passed in via this argument.\n",
      "\n",
      "    .. versionadded:: 1.20.0\n",
      "\n",
      "Returns\n",
      "-------\n",
      "out : ndarray\n",
      "    Data read from the text file. If `usemask` is True, this is a\n",
      "    masked array.\n",
      "\n",
      "See Also\n",
      "--------\n",
      "numpy.loadtxt : equivalent function when no data is missing.\n",
      "\n",
      "Notes\n",
      "-----\n",
      "* When spaces are used as delimiters, or when no delimiter has been given\n",
      "  as input, there should not be any missing data between two fields.\n",
      "* When variables are named (either by a flexible dtype or with a `names`\n",
      "  sequence), there must not be any header in the file (else a ValueError\n",
      "  exception is raised).\n",
      "* Individual values are not stripped of spaces by default.\n",
      "  When using a custom converter, make sure the function does remove spaces.\n",
      "* Custom converters may receive unexpected values due to dtype\n",
      "  discovery.\n",
      "\n",
      "References\n",
      "----------\n",
      ".. [1] NumPy User Guide, section `I/O with NumPy\n",
      "       <https://docs.scipy.org/doc/numpy/user/basics.io.genfromtxt.html>`_.\n",
      "\n",
      "Examples\n",
      "--------\n",
      ">>> from io import StringIO\n",
      ">>> import numpy as np\n",
      "\n",
      "Comma delimited file with mixed dtype\n",
      "\n",
      ">>> s = StringIO(\"1,1.3,abcde\")\n",
      ">>> data = np.genfromtxt(s, dtype=[('myint','i8'),('myfloat','f8'),\n",
      "... ('mystring','S5')], delimiter=\",\")\n",
      ">>> data\n",
      "array((1, 1.3, b'abcde'),\n",
      "      dtype=[('myint', '<i8'), ('myfloat', '<f8'), ('mystring', 'S5')])\n",
      "\n",
      "Using dtype = None\n",
      "\n",
      ">>> _ = s.seek(0) # needed for StringIO example only\n",
      ">>> data = np.genfromtxt(s, dtype=None,\n",
      "... names = ['myint','myfloat','mystring'], delimiter=\",\")\n",
      ">>> data\n",
      "array((1, 1.3, 'abcde'),\n",
      "      dtype=[('myint', '<i8'), ('myfloat', '<f8'), ('mystring', '<U5')])\n",
      "\n",
      "Specifying dtype and names\n",
      "\n",
      ">>> _ = s.seek(0)\n",
      ">>> data = np.genfromtxt(s, dtype=\"i8,f8,S5\",\n",
      "... names=['myint','myfloat','mystring'], delimiter=\",\")\n",
      ">>> data\n",
      "array((1, 1.3, b'abcde'),\n",
      "      dtype=[('myint', '<i8'), ('myfloat', '<f8'), ('mystring', 'S5')])\n",
      "\n",
      "An example with fixed-width columns\n",
      "\n",
      ">>> s = StringIO(\"11.3abcde\")\n",
      ">>> data = np.genfromtxt(s, dtype=None, names=['intvar','fltvar','strvar'],\n",
      "...     delimiter=[1,3,5])\n",
      ">>> data\n",
      "array((1, 1.3, 'abcde'),\n",
      "      dtype=[('intvar', '<i8'), ('fltvar', '<f8'), ('strvar', '<U5')])\n",
      "\n",
      "An example to show comments\n",
      "\n",
      ">>> f = StringIO('''\n",
      "... text,# of chars\n",
      "... hello world,11\n",
      "... numpy,5''')\n",
      ">>> np.genfromtxt(f, dtype='S12,S12', delimiter=',')\n",
      "array([(b'text', b''), (b'hello world', b'11'), (b'numpy', b'5')],\n",
      "  dtype=[('f0', 'S12'), ('f1', 'S12')])\n"
     ]
    }
   ],
   "source": [
    "np.info(np.genfromtxt)"
   ]
  },
  {
   "cell_type": "code",
   "execution_count": 5,
   "id": "4ec206f4",
   "metadata": {},
   "outputs": [
    {
     "name": "stdout",
     "output_type": "stream",
     "text": [
      "from io import StringIO\n",
      "\n",
      "# Fake file\n",
      "s = StringIO('''1, 2, 3, 4, 5\n",
      "\n",
      "                6,  ,  , 7, 8\n",
      "\n",
      "                 ,  , 9,10,11\n",
      "''')\n",
      "Z = np.genfromtxt(s, delimiter=\",\", dtype=np.int)\n",
      "print(Z)\n"
     ]
    }
   ],
   "source": [
    "answer(54)"
   ]
  },
  {
   "cell_type": "code",
   "execution_count": 8,
   "id": "fcc17dd2",
   "metadata": {},
   "outputs": [
    {
     "data": {
      "text/plain": [
       "array([[ 1,  2,  3,  4,  5],\n",
       "       [ 6, -1, -1,  7,  8],\n",
       "       [-1, -1,  9, 10, 11]], dtype=int8)"
      ]
     },
     "execution_count": 8,
     "metadata": {},
     "output_type": "execute_result"
    }
   ],
   "source": [
    "from io import StringIO\n",
    "\n",
    "ss = StringIO('''\n",
    "1, 2, 3, 4, 5\n",
    "6,  ,  , 7, 8\n",
    " ,  , 9,10,11\n",
    "''')\n",
    "z = np.genfromtxt(ss, delimiter=',', dtype=np.int8)\n",
    "z"
   ]
  },
  {
   "cell_type": "markdown",
   "id": "c23bd80d",
   "metadata": {},
   "source": [
    "#### !55. What is the equivalent of enumerate for numpy arrays? (★★☆)"
   ]
  },
  {
   "cell_type": "code",
   "execution_count": 12,
   "id": "d95d9578",
   "metadata": {},
   "outputs": [
    {
     "name": "stdout",
     "output_type": "stream",
     "text": [
      "hint: np.ndenumerate, np.ndindex\n"
     ]
    }
   ],
   "source": [
    "hint(55)"
   ]
  },
  {
   "cell_type": "code",
   "execution_count": 13,
   "id": "4fef5ede",
   "metadata": {},
   "outputs": [
    {
     "name": "stdout",
     "output_type": "stream",
     "text": [
      " ndenumerate(arr)\n",
      "\n",
      "Multidimensional index iterator.\n",
      "\n",
      "Return an iterator yielding pairs of array coordinates and values.\n",
      "\n",
      "Parameters\n",
      "----------\n",
      "arr : ndarray\n",
      "  Input array.\n",
      "\n",
      "See Also\n",
      "--------\n",
      "ndindex, flatiter\n",
      "\n",
      "Examples\n",
      "--------\n",
      ">>> a = np.array([[1, 2], [3, 4]])\n",
      ">>> for index, x in np.ndenumerate(a):\n",
      "...     print(index, x)\n",
      "(0, 0) 1\n",
      "(0, 1) 2\n",
      "(1, 0) 3\n",
      "(1, 1) 4\n"
     ]
    }
   ],
   "source": [
    "np.info(np.ndenumerate)"
   ]
  },
  {
   "cell_type": "code",
   "execution_count": 16,
   "id": "313d63bc",
   "metadata": {},
   "outputs": [
    {
     "name": "stdout",
     "output_type": "stream",
     "text": [
      "(0, 0) 7\n",
      "(0, 1) 6\n",
      "(0, 2) 7\n",
      "(1, 0) 8\n",
      "(1, 1) 8\n",
      "(1, 2) 5\n",
      "(2, 0) 4\n",
      "(2, 1) 4\n",
      "(2, 2) 4\n"
     ]
    }
   ],
   "source": [
    "A = np.random.randint(1, 10, size=(3, 3))\n",
    "for ind, x in np.ndenumerate(A):\n",
    "    print(ind, x)"
   ]
  },
  {
   "cell_type": "code",
   "execution_count": 17,
   "id": "cf4af1c2",
   "metadata": {},
   "outputs": [
    {
     "name": "stdout",
     "output_type": "stream",
     "text": [
      " ndindex(*shape)\n",
      "\n",
      "An N-dimensional iterator object to index arrays.\n",
      "\n",
      "Given the shape of an array, an `ndindex` instance iterates over\n",
      "the N-dimensional index of the array. At each iteration a tuple\n",
      "of indices is returned, the last dimension is iterated over first.\n",
      "\n",
      "Parameters\n",
      "----------\n",
      "shape : ints, or a single tuple of ints\n",
      "    The size of each dimension of the array can be passed as\n",
      "    individual parameters or as the elements of a tuple.\n",
      "\n",
      "See Also\n",
      "--------\n",
      "ndenumerate, flatiter\n",
      "\n",
      "Examples\n",
      "--------\n",
      "Dimensions as individual arguments\n",
      "\n",
      ">>> for index in np.ndindex(3, 2, 1):\n",
      "...     print(index)\n",
      "(0, 0, 0)\n",
      "(0, 1, 0)\n",
      "(1, 0, 0)\n",
      "(1, 1, 0)\n",
      "(2, 0, 0)\n",
      "(2, 1, 0)\n",
      "\n",
      "Same dimensions - but in a tuple ``(3, 2, 1)``\n",
      "\n",
      ">>> for index in np.ndindex((3, 2, 1)):\n",
      "...     print(index)\n",
      "(0, 0, 0)\n",
      "(0, 1, 0)\n",
      "(1, 0, 0)\n",
      "(1, 1, 0)\n",
      "(2, 0, 0)\n",
      "(2, 1, 0)\n",
      "\n",
      "\n",
      "Methods:\n",
      "\n",
      "  ndincr  --  Increment the multi-dimensional index by one.\n"
     ]
    }
   ],
   "source": [
    "np.info(np.ndindex)"
   ]
  },
  {
   "cell_type": "code",
   "execution_count": 18,
   "id": "014372ba",
   "metadata": {},
   "outputs": [
    {
     "name": "stdout",
     "output_type": "stream",
     "text": [
      "(0, 0, 0)\n",
      "(0, 0, 1)\n",
      "(0, 0, 2)\n",
      "(0, 1, 0)\n",
      "(0, 1, 1)\n",
      "(0, 1, 2)\n",
      "(0, 2, 0)\n",
      "(0, 2, 1)\n",
      "(0, 2, 2)\n",
      "(1, 0, 0)\n",
      "(1, 0, 1)\n",
      "(1, 0, 2)\n",
      "(1, 1, 0)\n",
      "(1, 1, 1)\n",
      "(1, 1, 2)\n",
      "(1, 2, 0)\n",
      "(1, 2, 1)\n",
      "(1, 2, 2)\n",
      "(2, 0, 0)\n",
      "(2, 0, 1)\n",
      "(2, 0, 2)\n",
      "(2, 1, 0)\n",
      "(2, 1, 1)\n",
      "(2, 1, 2)\n",
      "(2, 2, 0)\n",
      "(2, 2, 1)\n",
      "(2, 2, 2)\n"
     ]
    }
   ],
   "source": [
    "for index in np.ndindex(3, 3, 3):\n",
    "    print(index)"
   ]
  },
  {
   "cell_type": "markdown",
   "id": "2153a5ec",
   "metadata": {},
   "source": [
    "#### !56. Generate a generic 2D Gaussian-like array (★★☆)"
   ]
  },
  {
   "cell_type": "code",
   "execution_count": 19,
   "id": "61122d1e",
   "metadata": {},
   "outputs": [
    {
     "name": "stdout",
     "output_type": "stream",
     "text": [
      "hint: np.meshgrid, np.exp\n"
     ]
    }
   ],
   "source": [
    "hint(56)"
   ]
  },
  {
   "cell_type": "code",
   "execution_count": 20,
   "id": "74424f1c",
   "metadata": {},
   "outputs": [
    {
     "name": "stdout",
     "output_type": "stream",
     "text": [
      "X, Y = np.meshgrid(np.linspace(-1,1,10), np.linspace(-1,1,10))\n",
      "D = np.sqrt(X*X+Y*Y)\n",
      "sigma, mu = 1.0, 0.0\n",
      "G = np.exp(-( (D-mu)**2 / ( 2.0 * sigma**2 ) ) )\n",
      "print(G)\n"
     ]
    }
   ],
   "source": [
    "answer(56)"
   ]
  },
  {
   "cell_type": "markdown",
   "id": "2e76d589",
   "metadata": {},
   "source": [
    "#### !57. How to randomly place p elements in a 2D array? (★★☆)"
   ]
  },
  {
   "cell_type": "code",
   "execution_count": 21,
   "id": "0c2e4fcc",
   "metadata": {},
   "outputs": [
    {
     "name": "stdout",
     "output_type": "stream",
     "text": [
      "hint: np.put, np.random.choice\n"
     ]
    }
   ],
   "source": [
    "hint(57)"
   ]
  },
  {
   "cell_type": "code",
   "execution_count": 23,
   "id": "f082fec3",
   "metadata": {},
   "outputs": [
    {
     "name": "stdout",
     "output_type": "stream",
     "text": [
      "Replaces specified elements of an array with given values.\n",
      "\n",
      "The indexing works on the flattened target array. `put` is roughly\n",
      "equivalent to:\n",
      "\n",
      "::\n",
      "\n",
      "    a.flat[ind] = v\n",
      "\n",
      "Parameters\n",
      "----------\n",
      "a : ndarray\n",
      "    Target array.\n",
      "ind : array_like\n",
      "    Target indices, interpreted as integers.\n",
      "v : array_like\n",
      "    Values to place in `a` at target indices. If `v` is shorter than\n",
      "    `ind` it will be repeated as necessary.\n",
      "mode : {'raise', 'wrap', 'clip'}, optional\n",
      "    Specifies how out-of-bounds indices will behave.\n",
      "\n",
      "    * 'raise' -- raise an error (default)\n",
      "    * 'wrap' -- wrap around\n",
      "    * 'clip' -- clip to the range\n",
      "\n",
      "    'clip' mode means that all indices that are too large are replaced\n",
      "    by the index that addresses the last element along that axis. Note\n",
      "    that this disables indexing with negative numbers. In 'raise' mode,\n",
      "    if an exception occurs the target array may still be modified.\n",
      "\n",
      "See Also\n",
      "--------\n",
      "putmask, place\n",
      "put_along_axis : Put elements by matching the array and the index arrays\n",
      "\n",
      "Examples\n",
      "--------\n",
      ">>> a = np.arange(5)\n",
      ">>> np.put(a, [0, 2], [-44, -55])\n",
      ">>> a\n",
      "array([-44,   1, -55,   3,   4])\n",
      "\n",
      ">>> a = np.arange(5)\n",
      ">>> np.put(a, 22, -5, mode='clip')\n",
      ">>> a\n",
      "array([ 0,  1,  2,  3, -5])\n"
     ]
    }
   ],
   "source": [
    "np.info(np.put)"
   ]
  },
  {
   "cell_type": "code",
   "execution_count": 19,
   "id": "8a99da77",
   "metadata": {},
   "outputs": [
    {
     "name": "stdout",
     "output_type": "stream",
     "text": [
      " choice(a, size=None, replace=True, p=None)\n",
      "\n",
      "choice(a, size=None, replace=True, p=None)\n",
      "\n",
      "Generates a random sample from a given 1-D array\n",
      "\n",
      ".. versionadded:: 1.7.0\n",
      "\n",
      ".. note::\n",
      "    New code should use the `~numpy.random.Generator.choice`\n",
      "    method of a `~numpy.random.Generator` instance instead;\n",
      "    please see the :ref:`random-quick-start`.\n",
      "\n",
      ".. warning::\n",
      "    This function uses the C-long dtype, which is 32bit on windows\n",
      "    and otherwise 64bit on 64bit platforms (and 32bit on 32bit ones).\n",
      "    Since NumPy 2.0, NumPy's default integer is 32bit on 32bit platforms\n",
      "    and 64bit on 64bit platforms.\n",
      "\n",
      "\n",
      "Parameters\n",
      "----------\n",
      "a : 1-D array-like or int\n",
      "    If an ndarray, a random sample is generated from its elements.\n",
      "    If an int, the random sample is generated as if it were ``np.arange(a)``\n",
      "size : int or tuple of ints, optional\n",
      "    Output shape.  If the given shape is, e.g., ``(m, n, k)``, then\n",
      "    ``m * n * k`` samples are drawn.  Default is None, in which case a\n",
      "    single value is returned.\n",
      "replace : boolean, optional\n",
      "    Whether the sample is with or without replacement. Default is True,\n",
      "    meaning that a value of ``a`` can be selected multiple times.\n",
      "p : 1-D array-like, optional\n",
      "    The probabilities associated with each entry in a.\n",
      "    If not given, the sample assumes a uniform distribution over all\n",
      "    entries in ``a``.\n",
      "\n",
      "Returns\n",
      "-------\n",
      "samples : single item or ndarray\n",
      "    The generated random samples\n",
      "\n",
      "Raises\n",
      "------\n",
      "ValueError\n",
      "    If a is an int and less than zero, if a or p are not 1-dimensional,\n",
      "    if a is an array-like of size 0, if p is not a vector of\n",
      "    probabilities, if a and p have different lengths, or if\n",
      "    replace=False and the sample size is greater than the population\n",
      "    size\n",
      "\n",
      "See Also\n",
      "--------\n",
      "randint, shuffle, permutation\n",
      "random.Generator.choice: which should be used in new code\n",
      "\n",
      "Notes\n",
      "-----\n",
      "Setting user-specified probabilities through ``p`` uses a more general but less\n",
      "efficient sampler than the default. The general sampler produces a different sample\n",
      "than the optimized sampler even if each element of ``p`` is 1 / len(a).\n",
      "\n",
      "Sampling random rows from a 2-D array is not possible with this function,\n",
      "but is possible with `Generator.choice` through its ``axis`` keyword.\n",
      "\n",
      "Examples\n",
      "--------\n",
      "Generate a uniform random sample from np.arange(5) of size 3:\n",
      "\n",
      ">>> np.random.choice(5, 3)\n",
      "array([0, 3, 4]) # random\n",
      ">>> #This is equivalent to np.random.randint(0,5,3)\n",
      "\n",
      "Generate a non-uniform random sample from np.arange(5) of size 3:\n",
      "\n",
      ">>> np.random.choice(5, 3, p=[0.1, 0, 0.3, 0.6, 0])\n",
      "array([3, 3, 0]) # random\n",
      "\n",
      "Generate a uniform random sample from np.arange(5) of size 3 without\n",
      "replacement:\n",
      "\n",
      ">>> np.random.choice(5, 3, replace=False)\n",
      "array([3,1,0]) # random\n",
      ">>> #This is equivalent to np.random.permutation(np.arange(5))[:3]\n",
      "\n",
      "Generate a non-uniform random sample from np.arange(5) of size\n",
      "3 without replacement:\n",
      "\n",
      ">>> np.random.choice(5, 3, replace=False, p=[0.1, 0, 0.3, 0.6, 0])\n",
      "array([2, 3, 0]) # random\n",
      "\n",
      "Any of the above can be repeated with an arbitrary array-like\n",
      "instead of just integers. For instance:\n",
      "\n",
      ">>> aa_milne_arr = ['pooh', 'rabbit', 'piglet', 'Christopher']\n",
      ">>> np.random.choice(aa_milne_arr, 5, p=[0.5, 0.1, 0.1, 0.3])\n",
      "array(['pooh', 'pooh', 'pooh', 'Christopher', 'piglet'], # random\n",
      "      dtype='<U11')\n"
     ]
    }
   ],
   "source": [
    "np.info(np.random.choice)"
   ]
  },
  {
   "cell_type": "code",
   "execution_count": 55,
   "id": "398044f1",
   "metadata": {},
   "outputs": [
    {
     "data": {
      "text/plain": [
       "array([30,  1, 10,  3,  4])"
      ]
     },
     "execution_count": 55,
     "metadata": {},
     "output_type": "execute_result"
    }
   ],
   "source": [
    "a = np.arange(5)\n",
    "Z = [10, 20, 30]\n",
    "np.put(a, np.random.choice(np.arange(len(Z)), size=len(Z)), Z, mode='clip')\n",
    "a"
   ]
  },
  {
   "cell_type": "code",
   "execution_count": 46,
   "id": "3d1834d2",
   "metadata": {},
   "outputs": [
    {
     "name": "stdout",
     "output_type": "stream",
     "text": [
      "# Author: Divakar\n",
      "\n",
      "n = 10\n",
      "p = 3\n",
      "Z = np.zeros((n,n))\n",
      "np.put(Z, np.random.choice(range(n*n), p, replace=False),1)\n",
      "print(Z)\n"
     ]
    }
   ],
   "source": [
    "answer(57)"
   ]
  },
  {
   "cell_type": "code",
   "execution_count": 67,
   "id": "9e625374",
   "metadata": {},
   "outputs": [
    {
     "data": {
      "text/plain": [
       "array([[0., 1., 1., 0., 1., 1., 1.],\n",
       "       [1., 1., 1., 1., 1., 0., 1.],\n",
       "       [1., 1., 1., 1., 1., 1., 1.],\n",
       "       [1., 1., 1., 1., 1., 1., 1.],\n",
       "       [1., 1., 1., 1., 1., 1., 1.],\n",
       "       [1., 1., 1., 1., 1., 1., 0.],\n",
       "       [0., 1., 1., 1., 1., 1., 1.]])"
      ]
     },
     "execution_count": 67,
     "metadata": {},
     "output_type": "execute_result"
    }
   ],
   "source": [
    "dim = 7\n",
    "element = 0\n",
    "nelements = 5\n",
    "\n",
    "Z = np.ones((dim, dim))\n",
    "random_indexes = np.random.choice(np.arange(dim*dim), nelements, replace=False)\n",
    "np.put(Z, random_indexes, element)\n",
    "Z"
   ]
  },
  {
   "cell_type": "markdown",
   "id": "8b3933eb",
   "metadata": {},
   "source": [
    "#### !58. Subtract the mean of each row of a matrix (★★☆)"
   ]
  },
  {
   "cell_type": "code",
   "execution_count": 69,
   "id": "c6ff416d",
   "metadata": {},
   "outputs": [
    {
     "name": "stdout",
     "output_type": "stream",
     "text": [
      "hint: mean(axis=,keepdims=)\n"
     ]
    }
   ],
   "source": [
    "hint(58)"
   ]
  },
  {
   "cell_type": "code",
   "execution_count": 70,
   "id": "0a079bbd",
   "metadata": {},
   "outputs": [
    {
     "name": "stdout",
     "output_type": "stream",
     "text": [
      "Compute the arithmetic mean along the specified axis.\n",
      "\n",
      "Returns the average of the array elements.  The average is taken over\n",
      "the flattened array by default, otherwise over the specified axis.\n",
      "`float64` intermediate and return values are used for integer inputs.\n",
      "\n",
      "Parameters\n",
      "----------\n",
      "a : array_like\n",
      "    Array containing numbers whose mean is desired. If `a` is not an\n",
      "    array, a conversion is attempted.\n",
      "axis : None or int or tuple of ints, optional\n",
      "    Axis or axes along which the means are computed. The default is to\n",
      "    compute the mean of the flattened array.\n",
      "\n",
      "    .. versionadded:: 1.7.0\n",
      "\n",
      "    If this is a tuple of ints, a mean is performed over multiple axes,\n",
      "    instead of a single axis or all the axes as before.\n",
      "dtype : data-type, optional\n",
      "    Type to use in computing the mean.  For integer inputs, the default\n",
      "    is `float64`; for floating point inputs, it is the same as the\n",
      "    input dtype.\n",
      "out : ndarray, optional\n",
      "    Alternate output array in which to place the result.  The default\n",
      "    is ``None``; if provided, it must have the same shape as the\n",
      "    expected output, but the type will be cast if necessary.\n",
      "    See :ref:`ufuncs-output-type` for more details.\n",
      "    See :ref:`ufuncs-output-type` for more details.\n",
      "\n",
      "keepdims : bool, optional\n",
      "    If this is set to True, the axes which are reduced are left\n",
      "    in the result as dimensions with size one. With this option,\n",
      "    the result will broadcast correctly against the input array.\n",
      "\n",
      "    If the default value is passed, then `keepdims` will not be\n",
      "    passed through to the `mean` method of sub-classes of\n",
      "    `ndarray`, however any non-default value will be.  If the\n",
      "    sub-class' method does not implement `keepdims` any\n",
      "    exceptions will be raised.\n",
      "\n",
      "where : array_like of bool, optional\n",
      "    Elements to include in the mean. See `~numpy.ufunc.reduce` for details.\n",
      "\n",
      "    .. versionadded:: 1.20.0\n",
      "\n",
      "Returns\n",
      "-------\n",
      "m : ndarray, see dtype parameter above\n",
      "    If `out=None`, returns a new array containing the mean values,\n",
      "    otherwise a reference to the output array is returned.\n",
      "\n",
      "See Also\n",
      "--------\n",
      "average : Weighted average\n",
      "std, var, nanmean, nanstd, nanvar\n",
      "\n",
      "Notes\n",
      "-----\n",
      "The arithmetic mean is the sum of the elements along the axis divided\n",
      "by the number of elements.\n",
      "\n",
      "Note that for floating-point input, the mean is computed using the\n",
      "same precision the input has.  Depending on the input data, this can\n",
      "cause the results to be inaccurate, especially for `float32` (see\n",
      "example below).  Specifying a higher-precision accumulator using the\n",
      "`dtype` keyword can alleviate this issue.\n",
      "\n",
      "By default, `float16` results are computed using `float32` intermediates\n",
      "for extra precision.\n",
      "\n",
      "Examples\n",
      "--------\n",
      ">>> a = np.array([[1, 2], [3, 4]])\n",
      ">>> np.mean(a)\n",
      "2.5\n",
      ">>> np.mean(a, axis=0)\n",
      "array([2., 3.])\n",
      ">>> np.mean(a, axis=1)\n",
      "array([1.5, 3.5])\n",
      "\n",
      "In single precision, `mean` can be inaccurate:\n",
      "\n",
      ">>> a = np.zeros((2, 512*512), dtype=np.float32)\n",
      ">>> a[0, :] = 1.0\n",
      ">>> a[1, :] = 0.1\n",
      ">>> np.mean(a)\n",
      "0.54999924\n",
      "\n",
      "Computing the mean in float64 is more accurate:\n",
      "\n",
      ">>> np.mean(a, dtype=np.float64)\n",
      "0.55000000074505806 # may vary\n",
      "\n",
      "Specifying a where argument:\n",
      "\n",
      ">>> a = np.array([[5, 9, 13], [14, 10, 12], [11, 15, 19]])\n",
      ">>> np.mean(a)\n",
      "12.0\n",
      ">>> np.mean(a, where=[[True], [False], [False]])\n",
      "9.0\n"
     ]
    }
   ],
   "source": [
    "np.info(np.mean)"
   ]
  },
  {
   "cell_type": "code",
   "execution_count": 75,
   "id": "1ab3a66d",
   "metadata": {},
   "outputs": [
    {
     "data": {
      "text/plain": [
       "array([[ 2.6, -2.4,  3.6, -2.4, -1.4],\n",
       "       [-2. ,  0. ,  0. ,  4. , -2. ],\n",
       "       [ 3.2, -2.8, -3.8,  0.2,  3.2],\n",
       "       [-4. ,  2. ,  4. , -3. ,  1. ],\n",
       "       [ 2.6, -3.4,  0.6, -2.4,  2.6]])"
      ]
     },
     "execution_count": 75,
     "metadata": {},
     "output_type": "execute_result"
    }
   ],
   "source": [
    "Z = np.random.randint(1, 10, (5, 5))\n",
    "Z - np.mean(Z, axis=1, keepdims=True)"
   ]
  },
  {
   "cell_type": "code",
   "execution_count": 74,
   "id": "5e031792",
   "metadata": {},
   "outputs": [
    {
     "name": "stdout",
     "output_type": "stream",
     "text": [
      "# Author: Warren Weckesser\n",
      "\n",
      "X = np.random.rand(5, 10)\n",
      "\n",
      "# Recent versions of numpy\n",
      "Y = X - X.mean(axis=1, keepdims=True)\n",
      "\n",
      "# Older versions of numpy\n",
      "Y = X - X.mean(axis=1).reshape(-1, 1)\n",
      "\n",
      "print(Y)\n"
     ]
    }
   ],
   "source": [
    "answer(58)"
   ]
  },
  {
   "cell_type": "markdown",
   "id": "ea8807c0",
   "metadata": {},
   "source": [
    "#### !59. How to sort an array by the nth column? (★★☆)"
   ]
  },
  {
   "cell_type": "code",
   "execution_count": 79,
   "id": "a55084f5",
   "metadata": {},
   "outputs": [
    {
     "name": "stdout",
     "output_type": "stream",
     "text": [
      "Returns the indices that would sort an array.\n",
      "\n",
      "Perform an indirect sort along the given axis using the algorithm specified\n",
      "by the `kind` keyword. It returns an array of indices of the same shape as\n",
      "`a` that index data along the given axis in sorted order.\n",
      "\n",
      "Parameters\n",
      "----------\n",
      "a : array_like\n",
      "    Array to sort.\n",
      "axis : int or None, optional\n",
      "    Axis along which to sort.  The default is -1 (the last axis). If None,\n",
      "    the flattened array is used.\n",
      "kind : {'quicksort', 'mergesort', 'heapsort', 'stable'}, optional\n",
      "    Sorting algorithm. The default is 'quicksort'. Note that both 'stable'\n",
      "    and 'mergesort' use timsort under the covers and, in general, the\n",
      "    actual implementation will vary with data type. The 'mergesort' option\n",
      "    is retained for backwards compatibility.\n",
      "\n",
      "    .. versionchanged:: 1.15.0.\n",
      "       The 'stable' option was added.\n",
      "order : str or list of str, optional\n",
      "    When `a` is an array with fields defined, this argument specifies\n",
      "    which fields to compare first, second, etc.  A single field can\n",
      "    be specified as a string, and not all fields need be specified,\n",
      "    but unspecified fields will still be used, in the order in which\n",
      "    they come up in the dtype, to break ties.\n",
      "stable : bool, optional\n",
      "    Sort stability. If ``True``, the returned array will maintain\n",
      "    the relative order of ``a`` values which compare as equal.\n",
      "    If ``False`` or ``None``, this is not guaranteed. Internally,\n",
      "    this option selects ``kind='stable'``. Default: ``None``.\n",
      "\n",
      "    .. versionadded:: 2.0.0\n",
      "\n",
      "Returns\n",
      "-------\n",
      "index_array : ndarray, int\n",
      "    Array of indices that sort `a` along the specified `axis`.\n",
      "    If `a` is one-dimensional, ``a[index_array]`` yields a sorted `a`.\n",
      "    More generally, ``np.take_along_axis(a, index_array, axis=axis)``\n",
      "    always yields the sorted `a`, irrespective of dimensionality.\n",
      "\n",
      "See Also\n",
      "--------\n",
      "sort : Describes sorting algorithms used.\n",
      "lexsort : Indirect stable sort with multiple keys.\n",
      "ndarray.sort : Inplace sort.\n",
      "argpartition : Indirect partial sort.\n",
      "take_along_axis : Apply ``index_array`` from argsort\n",
      "                  to an array as if by calling sort.\n",
      "\n",
      "Notes\n",
      "-----\n",
      "See `sort` for notes on the different sorting algorithms.\n",
      "\n",
      "As of NumPy 1.4.0 `argsort` works with real/complex arrays containing\n",
      "nan values. The enhanced sort order is documented in `sort`.\n",
      "\n",
      "Examples\n",
      "--------\n",
      "One dimensional array:\n",
      "\n",
      ">>> x = np.array([3, 1, 2])\n",
      ">>> np.argsort(x)\n",
      "array([1, 2, 0])\n",
      "\n",
      "Two-dimensional array:\n",
      "\n",
      ">>> x = np.array([[0, 3], [2, 2]])\n",
      ">>> x\n",
      "array([[0, 3],\n",
      "       [2, 2]])\n",
      "\n",
      ">>> ind = np.argsort(x, axis=0)  # sorts along first axis (down)\n",
      ">>> ind\n",
      "array([[0, 1],\n",
      "       [1, 0]])\n",
      ">>> np.take_along_axis(x, ind, axis=0)  # same as np.sort(x, axis=0)\n",
      "array([[0, 2],\n",
      "       [2, 3]])\n",
      "\n",
      ">>> ind = np.argsort(x, axis=1)  # sorts along last axis (across)\n",
      ">>> ind\n",
      "array([[0, 1],\n",
      "       [0, 1]])\n",
      ">>> np.take_along_axis(x, ind, axis=1)  # same as np.sort(x, axis=1)\n",
      "array([[0, 3],\n",
      "       [2, 2]])\n",
      "\n",
      "Indices of the sorted elements of a N-dimensional array:\n",
      "\n",
      ">>> ind = np.unravel_index(np.argsort(x, axis=None), x.shape)\n",
      ">>> ind\n",
      "(array([0, 1, 1, 0]), array([0, 0, 1, 1]))\n",
      ">>> x[ind]  # same as np.sort(x, axis=None)\n",
      "array([0, 2, 2, 3])\n",
      "\n",
      "Sorting with keys:\n",
      "\n",
      ">>> x = np.array([(1, 0), (0, 1)], dtype=[('x', '<i4'), ('y', '<i4')])\n",
      ">>> x\n",
      "array([(1, 0), (0, 1)],\n",
      "      dtype=[('x', '<i4'), ('y', '<i4')])\n",
      "\n",
      ">>> np.argsort(x, order=('x','y'))\n",
      "array([1, 0])\n",
      "\n",
      ">>> np.argsort(x, order=('y','x'))\n",
      "array([0, 1])\n"
     ]
    }
   ],
   "source": [
    "np.info(np.argsort)"
   ]
  },
  {
   "cell_type": "code",
   "execution_count": 80,
   "id": "cc89a699",
   "metadata": {},
   "outputs": [
    {
     "name": "stdout",
     "output_type": "stream",
     "text": [
      "hint: argsort\n"
     ]
    }
   ],
   "source": [
    "hint(59)"
   ]
  },
  {
   "cell_type": "code",
   "execution_count": 81,
   "id": "9acc0f91",
   "metadata": {},
   "outputs": [
    {
     "name": "stdout",
     "output_type": "stream",
     "text": [
      "# Author: Steve Tjoa\n",
      "\n",
      "Z = np.random.randint(0,10,(3,3))\n",
      "print(Z)\n",
      "print(Z[Z[:,1].argsort()])\n"
     ]
    }
   ],
   "source": [
    "answer(59)"
   ]
  },
  {
   "cell_type": "code",
   "execution_count": 83,
   "id": "f0b371de",
   "metadata": {},
   "outputs": [
    {
     "name": "stdout",
     "output_type": "stream",
     "text": [
      "[[3 3 0]\n",
      " [9 9 7]\n",
      " [4 8 3]]\n",
      "[[3 3 0]\n",
      " [4 8 3]\n",
      " [9 9 7]]\n"
     ]
    }
   ],
   "source": [
    "Z = np.random.randint(0,10,(3,3))\n",
    "print(Z)\n",
    "print(Z[Z[:,1].argsort()])"
   ]
  },
  {
   "cell_type": "markdown",
   "id": "00fa00a1",
   "metadata": {},
   "source": [
    "#### ->!60. How to tell if a given 2D array has null columns? (★★☆)"
   ]
  },
  {
   "cell_type": "code",
   "execution_count": 90,
   "id": "8ea41992",
   "metadata": {},
   "outputs": [
    {
     "name": "stdout",
     "output_type": "stream",
     "text": [
      "hint: any, ~\n"
     ]
    }
   ],
   "source": [
    "hint(60)"
   ]
  },
  {
   "cell_type": "code",
   "execution_count": 97,
   "id": "ed0df868",
   "metadata": {},
   "outputs": [
    {
     "name": "stdout",
     "output_type": "stream",
     "text": [
      "# Author: Warren Weckesser\n",
      "\n",
      "# null : 0 \n",
      "Z = np.random.randint(0,3,(3,10))\n",
      "print((~Z.any(axis=0)).any())\n",
      "\n",
      "# null : np.nan\n",
      "Z=np.array([\n",
      "    [0,1,np.nan],\n",
      "    [1,2,np.nan],\n",
      "    [4,5,np.nan]\n",
      "])\n",
      "print(np.isnan(Z).all(axis=0))\n"
     ]
    }
   ],
   "source": [
    "answer(60)"
   ]
  },
  {
   "cell_type": "code",
   "execution_count": 5,
   "id": "637a7650",
   "metadata": {},
   "outputs": [
    {
     "data": {
      "text/plain": [
       "array([False, False, False, False, False, False, False, False, False,\n",
       "       False])"
      ]
     },
     "execution_count": 5,
     "metadata": {},
     "output_type": "execute_result"
    }
   ],
   "source": [
    "Z = np.random.randint(0,3,(3,10))\n",
    "np.isnan(Z).all(axis=0)"
   ]
  },
  {
   "cell_type": "markdown",
   "id": "5a65c7a2",
   "metadata": {},
   "source": [
    "#### 61. *Find the nearest value from a given value in an array (★★☆)"
   ]
  },
  {
   "cell_type": "code",
   "execution_count": 28,
   "id": "73f149d6",
   "metadata": {},
   "outputs": [
    {
     "data": {
      "text/plain": [
       "(np.float64(0.9507143064099162), np.float64(0.9507143064099162))"
      ]
     },
     "execution_count": 28,
     "metadata": {},
     "output_type": "execute_result"
    }
   ],
   "source": [
    "k = 7\n",
    "np.random.seed(42)\n",
    "Z = np.random.uniform(0,1,10)\n",
    "Z[np.argmin(np.abs(Z - k))], Z.flat[np.abs(Z - k).argmin()]"
   ]
  },
  {
   "cell_type": "code",
   "execution_count": 10,
   "id": "c68f833a",
   "metadata": {},
   "outputs": [
    {
     "name": "stdout",
     "output_type": "stream",
     "text": [
      "Z = np.random.uniform(0,1,10)\n",
      "z = 0.5\n",
      "m = Z.flat[np.abs(Z - z).argmin()]\n",
      "print(m)\n"
     ]
    }
   ],
   "source": [
    "answer(61)"
   ]
  },
  {
   "cell_type": "markdown",
   "id": "dd83e8af",
   "metadata": {},
   "source": [
    "#### 62. !Considering two arrays with shape (1,3) and (3,1), how to compute their sum using an iterator? (★★☆)"
   ]
  },
  {
   "cell_type": "code",
   "execution_count": 31,
   "id": "fe4283a2",
   "metadata": {},
   "outputs": [
    {
     "name": "stdout",
     "output_type": "stream",
     "text": [
      " nditer()\n",
      "\n",
      "nditer(op, flags=None, op_flags=None, op_dtypes=None, order='K',\n",
      "    casting='safe', op_axes=None, itershape=None, buffersize=0)\n",
      "\n",
      "Efficient multi-dimensional iterator object to iterate over arrays.\n",
      "To get started using this object, see the\n",
      ":ref:`introductory guide to array iteration <arrays.nditer>`.\n",
      "\n",
      "Parameters\n",
      "----------\n",
      "op : ndarray or sequence of array_like\n",
      "    The array(s) to iterate over.\n",
      "\n",
      "flags : sequence of str, optional\n",
      "      Flags to control the behavior of the iterator.\n",
      "\n",
      "      * ``buffered`` enables buffering when required.\n",
      "      * ``c_index`` causes a C-order index to be tracked.\n",
      "      * ``f_index`` causes a Fortran-order index to be tracked.\n",
      "      * ``multi_index`` causes a multi-index, or a tuple of indices\n",
      "        with one per iteration dimension, to be tracked.\n",
      "      * ``common_dtype`` causes all the operands to be converted to\n",
      "        a common data type, with copying or buffering as necessary.\n",
      "      * ``copy_if_overlap`` causes the iterator to determine if read\n",
      "        operands have overlap with write operands, and make temporary\n",
      "        copies as necessary to avoid overlap. False positives (needless\n",
      "        copying) are possible in some cases.\n",
      "      * ``delay_bufalloc`` delays allocation of the buffers until\n",
      "        a reset() call is made. Allows ``allocate`` operands to\n",
      "        be initialized before their values are copied into the buffers.\n",
      "      * ``external_loop`` causes the ``values`` given to be\n",
      "        one-dimensional arrays with multiple values instead of\n",
      "        zero-dimensional arrays.\n",
      "      * ``grow_inner`` allows the ``value`` array sizes to be made\n",
      "        larger than the buffer size when both ``buffered`` and\n",
      "        ``external_loop`` is used.\n",
      "      * ``ranged`` allows the iterator to be restricted to a sub-range\n",
      "        of the iterindex values.\n",
      "      * ``refs_ok`` enables iteration of reference types, such as\n",
      "        object arrays.\n",
      "      * ``reduce_ok`` enables iteration of ``readwrite`` operands\n",
      "        which are broadcasted, also known as reduction operands.\n",
      "      * ``zerosize_ok`` allows `itersize` to be zero.\n",
      "op_flags : list of list of str, optional\n",
      "      This is a list of flags for each operand. At minimum, one of\n",
      "      ``readonly``, ``readwrite``, or ``writeonly`` must be specified.\n",
      "\n",
      "      * ``readonly`` indicates the operand will only be read from.\n",
      "      * ``readwrite`` indicates the operand will be read from and written to.\n",
      "      * ``writeonly`` indicates the operand will only be written to.\n",
      "      * ``no_broadcast`` prevents the operand from being broadcasted.\n",
      "      * ``contig`` forces the operand data to be contiguous.\n",
      "      * ``aligned`` forces the operand data to be aligned.\n",
      "      * ``nbo`` forces the operand data to be in native byte order.\n",
      "      * ``copy`` allows a temporary read-only copy if required.\n",
      "      * ``updateifcopy`` allows a temporary read-write copy if required.\n",
      "      * ``allocate`` causes the array to be allocated if it is None\n",
      "        in the ``op`` parameter.\n",
      "      * ``no_subtype`` prevents an ``allocate`` operand from using a subtype.\n",
      "      * ``arraymask`` indicates that this operand is the mask to use\n",
      "        for selecting elements when writing to operands with the\n",
      "        'writemasked' flag set. The iterator does not enforce this,\n",
      "        but when writing from a buffer back to the array, it only\n",
      "        copies those elements indicated by this mask.\n",
      "      * ``writemasked`` indicates that only elements where the chosen\n",
      "        ``arraymask`` operand is True will be written to.\n",
      "      * ``overlap_assume_elementwise`` can be used to mark operands that are\n",
      "        accessed only in the iterator order, to allow less conservative\n",
      "        copying when ``copy_if_overlap`` is present.\n",
      "op_dtypes : dtype or tuple of dtype(s), optional\n",
      "    The required data type(s) of the operands. If copying or buffering\n",
      "    is enabled, the data will be converted to/from their original types.\n",
      "order : {'C', 'F', 'A', 'K'}, optional\n",
      "    Controls the iteration order. 'C' means C order, 'F' means\n",
      "    Fortran order, 'A' means 'F' order if all the arrays are Fortran\n",
      "    contiguous, 'C' order otherwise, and 'K' means as close to the\n",
      "    order the array elements appear in memory as possible. This also\n",
      "    affects the element memory order of ``allocate`` operands, as they\n",
      "    are allocated to be compatible with iteration order.\n",
      "    Default is 'K'.\n",
      "casting : {'no', 'equiv', 'safe', 'same_kind', 'unsafe'}, optional\n",
      "    Controls what kind of data casting may occur when making a copy\n",
      "    or buffering.  Setting this to 'unsafe' is not recommended,\n",
      "    as it can adversely affect accumulations.\n",
      "\n",
      "    * 'no' means the data types should not be cast at all.\n",
      "    * 'equiv' means only byte-order changes are allowed.\n",
      "    * 'safe' means only casts which can preserve values are allowed.\n",
      "    * 'same_kind' means only safe casts or casts within a kind,\n",
      "      like float64 to float32, are allowed.\n",
      "    * 'unsafe' means any data conversions may be done.\n",
      "op_axes : list of list of ints, optional\n",
      "    If provided, is a list of ints or None for each operands.\n",
      "    The list of axes for an operand is a mapping from the dimensions\n",
      "    of the iterator to the dimensions of the operand. A value of\n",
      "    -1 can be placed for entries, causing that dimension to be\n",
      "    treated as `newaxis`.\n",
      "itershape : tuple of ints, optional\n",
      "    The desired shape of the iterator. This allows ``allocate`` operands\n",
      "    with a dimension mapped by op_axes not corresponding to a dimension\n",
      "    of a different operand to get a value not equal to 1 for that\n",
      "    dimension.\n",
      "buffersize : int, optional\n",
      "    When buffering is enabled, controls the size of the temporary\n",
      "    buffers. Set to 0 for the default value.\n",
      "\n",
      "Attributes\n",
      "----------\n",
      "dtypes : tuple of dtype(s)\n",
      "    The data types of the values provided in `value`. This may be\n",
      "    different from the operand data types if buffering is enabled.\n",
      "    Valid only before the iterator is closed.\n",
      "finished : bool\n",
      "    Whether the iteration over the operands is finished or not.\n",
      "has_delayed_bufalloc : bool\n",
      "    If True, the iterator was created with the ``delay_bufalloc`` flag,\n",
      "    and no reset() function was called on it yet.\n",
      "has_index : bool\n",
      "    If True, the iterator was created with either the ``c_index`` or\n",
      "    the ``f_index`` flag, and the property `index` can be used to\n",
      "    retrieve it.\n",
      "has_multi_index : bool\n",
      "    If True, the iterator was created with the ``multi_index`` flag,\n",
      "    and the property `multi_index` can be used to retrieve it.\n",
      "index\n",
      "    When the ``c_index`` or ``f_index`` flag was used, this property\n",
      "    provides access to the index. Raises a ValueError if accessed\n",
      "    and ``has_index`` is False.\n",
      "iterationneedsapi : bool\n",
      "    Whether iteration requires access to the Python API, for example\n",
      "    if one of the operands is an object array.\n",
      "iterindex : int\n",
      "    An index which matches the order of iteration.\n",
      "itersize : int\n",
      "    Size of the iterator.\n",
      "itviews\n",
      "    Structured view(s) of `operands` in memory, matching the reordered\n",
      "    and optimized iterator access pattern. Valid only before the iterator\n",
      "    is closed.\n",
      "multi_index\n",
      "    When the ``multi_index`` flag was used, this property\n",
      "    provides access to the index. Raises a ValueError if accessed\n",
      "    accessed and ``has_multi_index`` is False.\n",
      "ndim : int\n",
      "    The dimensions of the iterator.\n",
      "nop : int\n",
      "    The number of iterator operands.\n",
      "operands : tuple of operand(s)\n",
      "    The array(s) to be iterated over. Valid only before the iterator is\n",
      "    closed.\n",
      "shape : tuple of ints\n",
      "    Shape tuple, the shape of the iterator.\n",
      "value\n",
      "    Value of ``operands`` at current iteration. Normally, this is a\n",
      "    tuple of array scalars, but if the flag ``external_loop`` is used,\n",
      "    it is a tuple of one dimensional arrays.\n",
      "\n",
      "Notes\n",
      "-----\n",
      "`nditer` supersedes `flatiter`.  The iterator implementation behind\n",
      "`nditer` is also exposed by the NumPy C API.\n",
      "\n",
      "The Python exposure supplies two iteration interfaces, one which follows\n",
      "the Python iterator protocol, and another which mirrors the C-style\n",
      "do-while pattern.  The native Python approach is better in most cases, but\n",
      "if you need the coordinates or index of an iterator, use the C-style pattern.\n",
      "\n",
      "Examples\n",
      "--------\n",
      "Here is how we might write an ``iter_add`` function, using the\n",
      "Python iterator protocol:\n",
      "\n",
      ">>> def iter_add_py(x, y, out=None):\n",
      "...     addop = np.add\n",
      "...     it = np.nditer([x, y, out], [],\n",
      "...                 [['readonly'], ['readonly'], ['writeonly','allocate']])\n",
      "...     with it:\n",
      "...         for (a, b, c) in it:\n",
      "...             addop(a, b, out=c)\n",
      "...         return it.operands[2]\n",
      "\n",
      "Here is the same function, but following the C-style pattern:\n",
      "\n",
      ">>> def iter_add(x, y, out=None):\n",
      "...    addop = np.add\n",
      "...    it = np.nditer([x, y, out], [],\n",
      "...                [['readonly'], ['readonly'], ['writeonly','allocate']])\n",
      "...    with it:\n",
      "...        while not it.finished:\n",
      "...            addop(it[0], it[1], out=it[2])\n",
      "...            it.iternext()\n",
      "...        return it.operands[2]\n",
      "\n",
      "Here is an example outer product function:\n",
      "\n",
      ">>> def outer_it(x, y, out=None):\n",
      "...     mulop = np.multiply\n",
      "...     it = np.nditer([x, y, out], ['external_loop'],\n",
      "...             [['readonly'], ['readonly'], ['writeonly', 'allocate']],\n",
      "...             op_axes=[list(range(x.ndim)) + [-1] * y.ndim,\n",
      "...                      [-1] * x.ndim + list(range(y.ndim)),\n",
      "...                      None])\n",
      "...     with it:\n",
      "...         for (a, b, c) in it:\n",
      "...             mulop(a, b, out=c)\n",
      "...         return it.operands[2]\n",
      "\n",
      ">>> a = np.arange(2)+1\n",
      ">>> b = np.arange(3)+1\n",
      ">>> outer_it(a,b)\n",
      "array([[1, 2, 3],\n",
      "       [2, 4, 6]])\n",
      "\n",
      "Here is an example function which operates like a \"lambda\" ufunc:\n",
      "\n",
      ">>> def luf(lamdaexpr, *args, **kwargs):\n",
      "...    '''luf(lambdaexpr, op1, ..., opn, out=None, order='K', casting='safe', buffersize=0)'''\n",
      "...    nargs = len(args)\n",
      "...    op = (kwargs.get('out',None),) + args\n",
      "...    it = np.nditer(op, ['buffered','external_loop'],\n",
      "...            [['writeonly','allocate','no_broadcast']] +\n",
      "...                            [['readonly','nbo','aligned']]*nargs,\n",
      "...            order=kwargs.get('order','K'),\n",
      "...            casting=kwargs.get('casting','safe'),\n",
      "...            buffersize=kwargs.get('buffersize',0))\n",
      "...    while not it.finished:\n",
      "...        it[0] = lamdaexpr(*it[1:])\n",
      "...        it.iternext()\n",
      "...    return it.operands[0]\n",
      "\n",
      ">>> a = np.arange(5)\n",
      ">>> b = np.ones(5)\n",
      ">>> luf(lambda i,j:i*i + j/2, a, b)\n",
      "array([  0.5,   1.5,   4.5,   9.5,  16.5])\n",
      "\n",
      "If operand flags ``\"writeonly\"`` or ``\"readwrite\"`` are used the\n",
      "operands may be views into the original data with the\n",
      "`WRITEBACKIFCOPY` flag. In this case `nditer` must be used as a\n",
      "context manager or the `nditer.close` method must be called before\n",
      "using the result. The temporary data will be written back to the\n",
      "original data when the :meth:`~object.__exit__` function is called\n",
      "but not before:\n",
      "\n",
      ">>> a = np.arange(6, dtype='i4')[::-2]\n",
      ">>> with np.nditer(a, [],\n",
      "...        [['writeonly', 'updateifcopy']],\n",
      "...        casting='unsafe',\n",
      "...        op_dtypes=[np.dtype('f4')]) as i:\n",
      "...    x = i.operands[0]\n",
      "...    x[:] = [-1, -2, -3]\n",
      "...    # a still unchanged here\n",
      ">>> a, x\n",
      "(array([-1, -2, -3], dtype=int32), array([-1., -2., -3.], dtype=float32))\n",
      "\n",
      "It is important to note that once the iterator is exited, dangling\n",
      "references (like `x` in the example) may or may not share data with\n",
      "the original data `a`. If writeback semantics were active, i.e. if\n",
      "`x.base.flags.writebackifcopy` is `True`, then exiting the iterator\n",
      "will sever the connection between `x` and `a`, writing to `x` will\n",
      "no longer write to `a`. If writeback semantics are not active, then\n",
      "`x.data` will still point at some part of `a.data`, and writing to\n",
      "one will affect the other.\n",
      "\n",
      "Context management and the `close` method appeared in version 1.15.0.\n",
      "\n",
      "\n",
      "Methods:\n",
      "\n",
      "  close  --  close()\n",
      "  copy  --  copy()\n",
      "  debug_print  --  debug_print()\n",
      "  enable_external_loop  --  enable_external_loop()\n",
      "  iternext  --  iternext()\n",
      "  remove_axis  --  remove_axis(i, /)\n",
      "  remove_multi_index  --  remove_multi_index()\n",
      "  reset  --  reset()\n"
     ]
    }
   ],
   "source": [
    "np.info(np.nditer)"
   ]
  },
  {
   "cell_type": "code",
   "execution_count": 32,
   "id": "3b9e5a49",
   "metadata": {},
   "outputs": [
    {
     "name": "stdout",
     "output_type": "stream",
     "text": [
      "A = np.arange(3).reshape(3,1)\n",
      "B = np.arange(3).reshape(1,3)\n",
      "it = np.nditer([A,B,None])\n",
      "for x,y,z in it: z[...] = x + y\n",
      "print(it.operands[2])\n"
     ]
    }
   ],
   "source": [
    "answer(62)"
   ]
  },
  {
   "cell_type": "code",
   "execution_count": 33,
   "id": "f7bab02a",
   "metadata": {},
   "outputs": [
    {
     "name": "stdout",
     "output_type": "stream",
     "text": [
      "[[0 1 2]\n",
      " [1 2 3]\n",
      " [2 3 4]]\n"
     ]
    }
   ],
   "source": [
    "A = np.arange(3).reshape(3,1)\n",
    "B = np.arange(3).reshape(1,3)\n",
    "it = np.nditer([A,B,None])\n",
    "for x,y,z in it: z[...] = x + y\n",
    "print(it.operands[2])"
   ]
  },
  {
   "cell_type": "markdown",
   "id": "6c042efa",
   "metadata": {},
   "source": [
    "#### 63. Create an array class that has a name attribute (★★☆)"
   ]
  },
  {
   "cell_type": "code",
   "execution_count": null,
   "id": "45b3d2e0",
   "metadata": {},
   "outputs": [],
   "source": []
  },
  {
   "cell_type": "markdown",
   "id": "0a075c3d",
   "metadata": {},
   "source": [
    "#### 64. Consider a given vector, how to add 1 to each element indexed by a second vector (be careful with repeated indices)? (★★★)"
   ]
  },
  {
   "cell_type": "code",
   "execution_count": null,
   "id": "36c50470",
   "metadata": {},
   "outputs": [],
   "source": []
  },
  {
   "cell_type": "markdown",
   "id": "0fb2f0c5",
   "metadata": {},
   "source": [
    "#### 65. How to accumulate elements of a vector (X) to an array (F) based on an index list (I)? (★★★)"
   ]
  },
  {
   "cell_type": "code",
   "execution_count": null,
   "id": "58aa5f82",
   "metadata": {},
   "outputs": [],
   "source": []
  },
  {
   "cell_type": "markdown",
   "id": "d89dc506",
   "metadata": {},
   "source": [
    "#### 66. Considering a (w,h,3) image of (dtype=ubyte), compute the number of unique colors (★★☆)"
   ]
  },
  {
   "cell_type": "code",
   "execution_count": null,
   "id": "8fb43a49",
   "metadata": {},
   "outputs": [],
   "source": []
  },
  {
   "cell_type": "markdown",
   "id": "535a5d81",
   "metadata": {},
   "source": [
    "#### 67. Considering a four dimensions array, how to get sum over the last two axis at once? (★★★)"
   ]
  },
  {
   "cell_type": "code",
   "execution_count": null,
   "id": "f954ab9d",
   "metadata": {},
   "outputs": [],
   "source": []
  },
  {
   "cell_type": "markdown",
   "id": "eee66d3c",
   "metadata": {},
   "source": [
    "#### 68. Considering a one-dimensional vector D, how to compute means of subsets of D using a vector S of same size describing subset  indices? (★★★)"
   ]
  },
  {
   "cell_type": "code",
   "execution_count": null,
   "id": "8929773a",
   "metadata": {},
   "outputs": [],
   "source": []
  },
  {
   "cell_type": "markdown",
   "id": "f90d4c40",
   "metadata": {},
   "source": [
    "#### 69. How to get the diagonal of a dot product? (★★★)"
   ]
  },
  {
   "cell_type": "code",
   "execution_count": null,
   "id": "b47d392d",
   "metadata": {},
   "outputs": [],
   "source": []
  },
  {
   "cell_type": "markdown",
   "id": "a8a97e7d",
   "metadata": {},
   "source": [
    "#### 70. Consider the vector [1, 2, 3, 4, 5], how to build a new vector with 3 consecutive zeros interleaved between each value? (★★★)"
   ]
  },
  {
   "cell_type": "code",
   "execution_count": null,
   "id": "ee6c6c37",
   "metadata": {},
   "outputs": [],
   "source": []
  },
  {
   "cell_type": "markdown",
   "id": "d6a30d60",
   "metadata": {},
   "source": [
    "#### 71. Consider an array of dimension (5,5,3), how to mulitply it by an array with dimensions (5,5)? (★★★)"
   ]
  },
  {
   "cell_type": "code",
   "execution_count": null,
   "id": "e9703f2e",
   "metadata": {},
   "outputs": [],
   "source": []
  },
  {
   "cell_type": "markdown",
   "id": "bac359a9",
   "metadata": {},
   "source": [
    "#### 72. How to swap two rows of an array? (★★★)"
   ]
  },
  {
   "cell_type": "code",
   "execution_count": null,
   "id": "f1b432b1",
   "metadata": {},
   "outputs": [],
   "source": []
  },
  {
   "cell_type": "markdown",
   "id": "620c9f83",
   "metadata": {},
   "source": [
    "#### 73. Consider a set of 10 triplets describing 10 triangles (with shared vertices), find the set of unique line segments composing all the  triangles (★★★)"
   ]
  },
  {
   "cell_type": "code",
   "execution_count": null,
   "id": "4e595ffc",
   "metadata": {},
   "outputs": [],
   "source": []
  },
  {
   "cell_type": "markdown",
   "id": "a76c55a2",
   "metadata": {},
   "source": [
    "#### 74. Given a sorted array C that corresponds to a bincount, how to produce an array A such that np.bincount(A) == C? (★★★)"
   ]
  },
  {
   "cell_type": "code",
   "execution_count": null,
   "id": "2d2ae65a",
   "metadata": {},
   "outputs": [],
   "source": []
  },
  {
   "cell_type": "markdown",
   "id": "d550c8e2",
   "metadata": {},
   "source": [
    "#### 75. How to compute averages using a sliding window over an array? (★★★)"
   ]
  },
  {
   "cell_type": "code",
   "execution_count": null,
   "id": "841c457c",
   "metadata": {},
   "outputs": [],
   "source": []
  },
  {
   "cell_type": "markdown",
   "id": "6b170b00",
   "metadata": {},
   "source": [
    "#### 76. Consider a one-dimensional array Z, build a two-dimensional array whose first row is (Z[0],Z[1],Z[2]) and each subsequent row is  shifted by 1 (last row should be (Z[-3],Z[-2],Z[-1]) (★★★)"
   ]
  },
  {
   "cell_type": "code",
   "execution_count": null,
   "id": "d9a0cf4e",
   "metadata": {},
   "outputs": [],
   "source": []
  },
  {
   "cell_type": "markdown",
   "id": "e94a5c1d",
   "metadata": {},
   "source": [
    "#### 77. How to negate a boolean, or to change the sign of a float inplace? (★★★)"
   ]
  },
  {
   "cell_type": "code",
   "execution_count": null,
   "id": "c0f9504f",
   "metadata": {},
   "outputs": [],
   "source": []
  },
  {
   "cell_type": "markdown",
   "id": "4eb8b5c1",
   "metadata": {},
   "source": [
    "#### 78. Consider 2 sets of points P0,P1 describing lines (2d) and a point p, how to compute distance from p to each line i (P0[i],P1[i])? (★★★)"
   ]
  },
  {
   "cell_type": "code",
   "execution_count": null,
   "id": "487f47ec",
   "metadata": {},
   "outputs": [],
   "source": []
  },
  {
   "cell_type": "markdown",
   "id": "3df99948",
   "metadata": {},
   "source": [
    "#### 79. Consider 2 sets of points P0,P1 describing lines (2d) and a set of points P, how to compute distance from each point j (P[j]) to each line i (P0[i],P1[i])? (★★★)"
   ]
  },
  {
   "cell_type": "code",
   "execution_count": null,
   "id": "dc2df37b",
   "metadata": {},
   "outputs": [],
   "source": []
  },
  {
   "cell_type": "markdown",
   "id": "11e972c2",
   "metadata": {},
   "source": [
    "#### 80. Consider an arbitrary array, write a function that extract a subpart with a fixed shape and centered on a given element (pad with a `fill` value when necessary) (★★★)"
   ]
  },
  {
   "cell_type": "code",
   "execution_count": null,
   "id": "0291247f",
   "metadata": {},
   "outputs": [],
   "source": []
  },
  {
   "cell_type": "markdown",
   "id": "93cfeab3",
   "metadata": {},
   "source": [
    "#### 81. Consider an array Z = [1,2,3,4,5,6,7,8,9,10,11,12,13,14], how to generate an array R = [[1,2,3,4], [2,3,4,5], [3,4,5,6], ..., [11,12,13,14]]? (★★★)"
   ]
  },
  {
   "cell_type": "code",
   "execution_count": null,
   "id": "360de791",
   "metadata": {},
   "outputs": [],
   "source": []
  },
  {
   "cell_type": "markdown",
   "id": "4c15ceff",
   "metadata": {},
   "source": [
    "#### 82. Compute a matrix rank (★★★)"
   ]
  },
  {
   "cell_type": "code",
   "execution_count": null,
   "id": "9a4272d2",
   "metadata": {},
   "outputs": [],
   "source": []
  },
  {
   "cell_type": "markdown",
   "id": "1171cb84",
   "metadata": {},
   "source": [
    "#### 83. How to find the most frequent value in an array?"
   ]
  },
  {
   "cell_type": "code",
   "execution_count": null,
   "id": "33e951c8",
   "metadata": {},
   "outputs": [],
   "source": []
  },
  {
   "cell_type": "markdown",
   "id": "04f472aa",
   "metadata": {},
   "source": [
    "#### 84. Extract all the contiguous 3x3 blocks from a random 10x10 matrix (★★★)"
   ]
  },
  {
   "cell_type": "code",
   "execution_count": null,
   "id": "7aade14a",
   "metadata": {},
   "outputs": [],
   "source": []
  },
  {
   "cell_type": "markdown",
   "id": "52836346",
   "metadata": {},
   "source": [
    "#### 85. Create a 2D array subclass such that Z[i,j] == Z[j,i] (★★★)"
   ]
  },
  {
   "cell_type": "code",
   "execution_count": null,
   "id": "4df70318",
   "metadata": {},
   "outputs": [],
   "source": []
  },
  {
   "cell_type": "markdown",
   "id": "78c43ee5",
   "metadata": {},
   "source": [
    "#### 86. Consider a set of p matrices with shape (n,n) and a set of p vectors with shape (n,1). How to compute the sum of of the p matrix products at once? (result has shape (n,1)) (★★★)"
   ]
  },
  {
   "cell_type": "code",
   "execution_count": null,
   "id": "32fd2c3b",
   "metadata": {},
   "outputs": [],
   "source": []
  },
  {
   "cell_type": "markdown",
   "id": "158f9945",
   "metadata": {},
   "source": [
    "#### 87. Consider a 16x16 array, how to get the block-sum (block size is 4x4)? (★★★)"
   ]
  },
  {
   "cell_type": "code",
   "execution_count": null,
   "id": "5a9b808f",
   "metadata": {},
   "outputs": [],
   "source": []
  },
  {
   "cell_type": "markdown",
   "id": "2e0ad860",
   "metadata": {},
   "source": [
    "#### 88. How to implement the Game of Life using numpy arrays? (★★★)"
   ]
  },
  {
   "cell_type": "code",
   "execution_count": null,
   "id": "574acff5",
   "metadata": {},
   "outputs": [],
   "source": []
  },
  {
   "cell_type": "markdown",
   "id": "69a892fa",
   "metadata": {},
   "source": [
    "#### 89. How to get the n largest values of an array (★★★)"
   ]
  },
  {
   "cell_type": "code",
   "execution_count": null,
   "id": "21b2bd48",
   "metadata": {},
   "outputs": [],
   "source": []
  },
  {
   "cell_type": "markdown",
   "id": "b55ccacc",
   "metadata": {},
   "source": [
    "#### 90. Given an arbitrary number of vectors, build the cartesian product (every combinations of every item) (★★★)"
   ]
  },
  {
   "cell_type": "code",
   "execution_count": null,
   "id": "4b645da4",
   "metadata": {},
   "outputs": [],
   "source": []
  },
  {
   "cell_type": "markdown",
   "id": "89187a23",
   "metadata": {},
   "source": [
    "#### 91. How to create a record array from a regular array? (★★★)"
   ]
  },
  {
   "cell_type": "code",
   "execution_count": null,
   "id": "da94c71a",
   "metadata": {},
   "outputs": [],
   "source": []
  },
  {
   "cell_type": "markdown",
   "id": "aa70d4ca",
   "metadata": {},
   "source": [
    "#### 92. Consider a large vector Z, compute Z to the power of 3 using 3 different methods (★★★)"
   ]
  },
  {
   "cell_type": "code",
   "execution_count": null,
   "id": "7cff1bf5",
   "metadata": {},
   "outputs": [],
   "source": []
  },
  {
   "cell_type": "markdown",
   "id": "5f79dd00",
   "metadata": {},
   "source": [
    "#### 93. Consider two arrays A and B of shape (8,3) and (2,2). How to find rows of A that contain elements of each row of B regardless of the order of the elements in B? (★★★)"
   ]
  },
  {
   "cell_type": "code",
   "execution_count": null,
   "id": "20c105b2",
   "metadata": {},
   "outputs": [],
   "source": []
  },
  {
   "cell_type": "markdown",
   "id": "a80570cd",
   "metadata": {},
   "source": [
    "#### 94. Considering a 10x3 matrix, extract rows with unequal values (e.g. [2,2,3]) (★★★)"
   ]
  },
  {
   "cell_type": "code",
   "execution_count": null,
   "id": "84db8de1",
   "metadata": {},
   "outputs": [],
   "source": []
  },
  {
   "cell_type": "markdown",
   "id": "ba154f43",
   "metadata": {},
   "source": [
    "#### 95. Convert a vector of ints into a matrix binary representation (★★★)"
   ]
  },
  {
   "cell_type": "code",
   "execution_count": null,
   "id": "cfa96e1b",
   "metadata": {},
   "outputs": [],
   "source": []
  },
  {
   "cell_type": "markdown",
   "id": "420e2343",
   "metadata": {},
   "source": [
    "#### 96. Given a two dimensional array, how to extract unique rows? (★★★)"
   ]
  },
  {
   "cell_type": "code",
   "execution_count": null,
   "id": "4680dfd0",
   "metadata": {},
   "outputs": [],
   "source": []
  },
  {
   "cell_type": "markdown",
   "id": "89fef2f3",
   "metadata": {},
   "source": [
    "#### 97. Considering 2 vectors A & B, write the einsum equivalent of inner, outer, sum, and mul function (★★★)"
   ]
  },
  {
   "cell_type": "code",
   "execution_count": null,
   "id": "bb9c14b2",
   "metadata": {},
   "outputs": [],
   "source": []
  },
  {
   "cell_type": "markdown",
   "id": "7ad5cc5f",
   "metadata": {},
   "source": [
    "#### 98. Considering a path described by two vectors (X,Y), how to sample it using equidistant samples (★★★)?"
   ]
  },
  {
   "cell_type": "code",
   "execution_count": null,
   "id": "0899d1d5",
   "metadata": {},
   "outputs": [],
   "source": []
  },
  {
   "cell_type": "markdown",
   "id": "2b69272e",
   "metadata": {},
   "source": [
    "#### 99. Given an integer n and a 2D array X, select from X the rows which can be interpreted as draws from a multinomial distribution with n degrees, i.e., the rows which only contain integers and which sum to n. (★★★)"
   ]
  },
  {
   "cell_type": "code",
   "execution_count": null,
   "id": "55c8b034",
   "metadata": {},
   "outputs": [],
   "source": []
  },
  {
   "cell_type": "markdown",
   "id": "59ab5516",
   "metadata": {},
   "source": [
    "#### 100. Compute bootstrapped 95% confidence intervals for the mean of a 1D array X (i.e., resample the elements of an array with replacement N times, compute the mean of each sample, and then compute percentiles over the means). (★★★)"
   ]
  },
  {
   "cell_type": "code",
   "execution_count": null,
   "id": "450877d8",
   "metadata": {},
   "outputs": [],
   "source": []
  }
 ],
 "metadata": {
  "kernelspec": {
   "display_name": ".venv",
   "language": "python",
   "name": "python3"
  },
  "language_info": {
   "codemirror_mode": {
    "name": "ipython",
    "version": 3
   },
   "file_extension": ".py",
   "mimetype": "text/x-python",
   "name": "python",
   "nbconvert_exporter": "python",
   "pygments_lexer": "ipython3",
   "version": "3.11.6"
  }
 },
 "nbformat": 4,
 "nbformat_minor": 5
}
